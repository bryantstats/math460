{
 "cells": [
  {
   "cell_type": "markdown",
   "metadata": {
    "tags": []
   },
   "source": [
    "# Decision Trees - Regression\n",
    "\n",
    "**Installation**:  You will need to install python and jupyter.  The easiest way is to install the package `Anaconda` as follows. \n",
    "\n",
    "- Download Anaconda from [this link](https://www.anaconda.com/download)\n",
    "- Install Anaconda from the downloaded file\n",
    "- Open Jupyter Lab by \n",
    "\n",
    "    - (1) Click to the Start Windows Logo and Type in Anconda Promp.  Open Anaconda Promp\n",
    "    - (2) In Anaconda Promp, type in: `jupyter lab` and hit Enter\n",
    " \n",
    " \n",
    " \n",
    "- Install the `graphviz` package\n",
    "    - Open Anaconda Prompt. \n",
    "    - Type in: `conda install python-graphviz`\n",
    "\n",
    "**Data**: The data should be in the same folder as the notebook.\n"
   ]
  },
  {
   "cell_type": "markdown",
   "metadata": {},
   "source": [
    "# 1. An example of training a decision tree"
   ]
  },
  {
   "cell_type": "markdown",
   "metadata": {},
   "source": [
    "We will go over the above steps to train decision tree with the `titanic` dataset. Notice that these codes can be reused for other dataset. The codes for Step 1, 4, 5, 6, and 7 should be the same or at least similar when applied to other data.  Only Step 2 and Step 3 will be different from data to data. "
   ]
  },
  {
   "cell_type": "markdown",
   "metadata": {},
   "source": [
    "### Step 1: Import and Clean Data"
   ]
  },
  {
   "cell_type": "code",
   "execution_count": 1,
   "metadata": {},
   "outputs": [],
   "source": [
    "# import some packages\n",
    "import pandas as pd\n",
    "import numpy as np\n",
    "from sklearn import tree\n",
    "from sklearn import metrics"
   ]
  },
  {
   "cell_type": "code",
   "execution_count": 2,
   "metadata": {},
   "outputs": [],
   "source": [
    "# Import the data\n",
    "df = pd.read_csv('titanic.csv')"
   ]
  },
  {
   "cell_type": "code",
   "execution_count": 3,
   "metadata": {
    "tags": []
   },
   "outputs": [
    {
     "data": {
      "text/plain": [
       "Index(['PassengerId', 'Survived', 'Pclass', 'Name', 'Sex', 'Age', 'SibSp',\n",
       "       'Parch', 'Ticket', 'Fare', 'Cabin', 'Embarked'],\n",
       "      dtype='object')"
      ]
     },
     "execution_count": 3,
     "metadata": {},
     "output_type": "execute_result"
    }
   ],
   "source": [
    "# Check the variables\n",
    "df.columns"
   ]
  },
  {
   "cell_type": "markdown",
   "metadata": {},
   "source": [
    "#### Check and fix variable types"
   ]
  },
  {
   "cell_type": "code",
   "execution_count": 4,
   "metadata": {},
   "outputs": [
    {
     "data": {
      "text/plain": [
       "PassengerId      int64\n",
       "Survived         int64\n",
       "Pclass           int64\n",
       "Name            object\n",
       "Sex             object\n",
       "Age            float64\n",
       "SibSp            int64\n",
       "Parch            int64\n",
       "Ticket          object\n",
       "Fare           float64\n",
       "Cabin           object\n",
       "Embarked        object\n",
       "dtype: object"
      ]
     },
     "execution_count": 4,
     "metadata": {},
     "output_type": "execute_result"
    }
   ],
   "source": [
    "df.dtypes"
   ]
  },
  {
   "cell_type": "code",
   "execution_count": 5,
   "metadata": {},
   "outputs": [],
   "source": [
    "# Change Pclass and Survived to categorical variables\n",
    "df['Pclass'] = df['Pclass'].astype(object)\n",
    "df['Survived'] = df['Survived'].astype(object)"
   ]
  },
  {
   "cell_type": "markdown",
   "metadata": {},
   "source": [
    "### Step 2: Check and handle missing values"
   ]
  },
  {
   "cell_type": "code",
   "execution_count": 6,
   "metadata": {},
   "outputs": [
    {
     "data": {
      "text/plain": [
       "PassengerId      0\n",
       "Survived         0\n",
       "Pclass           0\n",
       "Name             0\n",
       "Sex              0\n",
       "Age            177\n",
       "SibSp            0\n",
       "Parch            0\n",
       "Ticket           0\n",
       "Fare             0\n",
       "Cabin          687\n",
       "Embarked         2\n",
       "dtype: int64"
      ]
     },
     "execution_count": 6,
     "metadata": {},
     "output_type": "execute_result"
    }
   ],
   "source": [
    "df.isna().sum()"
   ]
  },
  {
   "cell_type": "code",
   "execution_count": 7,
   "metadata": {},
   "outputs": [],
   "source": [
    "# Drop all rows with missing values in Age\n",
    "# df[df['Age'].notna()]\n",
    "\n",
    "df = df.dropna(subset=[\"Age\"])"
   ]
  },
  {
   "cell_type": "code",
   "execution_count": 8,
   "metadata": {},
   "outputs": [],
   "source": [
    "# Impute the Embarked variable\n",
    "df[\"Embarked\"] = df[\"Embarked\"].fillna(\"S\")"
   ]
  },
  {
   "cell_type": "markdown",
   "metadata": {},
   "source": [
    "#### Assign the input and output variable"
   ]
  },
  {
   "cell_type": "code",
   "execution_count": 9,
   "metadata": {
    "tags": []
   },
   "outputs": [],
   "source": [
    "# Assign input variables\n",
    "X = df.loc[:,['Pclass','Sex','Survived','Fare','Embarked','SibSp','Parch']]\n",
    "\n",
    "# Assign target variable\n",
    "y = df['Age']"
   ]
  },
  {
   "cell_type": "markdown",
   "metadata": {},
   "source": [
    "### Step 3: Encode Categorical Variables"
   ]
  },
  {
   "cell_type": "markdown",
   "metadata": {},
   "source": [
    "`sklearn` does not work directly with categorical variables. It requires the categorical variables to be encoded into numeric variables. There are multiple way to encode categorical variables.  Here, we implement the simplest way of encoding: `one-hot` encoding or `dummy` encoding. "
   ]
  },
  {
   "cell_type": "code",
   "execution_count": 10,
   "metadata": {
    "tags": []
   },
   "outputs": [
    {
     "name": "stderr",
     "output_type": "stream",
     "text": [
      "C:\\Users\\sonou\\anaconda3_fa22\\lib\\site-packages\\pandas\\core\\algorithms.py:798: FutureWarning: In a future version, the Index constructor will not infer numeric dtypes when passed object-dtype sequences (matching Series behavior)\n",
      "  uniques = Index(uniques)\n"
     ]
    }
   ],
   "source": [
    "# Encode categorical variable\n",
    "X = pd.get_dummies(X)"
   ]
  },
  {
   "cell_type": "markdown",
   "metadata": {},
   "source": [
    "### Step 4: Split the data into training and testing"
   ]
  },
  {
   "cell_type": "code",
   "execution_count": 11,
   "metadata": {
    "tags": []
   },
   "outputs": [],
   "source": [
    "from sklearn.model_selection import train_test_split\n",
    "\n",
    "x_train,x_test,y_train,y_test=train_test_split(X,y,test_size=0.15)"
   ]
  },
  {
   "cell_type": "markdown",
   "metadata": {},
   "source": [
    "### Step 5: Train a model"
   ]
  },
  {
   "cell_type": "code",
   "execution_count": 12,
   "metadata": {
    "tags": []
   },
   "outputs": [
    {
     "data": {
      "text/plain": [
       "DecisionTreeRegressor(max_leaf_nodes=5)"
      ]
     },
     "execution_count": 12,
     "metadata": {},
     "output_type": "execute_result"
    }
   ],
   "source": [
    "# Create a decision tree and train\n",
    "from sklearn.tree import DecisionTreeRegressor\n",
    "\n",
    "tree1 = DecisionTreeRegressor(criterion='squared_error', max_leaf_nodes=5)\n",
    "tree1.fit(x_train, y_train)"
   ]
  },
  {
   "cell_type": "markdown",
   "metadata": {},
   "source": [
    "#### Plot the tree"
   ]
  },
  {
   "cell_type": "code",
   "execution_count": 13,
   "metadata": {
    "tags": []
   },
   "outputs": [],
   "source": [
    "# conda install graphviz"
   ]
  },
  {
   "cell_type": "code",
   "execution_count": 14,
   "metadata": {
    "tags": []
   },
   "outputs": [
    {
     "data": {
      "image/svg+xml": [
       "<?xml version=\"1.0\" encoding=\"UTF-8\" standalone=\"no\"?>\n",
       "<!DOCTYPE svg PUBLIC \"-//W3C//DTD SVG 1.1//EN\"\n",
       " \"http://www.w3.org/Graphics/SVG/1.1/DTD/svg11.dtd\">\n",
       "<!-- Generated by graphviz version 2.38.0 (20140413.2041)\n",
       " -->\n",
       "<!-- Title: Tree Pages: 1 -->\n",
       "<svg width=\"766pt\" height=\"373pt\"\n",
       " viewBox=\"0.00 0.00 766.00 373.00\" xmlns=\"http://www.w3.org/2000/svg\" xmlns:xlink=\"http://www.w3.org/1999/xlink\">\n",
       "<g id=\"graph0\" class=\"graph\" transform=\"scale(1 1) rotate(0) translate(4 369)\">\n",
       "<title>Tree</title>\n",
       "<polygon fill=\"white\" stroke=\"none\" points=\"-4,4 -4,-369 762,-369 762,4 -4,4\"/>\n",
       "<!-- 0 -->\n",
       "<g id=\"node1\" class=\"node\"><title>0</title>\n",
       "<path fill=\"#eeac7d\" stroke=\"black\" d=\"M455,-365C455,-365 303,-365 303,-365 297,-365 291,-359 291,-353 291,-353 291,-309 291,-309 291,-303 297,-297 303,-297 303,-297 455,-297 455,-297 461,-297 467,-303 467,-309 467,-309 467,-353 467,-353 467,-359 461,-365 455,-365\"/>\n",
       "<text text-anchor=\"start\" x=\"331.5\" y=\"-349.8\" font-family=\"Helvetica,sans-Serif\" font-size=\"14.00\">Pclass_1 ≤ 0.5</text>\n",
       "<text text-anchor=\"start\" x=\"299\" y=\"-334.8\" font-family=\"Helvetica,sans-Serif\" font-size=\"14.00\">squared_error = 214.462</text>\n",
       "<text text-anchor=\"start\" x=\"331.5\" y=\"-319.8\" font-family=\"Helvetica,sans-Serif\" font-size=\"14.00\">samples = 606</text>\n",
       "<text text-anchor=\"start\" x=\"332\" y=\"-304.8\" font-family=\"Helvetica,sans-Serif\" font-size=\"14.00\">value = 29.717</text>\n",
       "</g>\n",
       "<!-- 1 -->\n",
       "<g id=\"node2\" class=\"node\"><title>1</title>\n",
       "<path fill=\"#f1b991\" stroke=\"black\" d=\"M358,-261C358,-261 206,-261 206,-261 200,-261 194,-255 194,-249 194,-249 194,-205 194,-205 194,-199 200,-193 206,-193 206,-193 358,-193 358,-193 364,-193 370,-199 370,-205 370,-205 370,-249 370,-249 370,-255 364,-261 358,-261\"/>\n",
       "<text text-anchor=\"start\" x=\"245.5\" y=\"-245.8\" font-family=\"Helvetica,sans-Serif\" font-size=\"14.00\">Parch ≤ 0.5</text>\n",
       "<text text-anchor=\"start\" x=\"202\" y=\"-230.8\" font-family=\"Helvetica,sans-Serif\" font-size=\"14.00\">squared_error = 172.757</text>\n",
       "<text text-anchor=\"start\" x=\"234.5\" y=\"-215.8\" font-family=\"Helvetica,sans-Serif\" font-size=\"14.00\">samples = 451</text>\n",
       "<text text-anchor=\"start\" x=\"235\" y=\"-200.8\" font-family=\"Helvetica,sans-Serif\" font-size=\"14.00\">value = 26.541</text>\n",
       "</g>\n",
       "<!-- 0&#45;&gt;1 -->\n",
       "<g id=\"edge1\" class=\"edge\"><title>0&#45;&gt;1</title>\n",
       "<path fill=\"none\" stroke=\"black\" d=\"M347.507,-296.884C338.951,-287.887 329.588,-278.041 320.684,-268.678\"/>\n",
       "<polygon fill=\"black\" stroke=\"black\" points=\"323.095,-266.134 313.667,-261.299 318.022,-270.958 323.095,-266.134\"/>\n",
       "<text text-anchor=\"middle\" x=\"313.039\" y=\"-282.591\" font-family=\"Helvetica,sans-Serif\" font-size=\"14.00\">True</text>\n",
       "</g>\n",
       "<!-- 2 -->\n",
       "<g id=\"node7\" class=\"node\"><title>2</title>\n",
       "<path fill=\"#e68844\" stroke=\"black\" d=\"M552,-261C552,-261 400,-261 400,-261 394,-261 388,-255 388,-249 388,-249 388,-205 388,-205 388,-199 394,-193 400,-193 400,-193 552,-193 552,-193 558,-193 564,-199 564,-205 564,-205 564,-249 564,-249 564,-255 558,-261 552,-261\"/>\n",
       "<text text-anchor=\"start\" x=\"439.5\" y=\"-245.8\" font-family=\"Helvetica,sans-Serif\" font-size=\"14.00\">Parch ≤ 1.5</text>\n",
       "<text text-anchor=\"start\" x=\"396\" y=\"-230.8\" font-family=\"Helvetica,sans-Serif\" font-size=\"14.00\">squared_error = 221.065</text>\n",
       "<text text-anchor=\"start\" x=\"428.5\" y=\"-215.8\" font-family=\"Helvetica,sans-Serif\" font-size=\"14.00\">samples = 155</text>\n",
       "<text text-anchor=\"start\" x=\"429\" y=\"-200.8\" font-family=\"Helvetica,sans-Serif\" font-size=\"14.00\">value = 38.958</text>\n",
       "</g>\n",
       "<!-- 0&#45;&gt;2 -->\n",
       "<g id=\"edge6\" class=\"edge\"><title>0&#45;&gt;2</title>\n",
       "<path fill=\"none\" stroke=\"black\" d=\"M410.493,-296.884C419.049,-287.887 428.412,-278.041 437.316,-268.678\"/>\n",
       "<polygon fill=\"black\" stroke=\"black\" points=\"439.978,-270.958 444.333,-261.299 434.905,-266.134 439.978,-270.958\"/>\n",
       "<text text-anchor=\"middle\" x=\"444.961\" y=\"-282.591\" font-family=\"Helvetica,sans-Serif\" font-size=\"14.00\">False</text>\n",
       "</g>\n",
       "<!-- 3 -->\n",
       "<g id=\"node3\" class=\"node\"><title>3</title>\n",
       "<path fill=\"#eead7e\" stroke=\"black\" d=\"M164,-149.5C164,-149.5 12,-149.5 12,-149.5 6,-149.5 0,-143.5 0,-137.5 0,-137.5 0,-108.5 0,-108.5 0,-102.5 6,-96.5 12,-96.5 12,-96.5 164,-96.5 164,-96.5 170,-96.5 176,-102.5 176,-108.5 176,-108.5 176,-137.5 176,-137.5 176,-143.5 170,-149.5 164,-149.5\"/>\n",
       "<text text-anchor=\"start\" x=\"8\" y=\"-134.3\" font-family=\"Helvetica,sans-Serif\" font-size=\"14.00\">squared_error = 120.945</text>\n",
       "<text text-anchor=\"start\" x=\"40.5\" y=\"-119.3\" font-family=\"Helvetica,sans-Serif\" font-size=\"14.00\">samples = 328</text>\n",
       "<text text-anchor=\"start\" x=\"41\" y=\"-104.3\" font-family=\"Helvetica,sans-Serif\" font-size=\"14.00\">value = 29.515</text>\n",
       "</g>\n",
       "<!-- 1&#45;&gt;3 -->\n",
       "<g id=\"edge2\" class=\"edge\"><title>1&#45;&gt;3</title>\n",
       "<path fill=\"none\" stroke=\"black\" d=\"M219.014,-192.884C195.377,-180.456 168.655,-166.406 145.538,-154.252\"/>\n",
       "<polygon fill=\"black\" stroke=\"black\" points=\"147.018,-151.076 136.538,-149.52 143.76,-157.272 147.018,-151.076\"/>\n",
       "</g>\n",
       "<!-- 4 -->\n",
       "<g id=\"node4\" class=\"node\"><title>4</title>\n",
       "<path fill=\"#f7d8c2\" stroke=\"black\" d=\"M358,-157C358,-157 206,-157 206,-157 200,-157 194,-151 194,-145 194,-145 194,-101 194,-101 194,-95 200,-89 206,-89 206,-89 358,-89 358,-89 364,-89 370,-95 370,-101 370,-101 370,-145 370,-145 370,-151 364,-157 358,-157\"/>\n",
       "<text text-anchor=\"start\" x=\"244.5\" y=\"-141.8\" font-family=\"Helvetica,sans-Serif\" font-size=\"14.00\">SibSp ≤ 1.5</text>\n",
       "<text text-anchor=\"start\" x=\"202\" y=\"-126.8\" font-family=\"Helvetica,sans-Serif\" font-size=\"14.00\">squared_error = 224.408</text>\n",
       "<text text-anchor=\"start\" x=\"234.5\" y=\"-111.8\" font-family=\"Helvetica,sans-Serif\" font-size=\"14.00\">samples = 123</text>\n",
       "<text text-anchor=\"start\" x=\"235\" y=\"-96.8\" font-family=\"Helvetica,sans-Serif\" font-size=\"14.00\">value = 18.608</text>\n",
       "</g>\n",
       "<!-- 1&#45;&gt;4 -->\n",
       "<g id=\"edge3\" class=\"edge\"><title>1&#45;&gt;4</title>\n",
       "<path fill=\"none\" stroke=\"black\" d=\"M282,-192.884C282,-184.778 282,-175.982 282,-167.472\"/>\n",
       "<polygon fill=\"black\" stroke=\"black\" points=\"285.5,-167.299 282,-157.299 278.5,-167.299 285.5,-167.299\"/>\n",
       "</g>\n",
       "<!-- 5 -->\n",
       "<g id=\"node5\" class=\"node\"><title>5</title>\n",
       "<path fill=\"#f4c7a8\" stroke=\"black\" d=\"M263,-53C263,-53 111,-53 111,-53 105,-53 99,-47 99,-41 99,-41 99,-12 99,-12 99,-6 105,-0 111,-0 111,-0 263,-0 263,-0 269,-0 275,-6 275,-12 275,-12 275,-41 275,-41 275,-47 269,-53 263,-53\"/>\n",
       "<text text-anchor=\"start\" x=\"107\" y=\"-37.8\" font-family=\"Helvetica,sans-Serif\" font-size=\"14.00\">squared_error = 242.594</text>\n",
       "<text text-anchor=\"start\" x=\"143.5\" y=\"-22.8\" font-family=\"Helvetica,sans-Serif\" font-size=\"14.00\">samples = 86</text>\n",
       "<text text-anchor=\"start\" x=\"140\" y=\"-7.8\" font-family=\"Helvetica,sans-Serif\" font-size=\"14.00\">value = 22.838</text>\n",
       "</g>\n",
       "<!-- 4&#45;&gt;5 -->\n",
       "<g id=\"edge4\" class=\"edge\"><title>4&#45;&gt;5</title>\n",
       "<path fill=\"none\" stroke=\"black\" d=\"M248.774,-88.9485C239.485,-79.709 229.394,-69.671 220.112,-60.4381\"/>\n",
       "<polygon fill=\"black\" stroke=\"black\" points=\"222.431,-57.8077 212.873,-53.2367 217.494,-62.7705 222.431,-57.8077\"/>\n",
       "</g>\n",
       "<!-- 6 -->\n",
       "<g id=\"node6\" class=\"node\"><title>6</title>\n",
       "<path fill=\"#ffffff\" stroke=\"black\" d=\"M448.5,-53C448.5,-53 305.5,-53 305.5,-53 299.5,-53 293.5,-47 293.5,-41 293.5,-41 293.5,-12 293.5,-12 293.5,-6 299.5,-0 305.5,-0 305.5,-0 448.5,-0 448.5,-0 454.5,-0 460.5,-6 460.5,-12 460.5,-12 460.5,-41 460.5,-41 460.5,-47 454.5,-53 448.5,-53\"/>\n",
       "<text text-anchor=\"start\" x=\"301.5\" y=\"-37.8\" font-family=\"Helvetica,sans-Serif\" font-size=\"14.00\">squared_error = 43.898</text>\n",
       "<text text-anchor=\"start\" x=\"333.5\" y=\"-22.8\" font-family=\"Helvetica,sans-Serif\" font-size=\"14.00\">samples = 37</text>\n",
       "<text text-anchor=\"start\" x=\"334\" y=\"-7.8\" font-family=\"Helvetica,sans-Serif\" font-size=\"14.00\">value = 8.777</text>\n",
       "</g>\n",
       "<!-- 4&#45;&gt;6 -->\n",
       "<g id=\"edge5\" class=\"edge\"><title>4&#45;&gt;6</title>\n",
       "<path fill=\"none\" stroke=\"black\" d=\"M315.226,-88.9485C324.515,-79.709 334.606,-69.671 343.888,-60.4381\"/>\n",
       "<polygon fill=\"black\" stroke=\"black\" points=\"346.506,-62.7705 351.127,-53.2367 341.569,-57.8077 346.506,-62.7705\"/>\n",
       "</g>\n",
       "<!-- 7 -->\n",
       "<g id=\"node8\" class=\"node\"><title>7</title>\n",
       "<path fill=\"#e58139\" stroke=\"black\" d=\"M552,-149.5C552,-149.5 400,-149.5 400,-149.5 394,-149.5 388,-143.5 388,-137.5 388,-137.5 388,-108.5 388,-108.5 388,-102.5 394,-96.5 400,-96.5 400,-96.5 552,-96.5 552,-96.5 558,-96.5 564,-102.5 564,-108.5 564,-108.5 564,-137.5 564,-137.5 564,-143.5 558,-149.5 552,-149.5\"/>\n",
       "<text text-anchor=\"start\" x=\"396\" y=\"-134.3\" font-family=\"Helvetica,sans-Serif\" font-size=\"14.00\">squared_error = 188.117</text>\n",
       "<text text-anchor=\"start\" x=\"428.5\" y=\"-119.3\" font-family=\"Helvetica,sans-Serif\" font-size=\"14.00\">samples = 138</text>\n",
       "<text text-anchor=\"start\" x=\"429\" y=\"-104.3\" font-family=\"Helvetica,sans-Serif\" font-size=\"14.00\">value = 40.692</text>\n",
       "</g>\n",
       "<!-- 2&#45;&gt;7 -->\n",
       "<g id=\"edge7\" class=\"edge\"><title>2&#45;&gt;7</title>\n",
       "<path fill=\"none\" stroke=\"black\" d=\"M476,-192.884C476,-182.326 476,-170.597 476,-159.854\"/>\n",
       "<polygon fill=\"black\" stroke=\"black\" points=\"479.5,-159.52 476,-149.52 472.5,-159.52 479.5,-159.52\"/>\n",
       "</g>\n",
       "<!-- 8 -->\n",
       "<g id=\"node9\" class=\"node\"><title>8</title>\n",
       "<path fill=\"#f2bf9b\" stroke=\"black\" d=\"M746,-149.5C746,-149.5 594,-149.5 594,-149.5 588,-149.5 582,-143.5 582,-137.5 582,-137.5 582,-108.5 582,-108.5 582,-102.5 588,-96.5 594,-96.5 594,-96.5 746,-96.5 746,-96.5 752,-96.5 758,-102.5 758,-108.5 758,-108.5 758,-137.5 758,-137.5 758,-143.5 752,-149.5 746,-149.5\"/>\n",
       "<text text-anchor=\"start\" x=\"590\" y=\"-134.3\" font-family=\"Helvetica,sans-Serif\" font-size=\"14.00\">squared_error = 265.858</text>\n",
       "<text text-anchor=\"start\" x=\"626.5\" y=\"-119.3\" font-family=\"Helvetica,sans-Serif\" font-size=\"14.00\">samples = 17</text>\n",
       "<text text-anchor=\"start\" x=\"623\" y=\"-104.3\" font-family=\"Helvetica,sans-Serif\" font-size=\"14.00\">value = 24.878</text>\n",
       "</g>\n",
       "<!-- 2&#45;&gt;8 -->\n",
       "<g id=\"edge8\" class=\"edge\"><title>2&#45;&gt;8</title>\n",
       "<path fill=\"none\" stroke=\"black\" d=\"M538.986,-192.884C562.623,-180.456 589.345,-166.406 612.462,-154.252\"/>\n",
       "<polygon fill=\"black\" stroke=\"black\" points=\"614.24,-157.272 621.462,-149.52 610.982,-151.076 614.24,-157.272\"/>\n",
       "</g>\n",
       "</g>\n",
       "</svg>\n"
      ],
      "text/plain": [
       "<graphviz.sources.Source at 0x19ccccba3d0>"
      ]
     },
     "execution_count": 14,
     "metadata": {},
     "output_type": "execute_result"
    }
   ],
   "source": [
    "from sklearn import tree\n",
    "\n",
    "import graphviz \n",
    "\n",
    "dot_data = tree.export_graphviz(tree1, out_file=None) \n",
    "dot_data = tree.export_graphviz(tree1, out_file=None, \n",
    "                     feature_names=x_train.columns,  \n",
    "                     class_names=['Not Survived','Survived'],  \n",
    "                     filled=True, rounded=True,  \n",
    "                     special_characters=True)  \n",
    "\n",
    "graph = graphviz.Source(dot_data)  \n",
    "\n",
    "graph"
   ]
  },
  {
   "cell_type": "markdown",
   "metadata": {},
   "source": [
    "### Step 6: Test the model\n",
    "\n",
    "#### Plot"
   ]
  },
  {
   "cell_type": "code",
   "execution_count": 15,
   "metadata": {
    "tags": []
   },
   "outputs": [
    {
     "data": {
      "image/png": "[encoded data removed]",
      "text/plain": [
       "<Figure size 720x720 with 1 Axes>"
      ]
     },
     "metadata": {
      "needs_background": "light"
     },
     "output_type": "display_data"
    }
   ],
   "source": [
    "import matplotlib.pyplot as plt\n",
    "\n",
    "predicted_value = tree1.predict(x_test)\n",
    "true_value = y_test\n",
    "\n",
    "plt.figure(figsize=(10,10))\n",
    "plt.scatter(true_value, predicted_value, c='crimson')\n",
    "\n",
    "p1 = max(max(predicted_value), max(true_value))\n",
    "p2 = min(min(predicted_value), min(true_value))\n",
    "plt.plot([p1, p2], [p1, p2], 'b-')\n",
    "plt.xlabel('True Values', fontsize=15)\n",
    "plt.ylabel('Predictions', fontsize=15)\n",
    "plt.axis('equal')\n",
    "plt.show()\n"
   ]
  },
  {
   "cell_type": "markdown",
   "metadata": {},
   "source": [
    "#### Rsquare"
   ]
  },
  {
   "cell_type": "code",
   "execution_count": 16,
   "metadata": {
    "tags": []
   },
   "outputs": [
    {
     "name": "stdout",
     "output_type": "stream",
     "text": [
      "Rsquared on Testing:  0.192\n"
     ]
    }
   ],
   "source": [
    "from sklearn.metrics import r2_score\n",
    "print('Rsquared on Testing: ', np.round(r2_score(y_test, tree1.predict(x_test)), 3))"
   ]
  },
  {
   "cell_type": "markdown",
   "metadata": {},
   "source": [
    "#### Mean Percentage Errors"
   ]
  },
  {
   "cell_type": "markdown",
   "metadata": {},
   "source": [
    "### Step 7: Hyperparameters Tuning and redo Step 5 and 6\n",
    "How do we know the selection of `max_leaf_nodes` and `criterion` in Step 5 is the best selection?\n",
    "\n",
    "Tuning hyperparameters or Tuning a model is to search for the set of hyperparameters that works the best.  To tune a model, one first needs to know what the hyperparameters/tuning parameters that the model has. A model may have several hyperparamters that sometime it is not practical to tune all the hyperparameters. \n",
    "\n",
    "Our model here is decision tree. To see the list of tuning parameters of decision trees, one can check at the `sklearn` document of the model. One way to find out is to `google`: DecisionTreeRegressor and sklearn.  This search brings us to [this link.](https://scikit-learn.org/stable/modules/generated/sklearn.tree.DecisionTreeRegressor.html)\n",
    "\n",
    "From the link, you can see the list of (hyper)parameters. In this example, we will tune two parameters `max_leaf_nodes` and `criterion`. "
   ]
  },
  {
   "cell_type": "code",
   "execution_count": 17,
   "metadata": {
    "tags": []
   },
   "outputs": [
    {
     "data": {
      "text/plain": [
       "GridSearchCV(cv=5, estimator=DecisionTreeRegressor(),\n",
       "             param_grid={'criterion': ['squared_error', 'friedman_mse',\n",
       "                                       'absolute_error', 'poisson'],\n",
       "                         'max_leaf_nodes': range(2, 10)})"
      ]
     },
     "execution_count": 17,
     "metadata": {},
     "output_type": "execute_result"
    }
   ],
   "source": [
    "import warnings\n",
    "warnings.filterwarnings(\"ignore\")\n",
    "\n",
    "\n",
    "# Decide what hyperparameter to tune then decide the searching range\n",
    "param_grid = {'max_leaf_nodes': range(2,10), \n",
    "              'criterion':['squared_error', 'friedman_mse', 'absolute_error', 'poisson']}\n",
    "\n",
    "# Create a list of trees\n",
    "from sklearn.model_selection import GridSearchCV\n",
    "tree2 = GridSearchCV(DecisionTreeRegressor(), param_grid, cv = 5)\n",
    "tree2.fit(x_train, y_train)"
   ]
  },
  {
   "cell_type": "markdown",
   "metadata": {},
   "source": [
    "In the above code, `cv=5` means the cross validation is done with 5 folds.  This means that the training data will be partition into 5 pieces and each piece will be used as a validation data while the remaining four pieces will be used as the data to build model. \n",
    "\n",
    "More informatiom about `k-fold cross validation` can be seen [here](https://bryantstats.github.io/overfitting.html#/50) \n",
    "\n",
    "In this example, with 10 different values of `max_leaf_nodes` (2 to 9), and 2 different values of `criterion`, there will be 8x2=16 models (trees) will be tested. Each of these 16 models will be run 5 times (since `cv=5`). Thus, in total, there will be 16x5=80 times a tree is computed. The search for the best parameters could be time consuming! "
   ]
  },
  {
   "cell_type": "code",
   "execution_count": 18,
   "metadata": {
    "tags": []
   },
   "outputs": [
    {
     "data": {
      "text/html": [
       "<div>\n",
       "<style scoped>\n",
       "    .dataframe tbody tr th:only-of-type {\n",
       "        vertical-align: middle;\n",
       "    }\n",
       "\n",
       "    .dataframe tbody tr th {\n",
       "        vertical-align: top;\n",
       "    }\n",
       "\n",
       "    .dataframe thead th {\n",
       "        text-align: right;\n",
       "    }\n",
       "</style>\n",
       "<table border=\"1\" class=\"dataframe\">\n",
       "  <thead>\n",
       "    <tr style=\"text-align: right;\">\n",
       "      <th></th>\n",
       "      <th>criterion</th>\n",
       "      <th>max_leaf_nodes</th>\n",
       "      <th>Rsquared</th>\n",
       "      <th>Rank</th>\n",
       "    </tr>\n",
       "  </thead>\n",
       "  <tbody>\n",
       "    <tr>\n",
       "      <th>0</th>\n",
       "      <td>squared_error</td>\n",
       "      <td>2</td>\n",
       "      <td>0.115100</td>\n",
       "      <td>25</td>\n",
       "    </tr>\n",
       "    <tr>\n",
       "      <th>1</th>\n",
       "      <td>squared_error</td>\n",
       "      <td>3</td>\n",
       "      <td>0.169041</td>\n",
       "      <td>18</td>\n",
       "    </tr>\n",
       "    <tr>\n",
       "      <th>2</th>\n",
       "      <td>squared_error</td>\n",
       "      <td>4</td>\n",
       "      <td>0.175558</td>\n",
       "      <td>14</td>\n",
       "    </tr>\n",
       "    <tr>\n",
       "      <th>3</th>\n",
       "      <td>squared_error</td>\n",
       "      <td>5</td>\n",
       "      <td>0.178561</td>\n",
       "      <td>11</td>\n",
       "    </tr>\n",
       "    <tr>\n",
       "      <th>4</th>\n",
       "      <td>squared_error</td>\n",
       "      <td>6</td>\n",
       "      <td>0.192311</td>\n",
       "      <td>7</td>\n",
       "    </tr>\n",
       "    <tr>\n",
       "      <th>5</th>\n",
       "      <td>squared_error</td>\n",
       "      <td>7</td>\n",
       "      <td>0.219342</td>\n",
       "      <td>3</td>\n",
       "    </tr>\n",
       "    <tr>\n",
       "      <th>6</th>\n",
       "      <td>squared_error</td>\n",
       "      <td>8</td>\n",
       "      <td>0.218151</td>\n",
       "      <td>5</td>\n",
       "    </tr>\n",
       "    <tr>\n",
       "      <th>7</th>\n",
       "      <td>squared_error</td>\n",
       "      <td>9</td>\n",
       "      <td>0.247011</td>\n",
       "      <td>1</td>\n",
       "    </tr>\n",
       "    <tr>\n",
       "      <th>8</th>\n",
       "      <td>friedman_mse</td>\n",
       "      <td>2</td>\n",
       "      <td>0.115100</td>\n",
       "      <td>24</td>\n",
       "    </tr>\n",
       "    <tr>\n",
       "      <th>9</th>\n",
       "      <td>friedman_mse</td>\n",
       "      <td>3</td>\n",
       "      <td>0.169041</td>\n",
       "      <td>17</td>\n",
       "    </tr>\n",
       "    <tr>\n",
       "      <th>10</th>\n",
       "      <td>friedman_mse</td>\n",
       "      <td>4</td>\n",
       "      <td>0.175558</td>\n",
       "      <td>13</td>\n",
       "    </tr>\n",
       "    <tr>\n",
       "      <th>11</th>\n",
       "      <td>friedman_mse</td>\n",
       "      <td>5</td>\n",
       "      <td>0.178561</td>\n",
       "      <td>12</td>\n",
       "    </tr>\n",
       "    <tr>\n",
       "      <th>12</th>\n",
       "      <td>friedman_mse</td>\n",
       "      <td>6</td>\n",
       "      <td>0.192311</td>\n",
       "      <td>8</td>\n",
       "    </tr>\n",
       "    <tr>\n",
       "      <th>13</th>\n",
       "      <td>friedman_mse</td>\n",
       "      <td>7</td>\n",
       "      <td>0.219342</td>\n",
       "      <td>4</td>\n",
       "    </tr>\n",
       "    <tr>\n",
       "      <th>14</th>\n",
       "      <td>friedman_mse</td>\n",
       "      <td>8</td>\n",
       "      <td>0.218151</td>\n",
       "      <td>6</td>\n",
       "    </tr>\n",
       "    <tr>\n",
       "      <th>15</th>\n",
       "      <td>friedman_mse</td>\n",
       "      <td>9</td>\n",
       "      <td>0.247011</td>\n",
       "      <td>0</td>\n",
       "    </tr>\n",
       "    <tr>\n",
       "      <th>16</th>\n",
       "      <td>absolute_error</td>\n",
       "      <td>2</td>\n",
       "      <td>0.083145</td>\n",
       "      <td>27</td>\n",
       "    </tr>\n",
       "    <tr>\n",
       "      <th>17</th>\n",
       "      <td>absolute_error</td>\n",
       "      <td>3</td>\n",
       "      <td>0.179656</td>\n",
       "      <td>10</td>\n",
       "    </tr>\n",
       "    <tr>\n",
       "      <th>18</th>\n",
       "      <td>absolute_error</td>\n",
       "      <td>4</td>\n",
       "      <td>0.174792</td>\n",
       "      <td>15</td>\n",
       "    </tr>\n",
       "    <tr>\n",
       "      <th>19</th>\n",
       "      <td>absolute_error</td>\n",
       "      <td>5</td>\n",
       "      <td>0.184105</td>\n",
       "      <td>9</td>\n",
       "    </tr>\n",
       "    <tr>\n",
       "      <th>20</th>\n",
       "      <td>absolute_error</td>\n",
       "      <td>6</td>\n",
       "      <td>0.170941</td>\n",
       "      <td>16</td>\n",
       "    </tr>\n",
       "    <tr>\n",
       "      <th>21</th>\n",
       "      <td>absolute_error</td>\n",
       "      <td>7</td>\n",
       "      <td>0.157471</td>\n",
       "      <td>20</td>\n",
       "    </tr>\n",
       "    <tr>\n",
       "      <th>22</th>\n",
       "      <td>absolute_error</td>\n",
       "      <td>8</td>\n",
       "      <td>0.162877</td>\n",
       "      <td>19</td>\n",
       "    </tr>\n",
       "    <tr>\n",
       "      <th>23</th>\n",
       "      <td>absolute_error</td>\n",
       "      <td>9</td>\n",
       "      <td>0.227430</td>\n",
       "      <td>2</td>\n",
       "    </tr>\n",
       "    <tr>\n",
       "      <th>24</th>\n",
       "      <td>poisson</td>\n",
       "      <td>2</td>\n",
       "      <td>-0.011264</td>\n",
       "      <td>31</td>\n",
       "    </tr>\n",
       "    <tr>\n",
       "      <th>25</th>\n",
       "      <td>poisson</td>\n",
       "      <td>3</td>\n",
       "      <td>-0.011103</td>\n",
       "      <td>30</td>\n",
       "    </tr>\n",
       "    <tr>\n",
       "      <th>26</th>\n",
       "      <td>poisson</td>\n",
       "      <td>4</td>\n",
       "      <td>0.005732</td>\n",
       "      <td>29</td>\n",
       "    </tr>\n",
       "    <tr>\n",
       "      <th>27</th>\n",
       "      <td>poisson</td>\n",
       "      <td>5</td>\n",
       "      <td>0.057942</td>\n",
       "      <td>28</td>\n",
       "    </tr>\n",
       "    <tr>\n",
       "      <th>28</th>\n",
       "      <td>poisson</td>\n",
       "      <td>6</td>\n",
       "      <td>0.105086</td>\n",
       "      <td>26</td>\n",
       "    </tr>\n",
       "    <tr>\n",
       "      <th>29</th>\n",
       "      <td>poisson</td>\n",
       "      <td>7</td>\n",
       "      <td>0.127764</td>\n",
       "      <td>21</td>\n",
       "    </tr>\n",
       "    <tr>\n",
       "      <th>30</th>\n",
       "      <td>poisson</td>\n",
       "      <td>8</td>\n",
       "      <td>0.115480</td>\n",
       "      <td>23</td>\n",
       "    </tr>\n",
       "    <tr>\n",
       "      <th>31</th>\n",
       "      <td>poisson</td>\n",
       "      <td>9</td>\n",
       "      <td>0.122959</td>\n",
       "      <td>22</td>\n",
       "    </tr>\n",
       "  </tbody>\n",
       "</table>\n",
       "</div>"
      ],
      "text/plain": [
       "         criterion  max_leaf_nodes  Rsquared  Rank\n",
       "0    squared_error               2  0.115100    25\n",
       "1    squared_error               3  0.169041    18\n",
       "2    squared_error               4  0.175558    14\n",
       "3    squared_error               5  0.178561    11\n",
       "4    squared_error               6  0.192311     7\n",
       "5    squared_error               7  0.219342     3\n",
       "6    squared_error               8  0.218151     5\n",
       "7    squared_error               9  0.247011     1\n",
       "8     friedman_mse               2  0.115100    24\n",
       "9     friedman_mse               3  0.169041    17\n",
       "10    friedman_mse               4  0.175558    13\n",
       "11    friedman_mse               5  0.178561    12\n",
       "12    friedman_mse               6  0.192311     8\n",
       "13    friedman_mse               7  0.219342     4\n",
       "14    friedman_mse               8  0.218151     6\n",
       "15    friedman_mse               9  0.247011     0\n",
       "16  absolute_error               2  0.083145    27\n",
       "17  absolute_error               3  0.179656    10\n",
       "18  absolute_error               4  0.174792    15\n",
       "19  absolute_error               5  0.184105     9\n",
       "20  absolute_error               6  0.170941    16\n",
       "21  absolute_error               7  0.157471    20\n",
       "22  absolute_error               8  0.162877    19\n",
       "23  absolute_error               9  0.227430     2\n",
       "24         poisson               2 -0.011264    31\n",
       "25         poisson               3 -0.011103    30\n",
       "26         poisson               4  0.005732    29\n",
       "27         poisson               5  0.057942    28\n",
       "28         poisson               6  0.105086    26\n",
       "29         poisson               7  0.127764    21\n",
       "30         poisson               8  0.115480    23\n",
       "31         poisson               9  0.122959    22"
      ]
     },
     "execution_count": 18,
     "metadata": {},
     "output_type": "execute_result"
    }
   ],
   "source": [
    "cv_result = pd.concat([pd.DataFrame(tree2.cv_results_[\"params\"]),pd.DataFrame(tree2.cv_results_[\"mean_test_score\"], columns=[\"Rsquared\"])],axis=1)\n",
    "cv_result['Rank'] = (-cv_result['Rsquared']).argsort().argsort()\n",
    "cv_result"
   ]
  },
  {
   "cell_type": "markdown",
   "metadata": {},
   "source": [
    "The above shows that the best hyperparameters are criterion=entropy and max_leaf_nodes=7. We can use this information to redo step 5. "
   ]
  },
  {
   "cell_type": "code",
   "execution_count": 19,
   "metadata": {},
   "outputs": [
    {
     "name": "stdout",
     "output_type": "stream",
     "text": [
      "Best Tree is: {'criterion': 'squared_error', 'max_leaf_nodes': 9}\n",
      "\n"
     ]
    },
    {
     "data": {
      "image/svg+xml": [
       "<?xml version=\"1.0\" encoding=\"UTF-8\" standalone=\"no\"?>\n",
       "<!DOCTYPE svg PUBLIC \"-//W3C//DTD SVG 1.1//EN\"\n",
       " \"http://www.w3.org/Graphics/SVG/1.1/DTD/svg11.dtd\">\n",
       "<!-- Generated by graphviz version 2.38.0 (20140413.2041)\n",
       " -->\n",
       "<!-- Title: Tree Pages: 1 -->\n",
       "<svg width=\"1138pt\" height=\"581pt\"\n",
       " viewBox=\"0.00 0.00 1138.00 581.00\" xmlns=\"http://www.w3.org/2000/svg\" xmlns:xlink=\"http://www.w3.org/1999/xlink\">\n",
       "<g id=\"graph0\" class=\"graph\" transform=\"scale(1 1) rotate(0) translate(4 577)\">\n",
       "<title>Tree</title>\n",
       "<polygon fill=\"white\" stroke=\"none\" points=\"-4,4 -4,-577 1134,-577 1134,4 -4,4\"/>\n",
       "<!-- 0 -->\n",
       "<g id=\"node1\" class=\"node\"><title>0</title>\n",
       "<path fill=\"#efb285\" stroke=\"black\" d=\"M781,-573C781,-573 629,-573 629,-573 623,-573 617,-567 617,-561 617,-561 617,-517 617,-517 617,-511 623,-505 629,-505 629,-505 781,-505 781,-505 787,-505 793,-511 793,-517 793,-517 793,-561 793,-561 793,-567 787,-573 781,-573\"/>\n",
       "<text text-anchor=\"start\" x=\"657.5\" y=\"-557.8\" font-family=\"Helvetica,sans-Serif\" font-size=\"14.00\">Pclass_1 ≤ 0.5</text>\n",
       "<text text-anchor=\"start\" x=\"625\" y=\"-542.8\" font-family=\"Helvetica,sans-Serif\" font-size=\"14.00\">squared_error = 210.724</text>\n",
       "<text text-anchor=\"start\" x=\"657.5\" y=\"-527.8\" font-family=\"Helvetica,sans-Serif\" font-size=\"14.00\">samples = 714</text>\n",
       "<text text-anchor=\"start\" x=\"658\" y=\"-512.8\" font-family=\"Helvetica,sans-Serif\" font-size=\"14.00\">value = 29.699</text>\n",
       "</g>\n",
       "<!-- 1 -->\n",
       "<g id=\"node2\" class=\"node\"><title>1</title>\n",
       "<path fill=\"#f1bb94\" stroke=\"black\" d=\"M639,-469C639,-469 487,-469 487,-469 481,-469 475,-463 475,-457 475,-457 475,-413 475,-413 475,-407 481,-401 487,-401 487,-401 639,-401 639,-401 645,-401 651,-407 651,-413 651,-413 651,-457 651,-457 651,-463 645,-469 639,-469\"/>\n",
       "<text text-anchor=\"start\" x=\"526.5\" y=\"-453.8\" font-family=\"Helvetica,sans-Serif\" font-size=\"14.00\">Parch ≤ 0.5</text>\n",
       "<text text-anchor=\"start\" x=\"483\" y=\"-438.8\" font-family=\"Helvetica,sans-Serif\" font-size=\"14.00\">squared_error = 173.483</text>\n",
       "<text text-anchor=\"start\" x=\"515.5\" y=\"-423.8\" font-family=\"Helvetica,sans-Serif\" font-size=\"14.00\">samples = 528</text>\n",
       "<text text-anchor=\"start\" x=\"516\" y=\"-408.8\" font-family=\"Helvetica,sans-Serif\" font-size=\"14.00\">value = 26.693</text>\n",
       "</g>\n",
       "<!-- 0&#45;&gt;1 -->\n",
       "<g id=\"edge1\" class=\"edge\"><title>0&#45;&gt;1</title>\n",
       "<path fill=\"none\" stroke=\"black\" d=\"M658.897,-504.884C645.752,-495.442 631.304,-485.064 617.7,-475.292\"/>\n",
       "<polygon fill=\"black\" stroke=\"black\" points=\"619.522,-472.291 609.358,-469.299 615.438,-477.976 619.522,-472.291\"/>\n",
       "<text text-anchor=\"middle\" x=\"613.402\" y=\"-490.27\" font-family=\"Helvetica,sans-Serif\" font-size=\"14.00\">True</text>\n",
       "</g>\n",
       "<!-- 2 -->\n",
       "<g id=\"node13\" class=\"node\"><title>2</title>\n",
       "<path fill=\"#ea975c\" stroke=\"black\" d=\"M924,-469C924,-469 772,-469 772,-469 766,-469 760,-463 760,-457 760,-457 760,-413 760,-413 760,-407 766,-401 772,-401 772,-401 924,-401 924,-401 930,-401 936,-407 936,-413 936,-413 936,-457 936,-457 936,-463 930,-469 924,-469\"/>\n",
       "<text text-anchor=\"start\" x=\"811.5\" y=\"-453.8\" font-family=\"Helvetica,sans-Serif\" font-size=\"14.00\">Parch ≤ 1.5</text>\n",
       "<text text-anchor=\"start\" x=\"768\" y=\"-438.8\" font-family=\"Helvetica,sans-Serif\" font-size=\"14.00\">squared_error = 217.946</text>\n",
       "<text text-anchor=\"start\" x=\"800.5\" y=\"-423.8\" font-family=\"Helvetica,sans-Serif\" font-size=\"14.00\">samples = 186</text>\n",
       "<text text-anchor=\"start\" x=\"801\" y=\"-408.8\" font-family=\"Helvetica,sans-Serif\" font-size=\"14.00\">value = 38.233</text>\n",
       "</g>\n",
       "<!-- 0&#45;&gt;2 -->\n",
       "<g id=\"edge12\" class=\"edge\"><title>0&#45;&gt;2</title>\n",
       "<path fill=\"none\" stroke=\"black\" d=\"M751.428,-504.884C764.665,-495.442 779.215,-485.064 792.915,-475.292\"/>\n",
       "<polygon fill=\"black\" stroke=\"black\" points=\"795.207,-477.956 801.316,-469.299 791.142,-472.257 795.207,-477.956\"/>\n",
       "<text text-anchor=\"middle\" x=\"797.189\" y=\"-490.256\" font-family=\"Helvetica,sans-Serif\" font-size=\"14.00\">False</text>\n",
       "</g>\n",
       "<!-- 3 -->\n",
       "<g id=\"node3\" class=\"node\"><title>3</title>\n",
       "<path fill=\"#efb286\" stroke=\"black\" d=\"M354,-365C354,-365 202,-365 202,-365 196,-365 190,-359 190,-353 190,-353 190,-309 190,-309 190,-303 196,-297 202,-297 202,-297 354,-297 354,-297 360,-297 366,-303 366,-309 366,-309 366,-353 366,-353 366,-359 360,-365 354,-365\"/>\n",
       "<text text-anchor=\"start\" x=\"230.5\" y=\"-349.8\" font-family=\"Helvetica,sans-Serif\" font-size=\"14.00\">Pclass_2 ≤ 0.5</text>\n",
       "<text text-anchor=\"start\" x=\"198\" y=\"-334.8\" font-family=\"Helvetica,sans-Serif\" font-size=\"14.00\">squared_error = 122.819</text>\n",
       "<text text-anchor=\"start\" x=\"230.5\" y=\"-319.8\" font-family=\"Helvetica,sans-Serif\" font-size=\"14.00\">samples = 387</text>\n",
       "<text text-anchor=\"start\" x=\"231\" y=\"-304.8\" font-family=\"Helvetica,sans-Serif\" font-size=\"14.00\">value = 29.503</text>\n",
       "</g>\n",
       "<!-- 1&#45;&gt;3 -->\n",
       "<g id=\"edge2\" class=\"edge\"><title>1&#45;&gt;3</title>\n",
       "<path fill=\"none\" stroke=\"black\" d=\"M474.776,-402.425C443.516,-391.237 408.158,-378.583 376.124,-367.118\"/>\n",
       "<polygon fill=\"black\" stroke=\"black\" points=\"376.892,-363.676 366.298,-363.601 374.534,-370.266 376.892,-363.676\"/>\n",
       "</g>\n",
       "<!-- 4 -->\n",
       "<g id=\"node6\" class=\"node\"><title>4</title>\n",
       "<path fill=\"#f6d3b9\" stroke=\"black\" d=\"M639,-365C639,-365 487,-365 487,-365 481,-365 475,-359 475,-353 475,-353 475,-309 475,-309 475,-303 481,-297 487,-297 487,-297 639,-297 639,-297 645,-297 651,-303 651,-309 651,-309 651,-353 651,-353 651,-359 645,-365 639,-365\"/>\n",
       "<text text-anchor=\"start\" x=\"525.5\" y=\"-349.8\" font-family=\"Helvetica,sans-Serif\" font-size=\"14.00\">SibSp ≤ 1.5</text>\n",
       "<text text-anchor=\"start\" x=\"483\" y=\"-334.8\" font-family=\"Helvetica,sans-Serif\" font-size=\"14.00\">squared_error = 231.391</text>\n",
       "<text text-anchor=\"start\" x=\"515.5\" y=\"-319.8\" font-family=\"Helvetica,sans-Serif\" font-size=\"14.00\">samples = 141</text>\n",
       "<text text-anchor=\"start\" x=\"520\" y=\"-304.8\" font-family=\"Helvetica,sans-Serif\" font-size=\"14.00\">value = 18.98</text>\n",
       "</g>\n",
       "<!-- 1&#45;&gt;4 -->\n",
       "<g id=\"edge5\" class=\"edge\"><title>1&#45;&gt;4</title>\n",
       "<path fill=\"none\" stroke=\"black\" d=\"M563,-400.884C563,-392.778 563,-383.982 563,-375.472\"/>\n",
       "<polygon fill=\"black\" stroke=\"black\" points=\"566.5,-375.299 563,-365.299 559.5,-375.299 566.5,-375.299\"/>\n",
       "</g>\n",
       "<!-- 13 -->\n",
       "<g id=\"node4\" class=\"node\"><title>13</title>\n",
       "<path fill=\"#f0b78e\" stroke=\"black\" d=\"M164,-253.5C164,-253.5 12,-253.5 12,-253.5 6,-253.5 0,-247.5 0,-241.5 0,-241.5 0,-212.5 0,-212.5 0,-206.5 6,-200.5 12,-200.5 12,-200.5 164,-200.5 164,-200.5 170,-200.5 176,-206.5 176,-212.5 176,-212.5 176,-241.5 176,-241.5 176,-247.5 170,-253.5 164,-253.5\"/>\n",
       "<text text-anchor=\"start\" x=\"8\" y=\"-238.3\" font-family=\"Helvetica,sans-Serif\" font-size=\"14.00\">squared_error = 109.012</text>\n",
       "<text text-anchor=\"start\" x=\"40.5\" y=\"-223.3\" font-family=\"Helvetica,sans-Serif\" font-size=\"14.00\">samples = 264</text>\n",
       "<text text-anchor=\"start\" x=\"41\" y=\"-208.3\" font-family=\"Helvetica,sans-Serif\" font-size=\"14.00\">value = 27.835</text>\n",
       "</g>\n",
       "<!-- 3&#45;&gt;13 -->\n",
       "<g id=\"edge3\" class=\"edge\"><title>3&#45;&gt;13</title>\n",
       "<path fill=\"none\" stroke=\"black\" d=\"M216.312,-296.884C193.163,-284.456 166.992,-270.406 144.351,-258.252\"/>\n",
       "<polygon fill=\"black\" stroke=\"black\" points=\"146.003,-255.166 135.537,-253.52 142.692,-261.334 146.003,-255.166\"/>\n",
       "</g>\n",
       "<!-- 14 -->\n",
       "<g id=\"node5\" class=\"node\"><title>14</title>\n",
       "<path fill=\"#eda775\" stroke=\"black\" d=\"M349.5,-253.5C349.5,-253.5 206.5,-253.5 206.5,-253.5 200.5,-253.5 194.5,-247.5 194.5,-241.5 194.5,-241.5 194.5,-212.5 194.5,-212.5 194.5,-206.5 200.5,-200.5 206.5,-200.5 206.5,-200.5 349.5,-200.5 349.5,-200.5 355.5,-200.5 361.5,-206.5 361.5,-212.5 361.5,-212.5 361.5,-241.5 361.5,-241.5 361.5,-247.5 355.5,-253.5 349.5,-253.5\"/>\n",
       "<text text-anchor=\"start\" x=\"202.5\" y=\"-238.3\" font-family=\"Helvetica,sans-Serif\" font-size=\"14.00\">squared_error = 133.68</text>\n",
       "<text text-anchor=\"start\" x=\"230.5\" y=\"-223.3\" font-family=\"Helvetica,sans-Serif\" font-size=\"14.00\">samples = 123</text>\n",
       "<text text-anchor=\"start\" x=\"231\" y=\"-208.3\" font-family=\"Helvetica,sans-Serif\" font-size=\"14.00\">value = 33.081</text>\n",
       "</g>\n",
       "<!-- 3&#45;&gt;14 -->\n",
       "<g id=\"edge4\" class=\"edge\"><title>3&#45;&gt;14</title>\n",
       "<path fill=\"none\" stroke=\"black\" d=\"M278,-296.884C278,-286.326 278,-274.597 278,-263.854\"/>\n",
       "<polygon fill=\"black\" stroke=\"black\" points=\"281.5,-263.52 278,-253.52 274.5,-263.52 281.5,-263.52\"/>\n",
       "</g>\n",
       "<!-- 5 -->\n",
       "<g id=\"node7\" class=\"node\"><title>5</title>\n",
       "<path fill=\"#f3c5a5\" stroke=\"black\" d=\"M544,-261C544,-261 392,-261 392,-261 386,-261 380,-255 380,-249 380,-249 380,-205 380,-205 380,-199 386,-193 392,-193 392,-193 544,-193 544,-193 550,-193 556,-199 556,-205 556,-205 556,-249 556,-249 556,-255 550,-261 544,-261\"/>\n",
       "<text text-anchor=\"start\" x=\"414.5\" y=\"-245.8\" font-family=\"Helvetica,sans-Serif\" font-size=\"14.00\">Survived_1 ≤ 0.5</text>\n",
       "<text text-anchor=\"start\" x=\"388\" y=\"-230.8\" font-family=\"Helvetica,sans-Serif\" font-size=\"14.00\">squared_error = 241.277</text>\n",
       "<text text-anchor=\"start\" x=\"420.5\" y=\"-215.8\" font-family=\"Helvetica,sans-Serif\" font-size=\"14.00\">samples = 101</text>\n",
       "<text text-anchor=\"start\" x=\"421\" y=\"-200.8\" font-family=\"Helvetica,sans-Serif\" font-size=\"14.00\">value = 23.245</text>\n",
       "</g>\n",
       "<!-- 4&#45;&gt;5 -->\n",
       "<g id=\"edge6\" class=\"edge\"><title>4&#45;&gt;5</title>\n",
       "<path fill=\"none\" stroke=\"black\" d=\"M532.156,-296.884C523.777,-287.887 514.606,-278.041 505.887,-268.678\"/>\n",
       "<polygon fill=\"black\" stroke=\"black\" points=\"508.391,-266.232 499.014,-261.299 503.268,-271.003 508.391,-266.232\"/>\n",
       "</g>\n",
       "<!-- 6 -->\n",
       "<g id=\"node12\" class=\"node\"><title>6</title>\n",
       "<path fill=\"#fdf4ed\" stroke=\"black\" d=\"M729.5,-253.5C729.5,-253.5 586.5,-253.5 586.5,-253.5 580.5,-253.5 574.5,-247.5 574.5,-241.5 574.5,-241.5 574.5,-212.5 574.5,-212.5 574.5,-206.5 580.5,-200.5 586.5,-200.5 586.5,-200.5 729.5,-200.5 729.5,-200.5 735.5,-200.5 741.5,-206.5 741.5,-212.5 741.5,-212.5 741.5,-241.5 741.5,-241.5 741.5,-247.5 735.5,-253.5 729.5,-253.5\"/>\n",
       "<text text-anchor=\"start\" x=\"582.5\" y=\"-238.3\" font-family=\"Helvetica,sans-Serif\" font-size=\"14.00\">squared_error = 44.558</text>\n",
       "<text text-anchor=\"start\" x=\"614.5\" y=\"-223.3\" font-family=\"Helvetica,sans-Serif\" font-size=\"14.00\">samples = 40</text>\n",
       "<text text-anchor=\"start\" x=\"615\" y=\"-208.3\" font-family=\"Helvetica,sans-Serif\" font-size=\"14.00\">value = 8.212</text>\n",
       "</g>\n",
       "<!-- 4&#45;&gt;6 -->\n",
       "<g id=\"edge11\" class=\"edge\"><title>4&#45;&gt;6</title>\n",
       "<path fill=\"none\" stroke=\"black\" d=\"M593.844,-296.884C604.599,-285.336 616.659,-272.387 627.395,-260.86\"/>\n",
       "<polygon fill=\"black\" stroke=\"black\" points=\"629.977,-263.223 634.231,-253.52 624.855,-258.452 629.977,-263.223\"/>\n",
       "</g>\n",
       "<!-- 9 -->\n",
       "<g id=\"node8\" class=\"node\"><title>9</title>\n",
       "<path fill=\"#eead7f\" stroke=\"black\" d=\"M447,-149.5C447,-149.5 295,-149.5 295,-149.5 289,-149.5 283,-143.5 283,-137.5 283,-137.5 283,-108.5 283,-108.5 283,-102.5 289,-96.5 295,-96.5 295,-96.5 447,-96.5 447,-96.5 453,-96.5 459,-102.5 459,-108.5 459,-108.5 459,-137.5 459,-137.5 459,-143.5 453,-149.5 447,-149.5\"/>\n",
       "<text text-anchor=\"start\" x=\"291\" y=\"-134.3\" font-family=\"Helvetica,sans-Serif\" font-size=\"14.00\">squared_error = 145.812</text>\n",
       "<text text-anchor=\"start\" x=\"327.5\" y=\"-119.3\" font-family=\"Helvetica,sans-Serif\" font-size=\"14.00\">samples = 43</text>\n",
       "<text text-anchor=\"start\" x=\"324\" y=\"-104.3\" font-family=\"Helvetica,sans-Serif\" font-size=\"14.00\">value = 31.116</text>\n",
       "</g>\n",
       "<!-- 5&#45;&gt;9 -->\n",
       "<g id=\"edge7\" class=\"edge\"><title>5&#45;&gt;9</title>\n",
       "<path fill=\"none\" stroke=\"black\" d=\"M436.507,-192.884C425.525,-181.336 413.212,-168.387 402.25,-156.86\"/>\n",
       "<polygon fill=\"black\" stroke=\"black\" points=\"404.696,-154.354 395.269,-149.52 399.624,-159.178 404.696,-154.354\"/>\n",
       "</g>\n",
       "<!-- 10 -->\n",
       "<g id=\"node9\" class=\"node\"><title>10</title>\n",
       "<path fill=\"#f7d7c1\" stroke=\"black\" d=\"M641,-157C641,-157 489,-157 489,-157 483,-157 477,-151 477,-145 477,-145 477,-101 477,-101 477,-95 483,-89 489,-89 489,-89 641,-89 641,-89 647,-89 653,-95 653,-101 653,-101 653,-145 653,-145 653,-151 647,-157 641,-157\"/>\n",
       "<text text-anchor=\"start\" x=\"515\" y=\"-141.8\" font-family=\"Helvetica,sans-Serif\" font-size=\"14.00\">Sex_male ≤ 0.5</text>\n",
       "<text text-anchor=\"start\" x=\"485\" y=\"-126.8\" font-family=\"Helvetica,sans-Serif\" font-size=\"14.00\">squared_error = 232.065</text>\n",
       "<text text-anchor=\"start\" x=\"521.5\" y=\"-111.8\" font-family=\"Helvetica,sans-Serif\" font-size=\"14.00\">samples = 58</text>\n",
       "<text text-anchor=\"start\" x=\"518\" y=\"-96.8\" font-family=\"Helvetica,sans-Serif\" font-size=\"14.00\">value = 17.409</text>\n",
       "</g>\n",
       "<!-- 5&#45;&gt;10 -->\n",
       "<g id=\"edge8\" class=\"edge\"><title>5&#45;&gt;10</title>\n",
       "<path fill=\"none\" stroke=\"black\" d=\"M499.493,-192.884C508.049,-183.887 517.412,-174.041 526.316,-164.678\"/>\n",
       "<polygon fill=\"black\" stroke=\"black\" points=\"528.978,-166.958 533.333,-157.299 523.905,-162.134 528.978,-166.958\"/>\n",
       "</g>\n",
       "<!-- 11 -->\n",
       "<g id=\"node10\" class=\"node\"><title>11</title>\n",
       "<path fill=\"#f4c8a9\" stroke=\"black\" d=\"M543.5,-53C543.5,-53 400.5,-53 400.5,-53 394.5,-53 388.5,-47 388.5,-41 388.5,-41 388.5,-12 388.5,-12 388.5,-6 394.5,-0 400.5,-0 400.5,-0 543.5,-0 543.5,-0 549.5,-0 555.5,-6 555.5,-12 555.5,-12 555.5,-41 555.5,-41 555.5,-47 549.5,-53 543.5,-53\"/>\n",
       "<text text-anchor=\"start\" x=\"396.5\" y=\"-37.8\" font-family=\"Helvetica,sans-Serif\" font-size=\"14.00\">squared_error = 223.27</text>\n",
       "<text text-anchor=\"start\" x=\"428.5\" y=\"-22.8\" font-family=\"Helvetica,sans-Serif\" font-size=\"14.00\">samples = 42</text>\n",
       "<text text-anchor=\"start\" x=\"425\" y=\"-7.8\" font-family=\"Helvetica,sans-Serif\" font-size=\"14.00\">value = 22.333</text>\n",
       "</g>\n",
       "<!-- 10&#45;&gt;11 -->\n",
       "<g id=\"edge9\" class=\"edge\"><title>10&#45;&gt;11</title>\n",
       "<path fill=\"none\" stroke=\"black\" d=\"M532.473,-88.9485C523.38,-79.709 513.502,-69.671 504.415,-60.4381\"/>\n",
       "<polygon fill=\"black\" stroke=\"black\" points=\"506.837,-57.9091 497.328,-53.2367 501.848,-62.8191 506.837,-57.9091\"/>\n",
       "</g>\n",
       "<!-- 12 -->\n",
       "<g id=\"node11\" class=\"node\"><title>12</title>\n",
       "<path fill=\"#ffffff\" stroke=\"black\" d=\"M728.5,-53C728.5,-53 585.5,-53 585.5,-53 579.5,-53 573.5,-47 573.5,-41 573.5,-41 573.5,-12 573.5,-12 573.5,-6 579.5,-0 585.5,-0 585.5,-0 728.5,-0 728.5,-0 734.5,-0 740.5,-6 740.5,-12 740.5,-12 740.5,-41 740.5,-41 740.5,-47 734.5,-53 728.5,-53\"/>\n",
       "<text text-anchor=\"start\" x=\"581.5\" y=\"-37.8\" font-family=\"Helvetica,sans-Serif\" font-size=\"14.00\">squared_error = 24.453</text>\n",
       "<text text-anchor=\"start\" x=\"613.5\" y=\"-22.8\" font-family=\"Helvetica,sans-Serif\" font-size=\"14.00\">samples = 16</text>\n",
       "<text text-anchor=\"start\" x=\"614\" y=\"-7.8\" font-family=\"Helvetica,sans-Serif\" font-size=\"14.00\">value = 4.484</text>\n",
       "</g>\n",
       "<!-- 10&#45;&gt;12 -->\n",
       "<g id=\"edge10\" class=\"edge\"><title>10&#45;&gt;12</title>\n",
       "<path fill=\"none\" stroke=\"black\" d=\"M597.177,-88.9485C606.172,-79.709 615.945,-69.671 624.933,-60.4381\"/>\n",
       "<polygon fill=\"black\" stroke=\"black\" points=\"627.476,-62.8434 631.944,-53.2367 622.461,-57.9605 627.476,-62.8434\"/>\n",
       "</g>\n",
       "<!-- 7 -->\n",
       "<g id=\"node14\" class=\"node\"><title>7</title>\n",
       "<path fill=\"#e89253\" stroke=\"black\" d=\"M924,-365C924,-365 772,-365 772,-365 766,-365 760,-359 760,-353 760,-353 760,-309 760,-309 760,-303 766,-297 772,-297 772,-297 924,-297 924,-297 930,-297 936,-303 936,-309 936,-309 936,-353 936,-353 936,-359 930,-365 924,-365\"/>\n",
       "<text text-anchor=\"start\" x=\"807\" y=\"-349.8\" font-family=\"Helvetica,sans-Serif\" font-size=\"14.00\">Fare ≤ 38.95</text>\n",
       "<text text-anchor=\"start\" x=\"768\" y=\"-334.8\" font-family=\"Helvetica,sans-Serif\" font-size=\"14.00\">squared_error = 184.746</text>\n",
       "<text text-anchor=\"start\" x=\"800.5\" y=\"-319.8\" font-family=\"Helvetica,sans-Serif\" font-size=\"14.00\">samples = 164</text>\n",
       "<text text-anchor=\"start\" x=\"801\" y=\"-304.8\" font-family=\"Helvetica,sans-Serif\" font-size=\"14.00\">value = 40.155</text>\n",
       "</g>\n",
       "<!-- 2&#45;&gt;7 -->\n",
       "<g id=\"edge13\" class=\"edge\"><title>2&#45;&gt;7</title>\n",
       "<path fill=\"none\" stroke=\"black\" d=\"M848,-400.884C848,-392.778 848,-383.982 848,-375.472\"/>\n",
       "<polygon fill=\"black\" stroke=\"black\" points=\"851.5,-375.299 848,-365.299 844.5,-375.299 851.5,-375.299\"/>\n",
       "</g>\n",
       "<!-- 8 -->\n",
       "<g id=\"node17\" class=\"node\"><title>8</title>\n",
       "<path fill=\"#f3c3a1\" stroke=\"black\" d=\"M1118,-357.5C1118,-357.5 966,-357.5 966,-357.5 960,-357.5 954,-351.5 954,-345.5 954,-345.5 954,-316.5 954,-316.5 954,-310.5 960,-304.5 966,-304.5 966,-304.5 1118,-304.5 1118,-304.5 1124,-304.5 1130,-310.5 1130,-316.5 1130,-316.5 1130,-345.5 1130,-345.5 1130,-351.5 1124,-357.5 1118,-357.5\"/>\n",
       "<text text-anchor=\"start\" x=\"962\" y=\"-342.3\" font-family=\"Helvetica,sans-Serif\" font-size=\"14.00\">squared_error = 232.613</text>\n",
       "<text text-anchor=\"start\" x=\"998.5\" y=\"-327.3\" font-family=\"Helvetica,sans-Serif\" font-size=\"14.00\">samples = 22</text>\n",
       "<text text-anchor=\"start\" x=\"995\" y=\"-312.3\" font-family=\"Helvetica,sans-Serif\" font-size=\"14.00\">value = 23.905</text>\n",
       "</g>\n",
       "<!-- 2&#45;&gt;8 -->\n",
       "<g id=\"edge16\" class=\"edge\"><title>2&#45;&gt;8</title>\n",
       "<path fill=\"none\" stroke=\"black\" d=\"M910.986,-400.884C934.623,-388.456 961.345,-374.406 984.462,-362.252\"/>\n",
       "<polygon fill=\"black\" stroke=\"black\" points=\"986.24,-365.272 993.462,-357.52 982.982,-359.076 986.24,-365.272\"/>\n",
       "</g>\n",
       "<!-- 15 -->\n",
       "<g id=\"node15\" class=\"node\"><title>15</title>\n",
       "<path fill=\"#e58139\" stroke=\"black\" d=\"M924,-253.5C924,-253.5 772,-253.5 772,-253.5 766,-253.5 760,-247.5 760,-241.5 760,-241.5 760,-212.5 760,-212.5 760,-206.5 766,-200.5 772,-200.5 772,-200.5 924,-200.5 924,-200.5 930,-200.5 936,-206.5 936,-212.5 936,-212.5 936,-241.5 936,-241.5 936,-247.5 930,-253.5 924,-253.5\"/>\n",
       "<text text-anchor=\"start\" x=\"768\" y=\"-238.3\" font-family=\"Helvetica,sans-Serif\" font-size=\"14.00\">squared_error = 168.518</text>\n",
       "<text text-anchor=\"start\" x=\"804.5\" y=\"-223.3\" font-family=\"Helvetica,sans-Serif\" font-size=\"14.00\">samples = 51</text>\n",
       "<text text-anchor=\"start\" x=\"801\" y=\"-208.3\" font-family=\"Helvetica,sans-Serif\" font-size=\"14.00\">value = 45.539</text>\n",
       "</g>\n",
       "<!-- 7&#45;&gt;15 -->\n",
       "<g id=\"edge14\" class=\"edge\"><title>7&#45;&gt;15</title>\n",
       "<path fill=\"none\" stroke=\"black\" d=\"M848,-296.884C848,-286.326 848,-274.597 848,-263.854\"/>\n",
       "<polygon fill=\"black\" stroke=\"black\" points=\"851.5,-263.52 848,-253.52 844.5,-263.52 851.5,-263.52\"/>\n",
       "</g>\n",
       "<!-- 16 -->\n",
       "<g id=\"node16\" class=\"node\"><title>16</title>\n",
       "<path fill=\"#ea995f\" stroke=\"black\" d=\"M1118,-253.5C1118,-253.5 966,-253.5 966,-253.5 960,-253.5 954,-247.5 954,-241.5 954,-241.5 954,-212.5 954,-212.5 954,-206.5 960,-200.5 966,-200.5 966,-200.5 1118,-200.5 1118,-200.5 1124,-200.5 1130,-206.5 1130,-212.5 1130,-212.5 1130,-241.5 1130,-241.5 1130,-247.5 1124,-253.5 1118,-253.5\"/>\n",
       "<text text-anchor=\"start\" x=\"962\" y=\"-238.3\" font-family=\"Helvetica,sans-Serif\" font-size=\"14.00\">squared_error = 173.084</text>\n",
       "<text text-anchor=\"start\" x=\"994.5\" y=\"-223.3\" font-family=\"Helvetica,sans-Serif\" font-size=\"14.00\">samples = 113</text>\n",
       "<text text-anchor=\"start\" x=\"995\" y=\"-208.3\" font-family=\"Helvetica,sans-Serif\" font-size=\"14.00\">value = 37.726</text>\n",
       "</g>\n",
       "<!-- 7&#45;&gt;16 -->\n",
       "<g id=\"edge15\" class=\"edge\"><title>7&#45;&gt;16</title>\n",
       "<path fill=\"none\" stroke=\"black\" d=\"M910.986,-296.884C934.623,-284.456 961.345,-270.406 984.462,-258.252\"/>\n",
       "<polygon fill=\"black\" stroke=\"black\" points=\"986.24,-261.272 993.462,-253.52 982.982,-255.076 986.24,-261.272\"/>\n",
       "</g>\n",
       "</g>\n",
       "</svg>\n"
      ],
      "text/plain": [
       "<graphviz.sources.Source at 0x19cce74c940>"
      ]
     },
     "execution_count": 19,
     "metadata": {},
     "output_type": "execute_result"
    }
   ],
   "source": [
    "tree3 = DecisionTreeRegressor(**tree2.best_params_)\n",
    "\n",
    "# Train with the selected hyperparameter\n",
    "tree3.fit(X, y)\n",
    "\n",
    "print('Best Tree is:', tree2.best_params_)\n",
    "print('')\n",
    "import graphviz \n",
    "dot_data = tree.export_graphviz(tree3, out_file=None) \n",
    "dot_data = tree.export_graphviz(tree3, out_file=None, \n",
    "                     feature_names=x_train.columns,  \n",
    "                     class_names=['Not Survived','Survived'],  \n",
    "                     filled=True, rounded=True,  \n",
    "                     special_characters=True)  \n",
    "\n",
    "graph = graphviz.Source(dot_data)  \n",
    "\n",
    "graph"
   ]
  },
  {
   "cell_type": "markdown",
   "metadata": {
    "tags": []
   },
   "source": [
    "# 2. Overfitting in Decision Trees\n",
    "\n",
    "## Training Accuracy vs. Testing Accuracy\n",
    "\n",
    "We analyze the accuracy of Decision Tree when the spliting criterion and the number of leaves (`max_leaf_nodes`) change.  These two parameters are also called hyper-parameters or tuning parameters. \n",
    "\n",
    "The following plot shows that the training accuracy will increase when the number of leaves (`max_leaf_nodes`) increase. The testing accuracy increases at the beginning and decreases or isolating in the long run. \n",
    "\n",
    "The next plot shows that the selection of criterion also impact model performance."
   ]
  },
  {
   "cell_type": "code",
   "execution_count": 20,
   "metadata": {},
   "outputs": [],
   "source": [
    "criterion = ['squared_error', 'friedman_mse', 'absolute_error', 'poisson']\n",
    "max_leaf_nodes = range(2, 200)\n",
    "\n",
    "#erros_plot = function(criterion, )\n",
    "\n",
    "rs = pd.DataFrame(columns = ['Criterion','Leaves', 'Data','Rsquared'])\n",
    "\n",
    "for criterion1 in criterion:\n",
    "    for max_leaf_nodes1 in max_leaf_nodes:\n",
    "        tree1 = DecisionTreeRegressor(criterion=criterion1, max_leaf_nodes=max_leaf_nodes1)\n",
    "        tree1.fit(x_train, y_train)\n",
    "        new_row={'Criterion':criterion1,'Leaves':max_leaf_nodes1, 'Data':'Train','Rsquared':tree1.score(x_train, y_train)}\n",
    "        \n",
    "        rs = pd.concat([rs, pd.DataFrame([new_row])], ignore_index=True)\n",
    "\n",
    "\n",
    "        new_row={'Criterion':criterion1,'Leaves':max_leaf_nodes1, 'Data':'Test','Rsquared':tree1.score(x_test, y_test)}\n",
    "        rs = pd.concat([rs, pd.DataFrame([new_row])], ignore_index=True)"
   ]
  },
  {
   "cell_type": "code",
   "execution_count": 21,
   "metadata": {},
   "outputs": [
    {
     "data": {
      "text/plain": [
       "<AxesSubplot:xlabel='Leaves', ylabel='Rsquared'>"
      ]
     },
     "execution_count": 21,
     "metadata": {},
     "output_type": "execute_result"
    },
    {
     "data": {
      "image/png": "[encoded data removed]",
      "text/plain": [
       "<Figure size 432x288 with 1 Axes>"
      ]
     },
     "metadata": {
      "needs_background": "light"
     },
     "output_type": "display_data"
    }
   ],
   "source": [
    "# Plot the training and testing accuracy of the model when criterion = gini\n",
    "import seaborn as sns\n",
    "rs_gini = rs[rs['Criterion']=='squared_error']\n",
    "sns.lineplot(data=rs_gini, y=\"Rsquared\", x=\"Leaves\", hue='Data', ci=None)"
   ]
  },
  {
   "cell_type": "code",
   "execution_count": 22,
   "metadata": {},
   "outputs": [
    {
     "data": {
      "text/plain": [
       "<AxesSubplot:xlabel='Leaves', ylabel='Rsquared'>"
      ]
     },
     "execution_count": 22,
     "metadata": {},
     "output_type": "execute_result"
    },
    {
     "data": {
      "image/png": "[encoded data removed]",
      "text/plain": [
       "<Figure size 432x288 with 1 Axes>"
      ]
     },
     "metadata": {
      "needs_background": "light"
     },
     "output_type": "display_data"
    }
   ],
   "source": [
    "# Compare the impact of the criterion on tetsing accuracy\n",
    "sns.lineplot(data=rs[rs['Data']=='Test'], y=\"Rsquared\", x=\"Leaves\", hue='Criterion')     "
   ]
  },
  {
   "cell_type": "markdown",
   "metadata": {},
   "source": [
    "# 3. Practice\n",
    "\n",
    "Predicting NBA Salary. Download the data at: https://bryantstats.github.io/math460/python/nba_salary.csv\n",
    "\n",
    "1. Import the data and drop all the missing values\n",
    "\n",
    "2. Set the input (X) and output (y) (Use `df.columns` to see all the columns to easier copy/paste). Split the data into 60% training and 40% testing (No need to do 1.3 and 1.4 as all variables are numeric and have correct types)\n",
    "\n",
    "3. Train a decision tree with maximum 3 leaves. What is testing Rsquared of the model?\n",
    "\n",
    "4. Find a tree that has higher Rsquared than the previous model."
   ]
  },
  {
   "cell_type": "code",
   "execution_count": null,
   "metadata": {},
   "outputs": [],
   "source": []
  }
 ],
 "metadata": {
  "file_extension": ".py",
  "kernelspec": {
   "display_name": "Python 3 (ipykernel)",
   "language": "python",
   "name": "python3"
  },
  "language_info": {
   "codemirror_mode": {
    "name": "ipython",
    "version": 3
   },
   "file_extension": ".py",
   "mimetype": "text/x-python",
   "name": "python",
   "nbconvert_exporter": "python",
   "pygments_lexer": "ipython3",
   "version": "3.11.5"
  },
  "mimetype": "text/x-python",
  "name": "python",
  "npconvert_exporter": "python",
  "pygments_lexer": "ipython3",
  "toc-autonumbering": false,
  "toc-showcode": false,
  "toc-showmarkdowntxt": false,
  "version": 3
 },
 "nbformat": 4,
 "nbformat_minor": 4
}
