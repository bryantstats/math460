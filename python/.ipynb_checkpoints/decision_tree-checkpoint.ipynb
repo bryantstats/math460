{
 "cells": [
  {
   "cell_type": "markdown",
   "metadata": {},
   "source": [
    "# Training and Tuning Predictive Models\n",
    "\n",
    "**Installation**:  You will need to install python and jupyter.  The easiest way is to install the package `Anaconda` as follows. \n",
    "\n",
    "- Download Anaconda from [this link](https://www.anaconda.com/download)\n",
    "- Install Anaconda from the downloaded file\n",
    "- Open Jupyter Lab by \n",
    "\n",
    "    - (1) Click to the Start Windows Logo and Type in Anconda Promp.  Open Anaconda Promp\n",
    "    - (2) In Anaconda Promp, type in: `jupyter lab` and hit Enter\n",
    "\n",
    "**Data**: The data should be in the same folder as the notebook.\n"
   ]
  },
  {
   "cell_type": "markdown",
   "metadata": {},
   "source": [
    "---\n",
    "\n",
    "# 1. An example of training a decision tree"
   ]
  },
  {
   "cell_type": "markdown",
   "metadata": {},
   "source": [
    "We will go over the above steps to train decision tree with the `titanic` dataset. Notice that these codes can be reused for other dataset. The codes for Step 1, 4, 5, 6, and 7 should be the same or at least similar when applied to other data.  Only Step 2 and Step 3 will be different from data to data. "
   ]
  },
  {
   "cell_type": "markdown",
   "metadata": {},
   "source": [
    "### Step 1: Import and Clean Data"
   ]
  },
  {
   "cell_type": "code",
   "execution_count": 1,
   "metadata": {},
   "outputs": [],
   "source": [
    "# import some packages\n",
    "import pandas as pd\n",
    "import numpy as np\n",
    "from sklearn import tree\n",
    "from sklearn.tree import DecisionTreeClassifier\n",
    "from sklearn import metrics"
   ]
  },
  {
   "cell_type": "code",
   "execution_count": 2,
   "metadata": {},
   "outputs": [],
   "source": [
    "# Import the data\n",
    "df = pd.read_csv('titanic.csv')"
   ]
  },
  {
   "cell_type": "code",
   "execution_count": 3,
   "metadata": {},
   "outputs": [
    {
     "data": {
      "text/plain": [
       "Index(['PassengerId', 'Survived', 'Pclass', 'Name', 'Sex', 'Age', 'SibSp',\n",
       "       'Parch', 'Ticket', 'Fare', 'Cabin', 'Embarked'],\n",
       "      dtype='object')"
      ]
     },
     "execution_count": 3,
     "metadata": {},
     "output_type": "execute_result"
    }
   ],
   "source": [
    "# Check the variables\n",
    "df.columns"
   ]
  },
  {
   "cell_type": "markdown",
   "metadata": {},
   "source": [
    "#### Assign the input and output variable"
   ]
  },
  {
   "cell_type": "code",
   "execution_count": 4,
   "metadata": {},
   "outputs": [],
   "source": [
    "# Assign input variables\n",
    "X = df.loc[:,['Pclass','Sex','Age','Fare','Embarked','SibSp','Parch']]\n",
    "\n",
    "# Assign target variable\n",
    "y = df['Survived']"
   ]
  },
  {
   "cell_type": "markdown",
   "metadata": {},
   "source": [
    "#### Check and fix variable types"
   ]
  },
  {
   "cell_type": "code",
   "execution_count": 5,
   "metadata": {},
   "outputs": [
    {
     "data": {
      "text/plain": [
       "Pclass        int64\n",
       "Sex          object\n",
       "Age         float64\n",
       "Fare        float64\n",
       "Embarked     object\n",
       "SibSp         int64\n",
       "Parch         int64\n",
       "dtype: object"
      ]
     },
     "execution_count": 5,
     "metadata": {},
     "output_type": "execute_result"
    }
   ],
   "source": [
    "X.dtypes"
   ]
  },
  {
   "cell_type": "code",
   "execution_count": 6,
   "metadata": {},
   "outputs": [],
   "source": [
    "# Change Pclass to categorical variable\n",
    "X['Pclass'] = X['Pclass'].astype(object)"
   ]
  },
  {
   "cell_type": "markdown",
   "metadata": {},
   "source": [
    "### Step 2: Check and handle missing values"
   ]
  },
  {
   "cell_type": "code",
   "execution_count": 7,
   "metadata": {},
   "outputs": [
    {
     "data": {
      "text/plain": [
       "PassengerId      0\n",
       "Survived         0\n",
       "Pclass           0\n",
       "Name             0\n",
       "Sex              0\n",
       "Age            177\n",
       "SibSp            0\n",
       "Parch            0\n",
       "Ticket           0\n",
       "Fare             0\n",
       "Cabin          687\n",
       "Embarked         2\n",
       "dtype: int64"
      ]
     },
     "execution_count": 7,
     "metadata": {},
     "output_type": "execute_result"
    }
   ],
   "source": [
    "df.isna().sum()"
   ]
  },
  {
   "cell_type": "code",
   "execution_count": 8,
   "metadata": {},
   "outputs": [],
   "source": [
    "# Replace missing values by the median\n",
    "X[\"Age\"] = X[\"Age\"].fillna(X[\"Age\"].median())\n",
    "\n",
    "# Impute the Embarked variable\n",
    "X[\"Embarked\"] = X[\"Embarked\"].fillna(\"S\")"
   ]
  },
  {
   "cell_type": "markdown",
   "metadata": {},
   "source": [
    "### Step 3: Encode Categorical Variables"
   ]
  },
  {
   "cell_type": "markdown",
   "metadata": {},
   "source": [
    "`sklearn` does not work directly with categorical variables. It requires the categorical variables to be encoded into numeric variables. There are multiple way to encode categorical variables.  Here, we implement the simplest way of encoding: `one-hot` encoding or `dummy` encoding. "
   ]
  },
  {
   "cell_type": "code",
   "execution_count": 9,
   "metadata": {},
   "outputs": [
    {
     "name": "stderr",
     "output_type": "stream",
     "text": [
      "C:\\Users\\sonou\\anaconda3_fa22\\lib\\site-packages\\pandas\\core\\algorithms.py:798: FutureWarning: In a future version, the Index constructor will not infer numeric dtypes when passed object-dtype sequences (matching Series behavior)\n",
      "  uniques = Index(uniques)\n"
     ]
    }
   ],
   "source": [
    "# Encode categorical variable\n",
    "X = pd.get_dummies(X)"
   ]
  },
  {
   "cell_type": "markdown",
   "metadata": {},
   "source": [
    "### Step 4: Split the data into training and testing"
   ]
  },
  {
   "cell_type": "code",
   "execution_count": 10,
   "metadata": {},
   "outputs": [],
   "source": [
    "from sklearn.model_selection import train_test_split\n",
    "\n",
    "x_train,x_test,y_train,y_test=train_test_split(X,y,test_size=0.15)"
   ]
  },
  {
   "cell_type": "markdown",
   "metadata": {},
   "source": [
    "### Step 5: Train a model"
   ]
  },
  {
   "cell_type": "code",
   "execution_count": 11,
   "metadata": {},
   "outputs": [
    {
     "data": {
      "text/plain": [
       "DecisionTreeClassifier(max_leaf_nodes=3)"
      ]
     },
     "execution_count": 11,
     "metadata": {},
     "output_type": "execute_result"
    }
   ],
   "source": [
    "# Create a decision tree and train\n",
    "tree1 = DecisionTreeClassifier(criterion='gini', max_leaf_nodes=3)\n",
    "tree1.fit(x_train, y_train)"
   ]
  },
  {
   "cell_type": "markdown",
   "metadata": {},
   "source": [
    "#### Plot the tree"
   ]
  },
  {
   "cell_type": "code",
   "execution_count": 12,
   "metadata": {},
   "outputs": [
    {
     "name": "stdout",
     "output_type": "stream",
     "text": [
      "Collecting package metadata (current_repodata.json): ...working... done\n",
      "Solving environment: ...working... done\n",
      "\n",
      "## Package Plan ##\n",
      "\n",
      "  environment location: C:\\Users\\sonou\\anaconda3_fa22\n",
      "\n",
      "  added / updated specs:\n",
      "    - graphviz\n",
      "\n",
      "\n",
      "The following packages will be downloaded:\n",
      "\n",
      "    package                    |            build\n",
      "    ---------------------------|-----------------\n",
      "    cairo-1.16.0               |       he04af86_2         1.5 MB\n",
      "    expat-2.5.0                |       hd77b12b_0         225 KB\n",
      "    fribidi-1.0.10             |       h62dcd97_0          63 KB\n",
      "    getopt-win32-0.1           |       h2bbff1b_0          19 KB\n",
      "    glib-2.69.1                |       h5dc1a3c_1         1.6 MB\n",
      "    graphite2-1.3.14           |       hd77b12b_1          91 KB\n",
      "    graphviz-2.50.0            |       hdb8b0d4_0         903 KB\n",
      "    gts-0.7.6                  |       h63ab5a1_3         181 KB\n",
      "    harfbuzz-4.3.0             |       hb646838_1         855 KB\n",
      "    libffi-3.4.4               |       hd77b12b_0         113 KB\n",
      "    libgd-2.3.3                |       ha43c60c_1         314 KB\n",
      "    pango-1.50.7               |       h78c2152_0         279 KB\n",
      "    pcre-8.45                  |       hd77b12b_0         382 KB\n",
      "    pixman-0.40.0              |       h2bbff1b_1         402 KB\n",
      "    ------------------------------------------------------------\n",
      "                                           Total:         6.8 MB\n",
      "\n",
      "The following NEW packages will be INSTALLED:\n",
      "\n",
      "  cairo              pkgs/main/win-64::cairo-1.16.0-he04af86_2\n",
      "  expat              pkgs/main/win-64::expat-2.5.0-hd77b12b_0\n",
      "  fribidi            pkgs/main/win-64::fribidi-1.0.10-h62dcd97_0\n",
      "  getopt-win32       pkgs/main/win-64::getopt-win32-0.1-h2bbff1b_0\n",
      "  glib               pkgs/main/win-64::glib-2.69.1-h5dc1a3c_1\n",
      "  graphite2          pkgs/main/win-64::graphite2-1.3.14-hd77b12b_1\n",
      "  graphviz           pkgs/main/win-64::graphviz-2.50.0-hdb8b0d4_0\n",
      "  gts                pkgs/main/win-64::gts-0.7.6-h63ab5a1_3\n",
      "  harfbuzz           pkgs/main/win-64::harfbuzz-4.3.0-hb646838_1\n",
      "  libffi             pkgs/main/win-64::libffi-3.4.4-hd77b12b_0\n",
      "  libgd              pkgs/main/win-64::libgd-2.3.3-ha43c60c_1\n",
      "  pango              pkgs/main/win-64::pango-1.50.7-h78c2152_0\n",
      "  pcre               pkgs/main/win-64::pcre-8.45-hd77b12b_0\n",
      "  pixman             pkgs/main/win-64::pixman-0.40.0-h2bbff1b_1\n",
      "\n",
      "\n",
      "\n",
      "Downloading and Extracting Packages\n",
      "\n",
      "expat-2.5.0          | 225 KB    |            |   0% \n",
      "expat-2.5.0          | 225 KB    | ########## | 100% \n",
      "expat-2.5.0          | 225 KB    | ########## | 100% \n",
      "\n",
      "harfbuzz-4.3.0       | 855 KB    |            |   0% \n",
      "harfbuzz-4.3.0       | 855 KB    | ########## | 100% \n",
      "harfbuzz-4.3.0       | 855 KB    | ########## | 100% \n",
      "\n",
      "libgd-2.3.3          | 314 KB    |            |   0% \n",
      "libgd-2.3.3          | 314 KB    | ########## | 100% \n",
      "libgd-2.3.3          | 314 KB    | ########## | 100% \n",
      "\n",
      "glib-2.69.1          | 1.6 MB    |            |   0% \n",
      "glib-2.69.1          | 1.6 MB    | ########## | 100% \n",
      "glib-2.69.1          | 1.6 MB    | ########## | 100% \n",
      "\n",
      "fribidi-1.0.10       | 63 KB     |            |   0% \n",
      "fribidi-1.0.10       | 63 KB     | ########## | 100% \n",
      "fribidi-1.0.10       | 63 KB     | ########## | 100% \n",
      "\n",
      "cairo-1.16.0         | 1.5 MB    |            |   0% \n",
      "cairo-1.16.0         | 1.5 MB    | ########## | 100% \n",
      "cairo-1.16.0         | 1.5 MB    | ########## | 100% \n",
      "\n",
      "pango-1.50.7         | 279 KB    |            |   0% \n",
      "pango-1.50.7         | 279 KB    | ########## | 100% \n",
      "pango-1.50.7         | 279 KB    | ########## | 100% \n",
      "\n",
      "graphviz-2.50.0      | 903 KB    |            |   0% \n",
      "graphviz-2.50.0      | 903 KB    | ########## | 100% \n",
      "graphviz-2.50.0      | 903 KB    | ########## | 100% \n",
      "\n",
      "graphite2-1.3.14     | 91 KB     |            |   0% \n",
      "graphite2-1.3.14     | 91 KB     | ########## | 100% \n",
      "Note: you may need to restart the kernel to use updated packages.\n",
      "\n"
     ]
    },
    {
     "name": "stderr",
     "output_type": "stream",
     "text": [
      "\n",
      "\n",
      "==> WARNING: A newer version of conda exists. <==\n",
      "  current version: 4.12.0\n",
      "  latest version: 23.7.4\n",
      "\n",
      "Please update conda by running\n",
      "\n",
      "    $ conda update -n base -c defaults conda\n",
      "\n",
      "\n"
     ]
    },
    {
     "name": "stdout",
     "output_type": "stream",
     "text": [
      "graphite2-1.3.14     | 91 KB     | ########## | 100% \n",
      "\n",
      "pcre-8.45            | 382 KB    |            |   0% \n",
      "pcre-8.45            | 382 KB    | ########## | 100% \n",
      "pcre-8.45            | 382 KB    | ########## | 100% \n",
      "\n",
      "gts-0.7.6            | 181 KB    |            |   0% \n",
      "gts-0.7.6            | 181 KB    | ########## | 100% \n",
      "gts-0.7.6            | 181 KB    | ########## | 100% \n",
      "\n",
      "getopt-win32-0.1     | 19 KB     |            |   0% \n",
      "getopt-win32-0.1     | 19 KB     | ########## | 100% \n",
      "\n",
      "libffi-3.4.4         | 113 KB    |            |   0% \n",
      "libffi-3.4.4         | 113 KB    | ########## | 100% \n",
      "libffi-3.4.4         | 113 KB    | ########## | 100% \n",
      "\n",
      "pixman-0.40.0        | 402 KB    |            |   0% \n",
      "pixman-0.40.0        | 402 KB    | ########## | 100% \n",
      "pixman-0.40.0        | 402 KB    | ########## | 100% \n",
      "Preparing transaction: ...working... done\n",
      "Verifying transaction: ...working... done\n",
      "Executing transaction: ...working... done\n"
     ]
    }
   ],
   "source": [
    "conda install graphviz"
   ]
  },
  {
   "cell_type": "code",
   "execution_count": 13,
   "metadata": {},
   "outputs": [
    {
     "data": {
      "image/svg+xml": [
       "<?xml version=\"1.0\" encoding=\"UTF-8\" standalone=\"no\"?>\n",
       "<!DOCTYPE svg PUBLIC \"-//W3C//DTD SVG 1.1//EN\"\n",
       " \"http://www.w3.org/Graphics/SVG/1.1/DTD/svg11.dtd\">\n",
       "<!-- Generated by graphviz version 2.38.0 (20140413.2041)\n",
       " -->\n",
       "<!-- Title: Tree Pages: 1 -->\n",
       "<svg width=\"362pt\" height=\"314pt\"\n",
       " viewBox=\"0.00 0.00 362.00 314.00\" xmlns=\"http://www.w3.org/2000/svg\" xmlns:xlink=\"http://www.w3.org/1999/xlink\">\n",
       "<g id=\"graph0\" class=\"graph\" transform=\"scale(1 1) rotate(0) translate(4 310)\">\n",
       "<title>Tree</title>\n",
       "<polygon fill=\"white\" stroke=\"none\" points=\"-4,4 -4,-310 358,-310 358,4 -4,4\"/>\n",
       "<!-- 0 -->\n",
       "<g id=\"node1\" class=\"node\"><title>0</title>\n",
       "<path fill=\"#f6d1b7\" stroke=\"black\" d=\"M266,-306C266,-306 144,-306 144,-306 138,-306 132,-300 132,-294 132,-294 132,-235 132,-235 132,-229 138,-223 144,-223 144,-223 266,-223 266,-223 272,-223 278,-229 278,-235 278,-235 278,-294 278,-294 278,-300 272,-306 266,-306\"/>\n",
       "<text text-anchor=\"start\" x=\"155\" y=\"-290.8\" font-family=\"Helvetica,sans-Serif\" font-size=\"14.00\">Sex_male ≤ 0.5</text>\n",
       "<text text-anchor=\"start\" x=\"167.5\" y=\"-275.8\" font-family=\"Helvetica,sans-Serif\" font-size=\"14.00\">gini = 0.475</text>\n",
       "<text text-anchor=\"start\" x=\"157.5\" y=\"-260.8\" font-family=\"Helvetica,sans-Serif\" font-size=\"14.00\">samples = 757</text>\n",
       "<text text-anchor=\"start\" x=\"148\" y=\"-245.8\" font-family=\"Helvetica,sans-Serif\" font-size=\"14.00\">value = [463, 294]</text>\n",
       "<text text-anchor=\"start\" x=\"140\" y=\"-230.8\" font-family=\"Helvetica,sans-Serif\" font-size=\"14.00\">class = Not Survived</text>\n",
       "</g>\n",
       "<!-- 1 -->\n",
       "<g id=\"node2\" class=\"node\"><title>1</title>\n",
       "<path fill=\"#7abded\" stroke=\"black\" d=\"M178,-187C178,-187 80,-187 80,-187 74,-187 68,-181 68,-175 68,-175 68,-116 68,-116 68,-110 74,-104 80,-104 80,-104 178,-104 178,-104 184,-104 190,-110 190,-116 190,-116 190,-175 190,-175 190,-181 184,-187 178,-187\"/>\n",
       "<text text-anchor=\"start\" x=\"81.5\" y=\"-171.8\" font-family=\"Helvetica,sans-Serif\" font-size=\"14.00\">Pclass_3 ≤ 0.5</text>\n",
       "<text text-anchor=\"start\" x=\"91.5\" y=\"-156.8\" font-family=\"Helvetica,sans-Serif\" font-size=\"14.00\">gini = 0.371</text>\n",
       "<text text-anchor=\"start\" x=\"81.5\" y=\"-141.8\" font-family=\"Helvetica,sans-Serif\" font-size=\"14.00\">samples = 264</text>\n",
       "<text text-anchor=\"start\" x=\"76\" y=\"-126.8\" font-family=\"Helvetica,sans-Serif\" font-size=\"14.00\">value = [65, 199]</text>\n",
       "<text text-anchor=\"start\" x=\"77\" y=\"-111.8\" font-family=\"Helvetica,sans-Serif\" font-size=\"14.00\">class = Survived</text>\n",
       "</g>\n",
       "<!-- 0&#45;&gt;1 -->\n",
       "<g id=\"edge1\" class=\"edge\"><title>0&#45;&gt;1</title>\n",
       "<path fill=\"none\" stroke=\"black\" d=\"M178.632,-222.907C172.914,-214.105 166.807,-204.703 160.902,-195.612\"/>\n",
       "<polygon fill=\"black\" stroke=\"black\" points=\"163.704,-193.5 155.321,-187.021 157.833,-197.313 163.704,-193.5\"/>\n",
       "<text text-anchor=\"middle\" x=\"150.126\" y=\"-207.775\" font-family=\"Helvetica,sans-Serif\" font-size=\"14.00\">True</text>\n",
       "</g>\n",
       "<!-- 2 -->\n",
       "<g id=\"node5\" class=\"node\"><title>2</title>\n",
       "<path fill=\"#eb9f68\" stroke=\"black\" d=\"M342,-179.5C342,-179.5 220,-179.5 220,-179.5 214,-179.5 208,-173.5 208,-167.5 208,-167.5 208,-123.5 208,-123.5 208,-117.5 214,-111.5 220,-111.5 220,-111.5 342,-111.5 342,-111.5 348,-111.5 354,-117.5 354,-123.5 354,-123.5 354,-167.5 354,-167.5 354,-173.5 348,-179.5 342,-179.5\"/>\n",
       "<text text-anchor=\"start\" x=\"243.5\" y=\"-164.3\" font-family=\"Helvetica,sans-Serif\" font-size=\"14.00\">gini = 0.311</text>\n",
       "<text text-anchor=\"start\" x=\"233.5\" y=\"-149.3\" font-family=\"Helvetica,sans-Serif\" font-size=\"14.00\">samples = 493</text>\n",
       "<text text-anchor=\"start\" x=\"228\" y=\"-134.3\" font-family=\"Helvetica,sans-Serif\" font-size=\"14.00\">value = [398, 95]</text>\n",
       "<text text-anchor=\"start\" x=\"216\" y=\"-119.3\" font-family=\"Helvetica,sans-Serif\" font-size=\"14.00\">class = Not Survived</text>\n",
       "</g>\n",
       "<!-- 0&#45;&gt;2 -->\n",
       "<g id=\"edge4\" class=\"edge\"><title>0&#45;&gt;2</title>\n",
       "<path fill=\"none\" stroke=\"black\" d=\"M231.368,-222.907C238.679,-211.652 246.626,-199.418 253.974,-188.106\"/>\n",
       "<polygon fill=\"black\" stroke=\"black\" points=\"256.943,-189.96 259.456,-179.667 251.073,-186.146 256.943,-189.96\"/>\n",
       "<text text-anchor=\"middle\" x=\"264.651\" y=\"-200.421\" font-family=\"Helvetica,sans-Serif\" font-size=\"14.00\">False</text>\n",
       "</g>\n",
       "<!-- 3 -->\n",
       "<g id=\"node3\" class=\"node\"><title>3</title>\n",
       "<path fill=\"#45a3e7\" stroke=\"black\" d=\"M108,-68C108,-68 12,-68 12,-68 6,-68 0,-62 0,-56 0,-56 0,-12 0,-12 0,-6 6,-0 12,-0 12,-0 108,-0 108,-0 114,-0 120,-6 120,-12 120,-12 120,-56 120,-56 120,-62 114,-68 108,-68\"/>\n",
       "<text text-anchor=\"start\" x=\"22.5\" y=\"-52.8\" font-family=\"Helvetica,sans-Serif\" font-size=\"14.00\">gini = 0.108</text>\n",
       "<text text-anchor=\"start\" x=\"12.5\" y=\"-37.8\" font-family=\"Helvetica,sans-Serif\" font-size=\"14.00\">samples = 140</text>\n",
       "<text text-anchor=\"start\" x=\"11.5\" y=\"-22.8\" font-family=\"Helvetica,sans-Serif\" font-size=\"14.00\">value = [8, 132]</text>\n",
       "<text text-anchor=\"start\" x=\"8\" y=\"-7.8\" font-family=\"Helvetica,sans-Serif\" font-size=\"14.00\">class = Survived</text>\n",
       "</g>\n",
       "<!-- 1&#45;&gt;3 -->\n",
       "<g id=\"edge2\" class=\"edge\"><title>1&#45;&gt;3</title>\n",
       "<path fill=\"none\" stroke=\"black\" d=\"M103.307,-103.726C97.7895,-94.9703 91.9499,-85.7032 86.4059,-76.9051\"/>\n",
       "<polygon fill=\"black\" stroke=\"black\" points=\"89.2757,-74.8941 80.9833,-68.2996 83.3534,-78.6259 89.2757,-74.8941\"/>\n",
       "</g>\n",
       "<!-- 4 -->\n",
       "<g id=\"node4\" class=\"node\"><title>4</title>\n",
       "<path fill=\"#e1f0fb\" stroke=\"black\" d=\"M246,-68C246,-68 150,-68 150,-68 144,-68 138,-62 138,-56 138,-56 138,-12 138,-12 138,-6 144,-0 150,-0 150,-0 246,-0 246,-0 252,-0 258,-6 258,-12 258,-12 258,-56 258,-56 258,-62 252,-68 246,-68\"/>\n",
       "<text text-anchor=\"start\" x=\"160.5\" y=\"-52.8\" font-family=\"Helvetica,sans-Serif\" font-size=\"14.00\">gini = 0.497</text>\n",
       "<text text-anchor=\"start\" x=\"150.5\" y=\"-37.8\" font-family=\"Helvetica,sans-Serif\" font-size=\"14.00\">samples = 124</text>\n",
       "<text text-anchor=\"start\" x=\"149.5\" y=\"-22.8\" font-family=\"Helvetica,sans-Serif\" font-size=\"14.00\">value = [57, 67]</text>\n",
       "<text text-anchor=\"start\" x=\"146\" y=\"-7.8\" font-family=\"Helvetica,sans-Serif\" font-size=\"14.00\">class = Survived</text>\n",
       "</g>\n",
       "<!-- 1&#45;&gt;4 -->\n",
       "<g id=\"edge3\" class=\"edge\"><title>1&#45;&gt;4</title>\n",
       "<path fill=\"none\" stroke=\"black\" d=\"M154.693,-103.726C160.211,-94.9703 166.05,-85.7032 171.594,-76.9051\"/>\n",
       "<polygon fill=\"black\" stroke=\"black\" points=\"174.647,-78.6259 177.017,-68.2996 168.724,-74.8941 174.647,-78.6259\"/>\n",
       "</g>\n",
       "</g>\n",
       "</svg>\n"
      ],
      "text/plain": [
       "<graphviz.sources.Source at 0x1903bcbf7c0>"
      ]
     },
     "execution_count": 13,
     "metadata": {},
     "output_type": "execute_result"
    }
   ],
   "source": [
    "from sklearn import tree\n",
    "\n",
    "import graphviz \n",
    "\n",
    "dot_data = tree.export_graphviz(tree1, out_file=None) \n",
    "dot_data = tree.export_graphviz(tree1, out_file=None, \n",
    "                     feature_names=x_train.columns,  \n",
    "                     class_names=['Not Survived','Survived'],  \n",
    "                     filled=True, rounded=True,  \n",
    "                     special_characters=True)  \n",
    "\n",
    "graph = graphviz.Source(dot_data)  \n",
    "\n",
    "graph"
   ]
  },
  {
   "cell_type": "markdown",
   "metadata": {},
   "source": [
    "### Step 6: Test the model"
   ]
  },
  {
   "cell_type": "code",
   "execution_count": 14,
   "metadata": {},
   "outputs": [
    {
     "name": "stdout",
     "output_type": "stream",
     "text": [
      "Testing Accuracy is:\n"
     ]
    },
    {
     "data": {
      "text/plain": [
       "0.7761194029850746"
      ]
     },
     "execution_count": 14,
     "metadata": {},
     "output_type": "execute_result"
    }
   ],
   "source": [
    "# Prediction and accuracy on testing data\n",
    "\n",
    "print('Testing Accuracy is:')\n",
    "tree1.score(x_test, y_test)"
   ]
  },
  {
   "cell_type": "markdown",
   "metadata": {},
   "source": [
    "### Step 7: Hyperparameters Tuning and redo Step 5 and 6\n",
    "How do we know the selection of `max_leaf_nodes` and `criterion` in Step 5 is the best selection?\n",
    "\n",
    "Tuning hyperparameters or Tuning a model is to search for the set of hyperparameters that works the best.  To tune a model, one first needs to know what the hyperparameters/tuning parameters that the model has. A model may have several hyperparamters that sometime it is not practical to tune all the hyperparameters. \n",
    "\n",
    "Our model here is decision tree. To see the list of tuning parameters of decision trees, one can check at the `sklearn` document of the model. One way to find out is to `google`: DecisionTreeClassifier and sklearn.  This search brings us to [this link.](https://scikit-learn.org/stable/modules/generated/sklearn.tree.DecisionTreeClassifier.html)\n",
    "\n",
    "From the link, you can see the list of (hyper)parameters. In this example, we will tune two parameters `max_leaf_nodes` and `criterion`. "
   ]
  },
  {
   "cell_type": "code",
   "execution_count": 15,
   "metadata": {},
   "outputs": [
    {
     "data": {
      "text/plain": [
       "GridSearchCV(cv=5, estimator=DecisionTreeClassifier(),\n",
       "             param_grid={'criterion': ['gini', 'entropy'],\n",
       "                         'max_leaf_nodes': range(2, 10)})"
      ]
     },
     "execution_count": 15,
     "metadata": {},
     "output_type": "execute_result"
    }
   ],
   "source": [
    "import warnings\n",
    "warnings.filterwarnings(\"ignore\")\n",
    "\n",
    "\n",
    "# Decide what hyperparameter to tune then decide the searching range\n",
    "param_grid = {'max_leaf_nodes': range(2,10), \n",
    "              'criterion':['gini', 'entropy']}\n",
    "\n",
    "# Create a list of trees\n",
    "from sklearn.model_selection import GridSearchCV\n",
    "tree2 = GridSearchCV(DecisionTreeClassifier(), param_grid, cv = 5)\n",
    "tree2.fit(x_train, y_train)"
   ]
  },
  {
   "cell_type": "markdown",
   "metadata": {},
   "source": [
    "In the above code, `cv=5` means the cross validation is done with 5 folds.  This means that the training data will be partition into 5 pieces and each piece will be used as a validation data while the remaining four pieces will be used as the data to build model. \n",
    "\n",
    "More informatiom about `k-fold cross validation` can be seen [here](https://bryantstats.github.io/overfitting.html#/50) \n",
    "\n",
    "In this example, with 10 different values of `max_leaf_nodes` (2 to 9), and 2 different values of `criterion`, there will be 8x2=16 models (trees) will be tested. Each of these 16 models will be run 5 times (since `cv=5`). Thus, in total, there will be 16x5=80 times a tree is computed. The search for the best parameters could be time consuming! "
   ]
  },
  {
   "cell_type": "code",
   "execution_count": 16,
   "metadata": {},
   "outputs": [
    {
     "data": {
      "text/html": [
       "<div>\n",
       "<style scoped>\n",
       "    .dataframe tbody tr th:only-of-type {\n",
       "        vertical-align: middle;\n",
       "    }\n",
       "\n",
       "    .dataframe tbody tr th {\n",
       "        vertical-align: top;\n",
       "    }\n",
       "\n",
       "    .dataframe thead th {\n",
       "        text-align: right;\n",
       "    }\n",
       "</style>\n",
       "<table border=\"1\" class=\"dataframe\">\n",
       "  <thead>\n",
       "    <tr style=\"text-align: right;\">\n",
       "      <th></th>\n",
       "      <th>criterion</th>\n",
       "      <th>max_leaf_nodes</th>\n",
       "      <th>Accuracy</th>\n",
       "      <th>Rank</th>\n",
       "    </tr>\n",
       "  </thead>\n",
       "  <tbody>\n",
       "    <tr>\n",
       "      <th>0</th>\n",
       "      <td>gini</td>\n",
       "      <td>2</td>\n",
       "      <td>0.788637</td>\n",
       "      <td>11</td>\n",
       "    </tr>\n",
       "    <tr>\n",
       "      <th>1</th>\n",
       "      <td>gini</td>\n",
       "      <td>3</td>\n",
       "      <td>0.788637</td>\n",
       "      <td>12</td>\n",
       "    </tr>\n",
       "    <tr>\n",
       "      <th>2</th>\n",
       "      <td>gini</td>\n",
       "      <td>4</td>\n",
       "      <td>0.788646</td>\n",
       "      <td>10</td>\n",
       "    </tr>\n",
       "    <tr>\n",
       "      <th>3</th>\n",
       "      <td>gini</td>\n",
       "      <td>5</td>\n",
       "      <td>0.793926</td>\n",
       "      <td>9</td>\n",
       "    </tr>\n",
       "    <tr>\n",
       "      <th>4</th>\n",
       "      <td>gini</td>\n",
       "      <td>6</td>\n",
       "      <td>0.807128</td>\n",
       "      <td>6</td>\n",
       "    </tr>\n",
       "    <tr>\n",
       "      <th>5</th>\n",
       "      <td>gini</td>\n",
       "      <td>7</td>\n",
       "      <td>0.813742</td>\n",
       "      <td>0</td>\n",
       "    </tr>\n",
       "    <tr>\n",
       "      <th>6</th>\n",
       "      <td>gini</td>\n",
       "      <td>8</td>\n",
       "      <td>0.813698</td>\n",
       "      <td>1</td>\n",
       "    </tr>\n",
       "    <tr>\n",
       "      <th>7</th>\n",
       "      <td>gini</td>\n",
       "      <td>9</td>\n",
       "      <td>0.808426</td>\n",
       "      <td>5</td>\n",
       "    </tr>\n",
       "    <tr>\n",
       "      <th>8</th>\n",
       "      <td>entropy</td>\n",
       "      <td>2</td>\n",
       "      <td>0.788637</td>\n",
       "      <td>13</td>\n",
       "    </tr>\n",
       "    <tr>\n",
       "      <th>9</th>\n",
       "      <td>entropy</td>\n",
       "      <td>3</td>\n",
       "      <td>0.788637</td>\n",
       "      <td>14</td>\n",
       "    </tr>\n",
       "    <tr>\n",
       "      <th>10</th>\n",
       "      <td>entropy</td>\n",
       "      <td>4</td>\n",
       "      <td>0.788637</td>\n",
       "      <td>15</td>\n",
       "    </tr>\n",
       "    <tr>\n",
       "      <th>11</th>\n",
       "      <td>entropy</td>\n",
       "      <td>5</td>\n",
       "      <td>0.799190</td>\n",
       "      <td>8</td>\n",
       "    </tr>\n",
       "    <tr>\n",
       "      <th>12</th>\n",
       "      <td>entropy</td>\n",
       "      <td>6</td>\n",
       "      <td>0.812409</td>\n",
       "      <td>3</td>\n",
       "    </tr>\n",
       "    <tr>\n",
       "      <th>13</th>\n",
       "      <td>entropy</td>\n",
       "      <td>7</td>\n",
       "      <td>0.812409</td>\n",
       "      <td>4</td>\n",
       "    </tr>\n",
       "    <tr>\n",
       "      <th>14</th>\n",
       "      <td>entropy</td>\n",
       "      <td>8</td>\n",
       "      <td>0.807110</td>\n",
       "      <td>7</td>\n",
       "    </tr>\n",
       "    <tr>\n",
       "      <th>15</th>\n",
       "      <td>entropy</td>\n",
       "      <td>9</td>\n",
       "      <td>0.813689</td>\n",
       "      <td>2</td>\n",
       "    </tr>\n",
       "  </tbody>\n",
       "</table>\n",
       "</div>"
      ],
      "text/plain": [
       "   criterion  max_leaf_nodes  Accuracy  Rank\n",
       "0       gini               2  0.788637    11\n",
       "1       gini               3  0.788637    12\n",
       "2       gini               4  0.788646    10\n",
       "3       gini               5  0.793926     9\n",
       "4       gini               6  0.807128     6\n",
       "5       gini               7  0.813742     0\n",
       "6       gini               8  0.813698     1\n",
       "7       gini               9  0.808426     5\n",
       "8    entropy               2  0.788637    13\n",
       "9    entropy               3  0.788637    14\n",
       "10   entropy               4  0.788637    15\n",
       "11   entropy               5  0.799190     8\n",
       "12   entropy               6  0.812409     3\n",
       "13   entropy               7  0.812409     4\n",
       "14   entropy               8  0.807110     7\n",
       "15   entropy               9  0.813689     2"
      ]
     },
     "execution_count": 16,
     "metadata": {},
     "output_type": "execute_result"
    }
   ],
   "source": [
    "cv_result = pd.concat([pd.DataFrame(tree2.cv_results_[\"params\"]),pd.DataFrame(tree2.cv_results_[\"mean_test_score\"], columns=[\"Accuracy\"])],axis=1)\n",
    "cv_result['Rank'] = (-cv_result['Accuracy']).argsort().argsort()\n",
    "cv_result"
   ]
  },
  {
   "cell_type": "markdown",
   "metadata": {},
   "source": [
    "The above shows that the best hyperparameters are criterion=entropy and max_leaf_nodes=7. We can use this information to redo step 5. "
   ]
  },
  {
   "cell_type": "code",
   "execution_count": 17,
   "metadata": {},
   "outputs": [
    {
     "name": "stdout",
     "output_type": "stream",
     "text": [
      "Best Tree is: {'criterion': 'gini', 'max_leaf_nodes': 7}\n",
      "\n"
     ]
    },
    {
     "data": {
      "image/svg+xml": [
       "<?xml version=\"1.0\" encoding=\"UTF-8\" standalone=\"no\"?>\n",
       "<!DOCTYPE svg PUBLIC \"-//W3C//DTD SVG 1.1//EN\"\n",
       " \"http://www.w3.org/Graphics/SVG/1.1/DTD/svg11.dtd\">\n",
       "<!-- Generated by graphviz version 2.38.0 (20140413.2041)\n",
       " -->\n",
       "<!-- Title: Tree Pages: 1 -->\n",
       "<svg width=\"922pt\" height=\"433pt\"\n",
       " viewBox=\"0.00 0.00 922.00 433.00\" xmlns=\"http://www.w3.org/2000/svg\" xmlns:xlink=\"http://www.w3.org/1999/xlink\">\n",
       "<g id=\"graph0\" class=\"graph\" transform=\"scale(1 1) rotate(0) translate(4 429)\">\n",
       "<title>Tree</title>\n",
       "<polygon fill=\"white\" stroke=\"none\" points=\"-4,4 -4,-429 918,-429 918,4 -4,4\"/>\n",
       "<!-- 0 -->\n",
       "<g id=\"node1\" class=\"node\"><title>0</title>\n",
       "<path fill=\"#f5cfb4\" stroke=\"black\" d=\"M518,-425C518,-425 396,-425 396,-425 390,-425 384,-419 384,-413 384,-413 384,-354 384,-354 384,-348 390,-342 396,-342 396,-342 518,-342 518,-342 524,-342 530,-348 530,-354 530,-354 530,-413 530,-413 530,-419 524,-425 518,-425\"/>\n",
       "<text text-anchor=\"start\" x=\"401\" y=\"-409.8\" font-family=\"Helvetica,sans-Serif\" font-size=\"14.00\">Sex_female ≤ 0.5</text>\n",
       "<text text-anchor=\"start\" x=\"419.5\" y=\"-394.8\" font-family=\"Helvetica,sans-Serif\" font-size=\"14.00\">gini = 0.473</text>\n",
       "<text text-anchor=\"start\" x=\"409.5\" y=\"-379.8\" font-family=\"Helvetica,sans-Serif\" font-size=\"14.00\">samples = 891</text>\n",
       "<text text-anchor=\"start\" x=\"400\" y=\"-364.8\" font-family=\"Helvetica,sans-Serif\" font-size=\"14.00\">value = [549, 342]</text>\n",
       "<text text-anchor=\"start\" x=\"392\" y=\"-349.8\" font-family=\"Helvetica,sans-Serif\" font-size=\"14.00\">class = Not Survived</text>\n",
       "</g>\n",
       "<!-- 1 -->\n",
       "<g id=\"node2\" class=\"node\"><title>1</title>\n",
       "<path fill=\"#eb9e67\" stroke=\"black\" d=\"M439,-306C439,-306 317,-306 317,-306 311,-306 305,-300 305,-294 305,-294 305,-235 305,-235 305,-229 311,-223 317,-223 317,-223 439,-223 439,-223 445,-223 451,-229 451,-235 451,-235 451,-294 451,-294 451,-300 445,-306 439,-306\"/>\n",
       "<text text-anchor=\"start\" x=\"347\" y=\"-290.8\" font-family=\"Helvetica,sans-Serif\" font-size=\"14.00\">Age ≤ 6.5</text>\n",
       "<text text-anchor=\"start\" x=\"340.5\" y=\"-275.8\" font-family=\"Helvetica,sans-Serif\" font-size=\"14.00\">gini = 0.306</text>\n",
       "<text text-anchor=\"start\" x=\"330.5\" y=\"-260.8\" font-family=\"Helvetica,sans-Serif\" font-size=\"14.00\">samples = 577</text>\n",
       "<text text-anchor=\"start\" x=\"321\" y=\"-245.8\" font-family=\"Helvetica,sans-Serif\" font-size=\"14.00\">value = [468, 109]</text>\n",
       "<text text-anchor=\"start\" x=\"313\" y=\"-230.8\" font-family=\"Helvetica,sans-Serif\" font-size=\"14.00\">class = Not Survived</text>\n",
       "</g>\n",
       "<!-- 0&#45;&gt;1 -->\n",
       "<g id=\"edge1\" class=\"edge\"><title>0&#45;&gt;1</title>\n",
       "<path fill=\"none\" stroke=\"black\" d=\"M429.591,-341.907C423.586,-333.014 417.169,-323.509 410.971,-314.331\"/>\n",
       "<polygon fill=\"black\" stroke=\"black\" points=\"413.857,-312.35 405.36,-306.021 408.056,-316.267 413.857,-312.35\"/>\n",
       "<text text-anchor=\"middle\" x=\"400.602\" y=\"-326.864\" font-family=\"Helvetica,sans-Serif\" font-size=\"14.00\">True</text>\n",
       "</g>\n",
       "<!-- 2 -->\n",
       "<g id=\"node9\" class=\"node\"><title>2</title>\n",
       "<path fill=\"#7ebfee\" stroke=\"black\" d=\"M585,-306C585,-306 487,-306 487,-306 481,-306 475,-300 475,-294 475,-294 475,-235 475,-235 475,-229 481,-223 487,-223 487,-223 585,-223 585,-223 591,-223 597,-229 597,-235 597,-235 597,-294 597,-294 597,-300 591,-306 585,-306\"/>\n",
       "<text text-anchor=\"start\" x=\"488.5\" y=\"-290.8\" font-family=\"Helvetica,sans-Serif\" font-size=\"14.00\">Pclass_3 ≤ 0.5</text>\n",
       "<text text-anchor=\"start\" x=\"498.5\" y=\"-275.8\" font-family=\"Helvetica,sans-Serif\" font-size=\"14.00\">gini = 0.383</text>\n",
       "<text text-anchor=\"start\" x=\"488.5\" y=\"-260.8\" font-family=\"Helvetica,sans-Serif\" font-size=\"14.00\">samples = 314</text>\n",
       "<text text-anchor=\"start\" x=\"483\" y=\"-245.8\" font-family=\"Helvetica,sans-Serif\" font-size=\"14.00\">value = [81, 233]</text>\n",
       "<text text-anchor=\"start\" x=\"484\" y=\"-230.8\" font-family=\"Helvetica,sans-Serif\" font-size=\"14.00\">class = Survived</text>\n",
       "</g>\n",
       "<!-- 0&#45;&gt;2 -->\n",
       "<g id=\"edge8\" class=\"edge\"><title>0&#45;&gt;2</title>\n",
       "<path fill=\"none\" stroke=\"black\" d=\"M484.409,-341.907C490.414,-333.014 496.831,-323.509 503.029,-314.331\"/>\n",
       "<polygon fill=\"black\" stroke=\"black\" points=\"505.944,-316.267 508.64,-306.021 500.143,-312.35 505.944,-316.267\"/>\n",
       "<text text-anchor=\"middle\" x=\"513.398\" y=\"-326.864\" font-family=\"Helvetica,sans-Serif\" font-size=\"14.00\">False</text>\n",
       "</g>\n",
       "<!-- 5 -->\n",
       "<g id=\"node3\" class=\"node\"><title>5</title>\n",
       "<path fill=\"#9ccef2\" stroke=\"black\" d=\"M259,-187C259,-187 163,-187 163,-187 157,-187 151,-181 151,-175 151,-175 151,-116 151,-116 151,-110 157,-104 163,-104 163,-104 259,-104 259,-104 265,-104 271,-110 271,-116 271,-116 271,-175 271,-175 271,-181 265,-187 259,-187\"/>\n",
       "<text text-anchor=\"start\" x=\"173.5\" y=\"-171.8\" font-family=\"Helvetica,sans-Serif\" font-size=\"14.00\">SibSp ≤ 2.5</text>\n",
       "<text text-anchor=\"start\" x=\"173.5\" y=\"-156.8\" font-family=\"Helvetica,sans-Serif\" font-size=\"14.00\">gini = 0.444</text>\n",
       "<text text-anchor=\"start\" x=\"167.5\" y=\"-141.8\" font-family=\"Helvetica,sans-Serif\" font-size=\"14.00\">samples = 24</text>\n",
       "<text text-anchor=\"start\" x=\"166.5\" y=\"-126.8\" font-family=\"Helvetica,sans-Serif\" font-size=\"14.00\">value = [8, 16]</text>\n",
       "<text text-anchor=\"start\" x=\"159\" y=\"-111.8\" font-family=\"Helvetica,sans-Serif\" font-size=\"14.00\">class = Survived</text>\n",
       "</g>\n",
       "<!-- 1&#45;&gt;5 -->\n",
       "<g id=\"edge2\" class=\"edge\"><title>1&#45;&gt;5</title>\n",
       "<path fill=\"none\" stroke=\"black\" d=\"M320.06,-222.907C306.2,-213.197 291.3,-202.758 277.102,-192.811\"/>\n",
       "<polygon fill=\"black\" stroke=\"black\" points=\"279.036,-189.892 268.837,-187.021 275.019,-195.625 279.036,-189.892\"/>\n",
       "</g>\n",
       "<!-- 6 -->\n",
       "<g id=\"node6\" class=\"node\"><title>6</title>\n",
       "<path fill=\"#ea9a61\" stroke=\"black\" d=\"M439,-187C439,-187 317,-187 317,-187 311,-187 305,-181 305,-175 305,-175 305,-116 305,-116 305,-110 311,-104 317,-104 317,-104 439,-104 439,-104 445,-104 451,-110 451,-116 451,-116 451,-175 451,-175 451,-181 445,-187 439,-187\"/>\n",
       "<text text-anchor=\"start\" x=\"330.5\" y=\"-171.8\" font-family=\"Helvetica,sans-Serif\" font-size=\"14.00\">Pclass_1 ≤ 0.5</text>\n",
       "<text text-anchor=\"start\" x=\"344.5\" y=\"-156.8\" font-family=\"Helvetica,sans-Serif\" font-size=\"14.00\">gini = 0.28</text>\n",
       "<text text-anchor=\"start\" x=\"330.5\" y=\"-141.8\" font-family=\"Helvetica,sans-Serif\" font-size=\"14.00\">samples = 553</text>\n",
       "<text text-anchor=\"start\" x=\"325\" y=\"-126.8\" font-family=\"Helvetica,sans-Serif\" font-size=\"14.00\">value = [460, 93]</text>\n",
       "<text text-anchor=\"start\" x=\"313\" y=\"-111.8\" font-family=\"Helvetica,sans-Serif\" font-size=\"14.00\">class = Not Survived</text>\n",
       "</g>\n",
       "<!-- 1&#45;&gt;6 -->\n",
       "<g id=\"edge5\" class=\"edge\"><title>1&#45;&gt;6</title>\n",
       "<path fill=\"none\" stroke=\"black\" d=\"M378,-222.907C378,-214.649 378,-205.864 378,-197.302\"/>\n",
       "<polygon fill=\"black\" stroke=\"black\" points=\"381.5,-197.021 378,-187.021 374.5,-197.021 381.5,-197.021\"/>\n",
       "</g>\n",
       "<!-- 11 -->\n",
       "<g id=\"node4\" class=\"node\"><title>11</title>\n",
       "<path fill=\"#399de5\" stroke=\"black\" d=\"M108,-68C108,-68 12,-68 12,-68 6,-68 0,-62 0,-56 0,-56 0,-12 0,-12 0,-6 6,-0 12,-0 12,-0 108,-0 108,-0 114,-0 120,-6 120,-12 120,-12 120,-56 120,-56 120,-62 114,-68 108,-68\"/>\n",
       "<text text-anchor=\"start\" x=\"31\" y=\"-52.8\" font-family=\"Helvetica,sans-Serif\" font-size=\"14.00\">gini = 0.0</text>\n",
       "<text text-anchor=\"start\" x=\"16.5\" y=\"-37.8\" font-family=\"Helvetica,sans-Serif\" font-size=\"14.00\">samples = 15</text>\n",
       "<text text-anchor=\"start\" x=\"15.5\" y=\"-22.8\" font-family=\"Helvetica,sans-Serif\" font-size=\"14.00\">value = [0, 15]</text>\n",
       "<text text-anchor=\"start\" x=\"8\" y=\"-7.8\" font-family=\"Helvetica,sans-Serif\" font-size=\"14.00\">class = Survived</text>\n",
       "</g>\n",
       "<!-- 5&#45;&gt;11 -->\n",
       "<g id=\"edge3\" class=\"edge\"><title>5&#45;&gt;11</title>\n",
       "<path fill=\"none\" stroke=\"black\" d=\"M154.773,-103.726C141.441,-94.0582 127.249,-83.767 114.018,-74.172\"/>\n",
       "<polygon fill=\"black\" stroke=\"black\" points=\"116.07,-71.3368 105.92,-68.2996 111.961,-77.0036 116.07,-71.3368\"/>\n",
       "</g>\n",
       "<!-- 12 -->\n",
       "<g id=\"node5\" class=\"node\"><title>12</title>\n",
       "<path fill=\"#e89152\" stroke=\"black\" d=\"M272,-68C272,-68 150,-68 150,-68 144,-68 138,-62 138,-56 138,-56 138,-12 138,-12 138,-6 144,-0 150,-0 150,-0 272,-0 272,-0 278,-0 284,-6 284,-12 284,-12 284,-56 284,-56 284,-62 278,-68 272,-68\"/>\n",
       "<text text-anchor=\"start\" x=\"173.5\" y=\"-52.8\" font-family=\"Helvetica,sans-Serif\" font-size=\"14.00\">gini = 0.198</text>\n",
       "<text text-anchor=\"start\" x=\"171.5\" y=\"-37.8\" font-family=\"Helvetica,sans-Serif\" font-size=\"14.00\">samples = 9</text>\n",
       "<text text-anchor=\"start\" x=\"170.5\" y=\"-22.8\" font-family=\"Helvetica,sans-Serif\" font-size=\"14.00\">value = [8, 1]</text>\n",
       "<text text-anchor=\"start\" x=\"146\" y=\"-7.8\" font-family=\"Helvetica,sans-Serif\" font-size=\"14.00\">class = Not Survived</text>\n",
       "</g>\n",
       "<!-- 5&#45;&gt;12 -->\n",
       "<g id=\"edge4\" class=\"edge\"><title>5&#45;&gt;12</title>\n",
       "<path fill=\"none\" stroke=\"black\" d=\"M211,-103.726C211,-95.5175 211,-86.8595 211,-78.56\"/>\n",
       "<polygon fill=\"black\" stroke=\"black\" points=\"214.5,-78.2996 211,-68.2996 207.5,-78.2996 214.5,-78.2996\"/>\n",
       "</g>\n",
       "<!-- 7 -->\n",
       "<g id=\"node7\" class=\"node\"><title>7</title>\n",
       "<path fill=\"#e89153\" stroke=\"black\" d=\"M436,-68C436,-68 314,-68 314,-68 308,-68 302,-62 302,-56 302,-56 302,-12 302,-12 302,-6 308,-0 314,-0 314,-0 436,-0 436,-0 442,-0 448,-6 448,-12 448,-12 448,-56 448,-56 448,-62 442,-68 436,-68\"/>\n",
       "<text text-anchor=\"start\" x=\"337.5\" y=\"-52.8\" font-family=\"Helvetica,sans-Serif\" font-size=\"14.00\">gini = 0.204</text>\n",
       "<text text-anchor=\"start\" x=\"327.5\" y=\"-37.8\" font-family=\"Helvetica,sans-Serif\" font-size=\"14.00\">samples = 433</text>\n",
       "<text text-anchor=\"start\" x=\"322\" y=\"-22.8\" font-family=\"Helvetica,sans-Serif\" font-size=\"14.00\">value = [383, 50]</text>\n",
       "<text text-anchor=\"start\" x=\"310\" y=\"-7.8\" font-family=\"Helvetica,sans-Serif\" font-size=\"14.00\">class = Not Survived</text>\n",
       "</g>\n",
       "<!-- 6&#45;&gt;7 -->\n",
       "<g id=\"edge6\" class=\"edge\"><title>6&#45;&gt;7</title>\n",
       "<path fill=\"none\" stroke=\"black\" d=\"M376.883,-103.726C376.658,-95.5175 376.421,-86.8595 376.193,-78.56\"/>\n",
       "<polygon fill=\"black\" stroke=\"black\" points=\"379.685,-78.2 375.912,-68.2996 372.688,-78.3917 379.685,-78.2\"/>\n",
       "</g>\n",
       "<!-- 8 -->\n",
       "<g id=\"node8\" class=\"node\"><title>8</title>\n",
       "<path fill=\"#f4c7a8\" stroke=\"black\" d=\"M600,-68C600,-68 478,-68 478,-68 472,-68 466,-62 466,-56 466,-56 466,-12 466,-12 466,-6 472,-0 478,-0 478,-0 600,-0 600,-0 606,-0 612,-6 612,-12 612,-12 612,-56 612,-56 612,-62 606,-68 600,-68\"/>\n",
       "<text text-anchor=\"start\" x=\"505.5\" y=\"-52.8\" font-family=\"Helvetica,sans-Serif\" font-size=\"14.00\">gini = 0.46</text>\n",
       "<text text-anchor=\"start\" x=\"491.5\" y=\"-37.8\" font-family=\"Helvetica,sans-Serif\" font-size=\"14.00\">samples = 120</text>\n",
       "<text text-anchor=\"start\" x=\"490.5\" y=\"-22.8\" font-family=\"Helvetica,sans-Serif\" font-size=\"14.00\">value = [77, 43]</text>\n",
       "<text text-anchor=\"start\" x=\"474\" y=\"-7.8\" font-family=\"Helvetica,sans-Serif\" font-size=\"14.00\">class = Not Survived</text>\n",
       "</g>\n",
       "<!-- 6&#45;&gt;8 -->\n",
       "<g id=\"edge7\" class=\"edge\"><title>6&#45;&gt;8</title>\n",
       "<path fill=\"none\" stroke=\"black\" d=\"M437.95,-103.726C452.374,-93.9161 467.742,-83.4644 482.026,-73.7496\"/>\n",
       "<polygon fill=\"black\" stroke=\"black\" points=\"483.995,-76.6431 490.295,-68.1252 480.058,-70.855 483.995,-76.6431\"/>\n",
       "</g>\n",
       "<!-- 3 -->\n",
       "<g id=\"node10\" class=\"node\"><title>3</title>\n",
       "<path fill=\"#44a2e6\" stroke=\"black\" d=\"M584,-179.5C584,-179.5 488,-179.5 488,-179.5 482,-179.5 476,-173.5 476,-167.5 476,-167.5 476,-123.5 476,-123.5 476,-117.5 482,-111.5 488,-111.5 488,-111.5 584,-111.5 584,-111.5 590,-111.5 596,-117.5 596,-123.5 596,-123.5 596,-167.5 596,-167.5 596,-173.5 590,-179.5 584,-179.5\"/>\n",
       "<text text-anchor=\"start\" x=\"507\" y=\"-164.3\" font-family=\"Helvetica,sans-Serif\" font-size=\"14.00\">gini = 0.1</text>\n",
       "<text text-anchor=\"start\" x=\"488.5\" y=\"-149.3\" font-family=\"Helvetica,sans-Serif\" font-size=\"14.00\">samples = 170</text>\n",
       "<text text-anchor=\"start\" x=\"487.5\" y=\"-134.3\" font-family=\"Helvetica,sans-Serif\" font-size=\"14.00\">value = [9, 161]</text>\n",
       "<text text-anchor=\"start\" x=\"484\" y=\"-119.3\" font-family=\"Helvetica,sans-Serif\" font-size=\"14.00\">class = Survived</text>\n",
       "</g>\n",
       "<!-- 2&#45;&gt;3 -->\n",
       "<g id=\"edge9\" class=\"edge\"><title>2&#45;&gt;3</title>\n",
       "<path fill=\"none\" stroke=\"black\" d=\"M536,-222.907C536,-212.204 536,-200.615 536,-189.776\"/>\n",
       "<polygon fill=\"black\" stroke=\"black\" points=\"539.5,-189.667 536,-179.667 532.5,-189.667 539.5,-189.667\"/>\n",
       "</g>\n",
       "<!-- 4 -->\n",
       "<g id=\"node11\" class=\"node\"><title>4</title>\n",
       "<path fill=\"#ffffff\" stroke=\"black\" d=\"M751,-187C751,-187 629,-187 629,-187 623,-187 617,-181 617,-175 617,-175 617,-116 617,-116 617,-110 623,-104 629,-104 629,-104 751,-104 751,-104 757,-104 763,-110 763,-116 763,-116 763,-175 763,-175 763,-181 757,-187 751,-187\"/>\n",
       "<text text-anchor=\"start\" x=\"649\" y=\"-171.8\" font-family=\"Helvetica,sans-Serif\" font-size=\"14.00\">Fare ≤ 23.35</text>\n",
       "<text text-anchor=\"start\" x=\"661\" y=\"-156.8\" font-family=\"Helvetica,sans-Serif\" font-size=\"14.00\">gini = 0.5</text>\n",
       "<text text-anchor=\"start\" x=\"642.5\" y=\"-141.8\" font-family=\"Helvetica,sans-Serif\" font-size=\"14.00\">samples = 144</text>\n",
       "<text text-anchor=\"start\" x=\"641.5\" y=\"-126.8\" font-family=\"Helvetica,sans-Serif\" font-size=\"14.00\">value = [72, 72]</text>\n",
       "<text text-anchor=\"start\" x=\"625\" y=\"-111.8\" font-family=\"Helvetica,sans-Serif\" font-size=\"14.00\">class = Not Survived</text>\n",
       "</g>\n",
       "<!-- 2&#45;&gt;4 -->\n",
       "<g id=\"edge10\" class=\"edge\"><title>2&#45;&gt;4</title>\n",
       "<path fill=\"none\" stroke=\"black\" d=\"M589.43,-222.907C602.091,-213.288 615.694,-202.953 628.676,-193.09\"/>\n",
       "<polygon fill=\"black\" stroke=\"black\" points=\"630.82,-195.857 636.665,-187.021 626.585,-190.283 630.82,-195.857\"/>\n",
       "</g>\n",
       "<!-- 9 -->\n",
       "<g id=\"node12\" class=\"node\"><title>9</title>\n",
       "<path fill=\"#c3e1f7\" stroke=\"black\" d=\"M738,-68C738,-68 642,-68 642,-68 636,-68 630,-62 630,-56 630,-56 630,-12 630,-12 630,-6 636,-0 642,-0 642,-0 738,-0 738,-0 744,-0 750,-6 750,-12 750,-12 750,-56 750,-56 750,-62 744,-68 738,-68\"/>\n",
       "<text text-anchor=\"start\" x=\"652.5\" y=\"-52.8\" font-family=\"Helvetica,sans-Serif\" font-size=\"14.00\">gini = 0.484</text>\n",
       "<text text-anchor=\"start\" x=\"642.5\" y=\"-37.8\" font-family=\"Helvetica,sans-Serif\" font-size=\"14.00\">samples = 117</text>\n",
       "<text text-anchor=\"start\" x=\"641.5\" y=\"-22.8\" font-family=\"Helvetica,sans-Serif\" font-size=\"14.00\">value = [48, 69]</text>\n",
       "<text text-anchor=\"start\" x=\"638\" y=\"-7.8\" font-family=\"Helvetica,sans-Serif\" font-size=\"14.00\">class = Survived</text>\n",
       "</g>\n",
       "<!-- 4&#45;&gt;9 -->\n",
       "<g id=\"edge11\" class=\"edge\"><title>4&#45;&gt;9</title>\n",
       "<path fill=\"none\" stroke=\"black\" d=\"M690,-103.726C690,-95.5175 690,-86.8595 690,-78.56\"/>\n",
       "<polygon fill=\"black\" stroke=\"black\" points=\"693.5,-78.2996 690,-68.2996 686.5,-78.2996 693.5,-78.2996\"/>\n",
       "</g>\n",
       "<!-- 10 -->\n",
       "<g id=\"node13\" class=\"node\"><title>10</title>\n",
       "<path fill=\"#e89152\" stroke=\"black\" d=\"M902,-68C902,-68 780,-68 780,-68 774,-68 768,-62 768,-56 768,-56 768,-12 768,-12 768,-6 774,-0 780,-0 780,-0 902,-0 902,-0 908,-0 914,-6 914,-12 914,-12 914,-56 914,-56 914,-62 908,-68 902,-68\"/>\n",
       "<text text-anchor=\"start\" x=\"803.5\" y=\"-52.8\" font-family=\"Helvetica,sans-Serif\" font-size=\"14.00\">gini = 0.198</text>\n",
       "<text text-anchor=\"start\" x=\"797.5\" y=\"-37.8\" font-family=\"Helvetica,sans-Serif\" font-size=\"14.00\">samples = 27</text>\n",
       "<text text-anchor=\"start\" x=\"796.5\" y=\"-22.8\" font-family=\"Helvetica,sans-Serif\" font-size=\"14.00\">value = [24, 3]</text>\n",
       "<text text-anchor=\"start\" x=\"776\" y=\"-7.8\" font-family=\"Helvetica,sans-Serif\" font-size=\"14.00\">class = Not Survived</text>\n",
       "</g>\n",
       "<!-- 4&#45;&gt;10 -->\n",
       "<g id=\"edge12\" class=\"edge\"><title>4&#45;&gt;10</title>\n",
       "<path fill=\"none\" stroke=\"black\" d=\"M746.227,-103.726C759.559,-94.0582 773.751,-83.767 786.982,-74.172\"/>\n",
       "<polygon fill=\"black\" stroke=\"black\" points=\"789.039,-77.0036 795.08,-68.2996 784.93,-71.3368 789.039,-77.0036\"/>\n",
       "</g>\n",
       "</g>\n",
       "</svg>\n"
      ],
      "text/plain": [
       "<graphviz.sources.Source at 0x1903bd18e20>"
      ]
     },
     "execution_count": 17,
     "metadata": {},
     "output_type": "execute_result"
    }
   ],
   "source": [
    "tree3 = DecisionTreeClassifier(**tree2.best_params_)\n",
    "\n",
    "# Train with the selected hyperparameter\n",
    "tree3.fit(X, y)\n",
    "\n",
    "print('Best Tree is:', tree2.best_params_)\n",
    "print('')\n",
    "import graphviz \n",
    "dot_data = tree.export_graphviz(tree3, out_file=None) \n",
    "dot_data = tree.export_graphviz(tree3, out_file=None, \n",
    "                     feature_names=x_train.columns,  \n",
    "                     class_names=['Not Survived','Survived'],  \n",
    "                     filled=True, rounded=True,  \n",
    "                     special_characters=True)  \n",
    "\n",
    "graph = graphviz.Source(dot_data)  \n",
    "\n",
    "graph"
   ]
  },
  {
   "cell_type": "markdown",
   "metadata": {},
   "source": [
    "### Step 8.  Submit predictions to Kaggle"
   ]
  },
  {
   "cell_type": "code",
   "execution_count": 18,
   "metadata": {},
   "outputs": [],
   "source": [
    "# Import the test dataset and do some cleaning\n",
    "df_test = pd.read_csv('titanic_test.csv')\n",
    "\n",
    "# Assign input variables\n",
    "X_test = df_test.loc[:,['Pclass','Sex','Age','Fare','Embarked','SibSp','Parch']]\n",
    "\n",
    "# Replace missing values by the median\n",
    "X_test[\"Age\"] = X_test[\"Age\"].fillna(X_test[\"Age\"].median())\n",
    "\n",
    "# Replace missing values by the median\n",
    "X_test[\"Fare\"] = X_test[\"Fare\"].fillna(X_test[\"Fare\"].median())\n",
    "\n",
    "# Impute the Embarked variable\n",
    "X_test[\"Embarked\"] = X_test[\"Embarked\"].fillna(\"S\")\n",
    "# Change Pclass to categorical variable\n",
    "X_test['Pclass'] = X_test['Pclass'].astype(object)\n",
    "\n",
    "# Encode categorical variable\n",
    "X_test = pd.get_dummies(X_test)\n",
    "\n",
    "# Make predictions\n",
    "predictions = tree3.predict(X_test)\n",
    "\n",
    "# Save the file in the same folder\n",
    "submission = pd.DataFrame({'PassengerID': df_test['PassengerId'], 'Survived': predictions})\n",
    "pd.DataFrame(submission).to_csv(\"titanic_submission.csv\", index=False)"
   ]
  },
  {
   "cell_type": "markdown",
   "metadata": {
    "tags": []
   },
   "source": [
    "---\n",
    "\n",
    "# 2. Overfitting in Decision Trees\n",
    "\n",
    "## Training Accuracy vs. Testing Accuracy\n",
    "\n",
    "We analyze the accuracy of Decision Tree when the spliting criterion and the number of leaves (`max_leaf_nodes`) change.  These two parameters are also called hyper-parameters or tuning parameters. \n",
    "\n",
    "The following plot shows that the training accuracy will increase when the number of leaves (`max_leaf_nodes`) increase. The testing accuracy increases at the beginning and decreases or isolating in the long run. \n",
    "\n",
    "The next plot shows that the selection of criterion also impact model performance."
   ]
  },
  {
   "cell_type": "code",
   "execution_count": 19,
   "metadata": {},
   "outputs": [],
   "source": [
    "criterion = ['entropy', 'gini']\n",
    "max_leaf_nodes = range(2, 200)\n",
    "\n",
    "#erros_plot = function(criterion, )\n",
    "\n",
    "rs = pd.DataFrame(columns = ['Criterion','Leaves', 'Data','Accuracy'])\n",
    "\n",
    "for criterion1 in criterion:\n",
    "    for max_leaf_nodes1 in max_leaf_nodes:\n",
    "        tree1 = DecisionTreeClassifier(criterion=criterion1, max_leaf_nodes=max_leaf_nodes1)\n",
    "        tree1.fit(x_train, y_train)\n",
    "        new_row={'Criterion':criterion1,'Leaves':max_leaf_nodes1, 'Data':'Train','Accuracy':tree1.score(x_train, y_train)}\n",
    "        rs=rs.append(new_row, ignore_index=True)\n",
    "        new_row={'Criterion':criterion1,'Leaves':max_leaf_nodes1, 'Data':'Test','Accuracy':tree1.score(x_test, y_test)}\n",
    "        rs=rs.append(new_row, ignore_index=True)      "
   ]
  },
  {
   "cell_type": "code",
   "execution_count": 20,
   "metadata": {},
   "outputs": [
    {
     "data": {
      "text/plain": [
       "<AxesSubplot:xlabel='Leaves', ylabel='Accuracy'>"
      ]
     },
     "execution_count": 20,
     "metadata": {},
     "output_type": "execute_result"
    },
    {
     "data": {
      "image/png": "[encoded data removed]",
      "text/plain": [
       "<Figure size 432x288 with 1 Axes>"
      ]
     },
     "metadata": {
      "needs_background": "light"
     },
     "output_type": "display_data"
    }
   ],
   "source": [
    "# Plot the training and testing accuracy of the model when criterion = gini\n",
    "import seaborn as sns\n",
    "rs_gini = rs[rs['Criterion']=='gini']\n",
    "sns.lineplot(data=rs_gini, y=\"Accuracy\", x=\"Leaves\", hue='Data', ci=None)"
   ]
  },
  {
   "cell_type": "code",
   "execution_count": 21,
   "metadata": {},
   "outputs": [
    {
     "data": {
      "text/plain": [
       "<AxesSubplot:xlabel='Leaves', ylabel='Accuracy'>"
      ]
     },
     "execution_count": 21,
     "metadata": {},
     "output_type": "execute_result"
    },
    {
     "data": {
      "image/png": "[encoded data removed]",
      "text/plain": [
       "<Figure size 432x288 with 1 Axes>"
      ]
     },
     "metadata": {
      "needs_background": "light"
     },
     "output_type": "display_data"
    }
   ],
   "source": [
    "# Compare the impact of the criterion on tetsing accuracy\n",
    "sns.lineplot(data=rs[rs['Data']=='Test'], y=\"Accuracy\", x=\"Leaves\", hue='Criterion')     "
   ]
  },
  {
   "cell_type": "markdown",
   "metadata": {},
   "source": [
    "# 3. Practice (Extra Credit 1)\n",
    "\n",
    "Following the sample codes at this link to do/answer the below.\n",
    "\n",
    "- Import the breast cancer dataset.  The data can be downloaded at [this link](https://bryantstats.github.io/math460/data/breast_cancer.csv)\n",
    "- Check out the missing values in each columns\n",
    "- Set the input (X) and output (y). Split the data into 80% training and 20% testing\n",
    "- Train a decison tree with the max leaves of 4 using `entropy` as the criteria for spliting\n",
    "- Calculate the testing error of the above tree\n",
    "- Search for the best hyperparameters of decision where the max leaves runs from 3 to 12 and the criteria runs between `gini` and `entropy`\n",
    "- What are the best hyperparameters found after the search\n",
    "- Train a decision tree using the best hyperparameters.\n",
    "- (Challenging) Install the `graphviz` package by\n",
    "\n",
    "    - Type in the notebook `pip install graphviz`. \n",
    "    \n",
    "    - If it does not work, do the follows: \n",
    "\n",
    "        - Download `graphiz` at: https://gitlab.com/api/v4/projects/4207231/packages/generic/graphviz-releases/2.49.1/stable_windows_10_cmake_Release_x64_graphviz-install-2.49.1-win64.exe\n",
    "\n",
    "        - Install it.  Choose `Add Graphiz to the system PATH for all users.`\n",
    "\n",
    "        - Follow this video to update the system path\n",
    "        https://bryant.hosted.panopto.com/Panopto/Pages/Viewer.aspx?id=b3451287-9b70-48f3-97cc-adb800374ee5    \n",
    "\n",
    "- Plot the tree above.\n",
    "- Export the notebook for submission: File -> Export Notebook As -> Export Notebook to html. Then submit it to Canvas. "
   ]
  },
  {
   "cell_type": "code",
   "execution_count": null,
   "metadata": {},
   "outputs": [],
   "source": []
  }
 ],
 "metadata": {
  "file_extension": ".py",
  "kernelspec": {
   "display_name": "Python 3",
   "language": "python",
   "name": "python3"
  },
  "language_info": {
   "codemirror_mode": {
    "name": "ipython",
    "version": 3
   },
   "file_extension": ".py",
   "mimetype": "text/x-python",
   "name": "python",
   "nbconvert_exporter": "python",
   "pygments_lexer": "ipython3",
   "version": "3.9.12"
  },
  "mimetype": "text/x-python",
  "name": "python",
  "npconvert_exporter": "python",
  "pygments_lexer": "ipython3",
  "toc-autonumbering": false,
  "toc-showcode": false,
  "toc-showmarkdowntxt": false,
  "version": 3
 },
 "nbformat": 4,
 "nbformat_minor": 4
}
