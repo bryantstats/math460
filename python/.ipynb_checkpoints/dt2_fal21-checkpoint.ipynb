{
 "cells": [
  {
   "cell_type": "markdown",
   "metadata": {},
   "source": [
    "# Training and Tuning Predictive Models\n",
    "\n",
    "**Installation**:  You will need to install python and jupyter.  The easiest way is to install the package `Anaconda` as follows. \n",
    "\n",
    "- Download Anaconda from [this link](https://www.anaconda.com/distribution/#download-section)\n",
    "- Install Anaconda from the downloaded file\n",
    "- Open Jupyter Lab by \n",
    "\n",
    "    - (1) Click to the Start Windows Logo and Type in Anconda Promp.  Open Anaconda Promp\n",
    "    - (2) In Anaconda Promp, type in: `jupyter lab` and hit Enter\n",
    "\n",
    "**Data**: The data should be in the same folder as the notebook.\n"
   ]
  },
  {
   "cell_type": "markdown",
   "metadata": {},
   "source": [
    "---\n",
    "\n",
    "# 1. An example of training a decision tree"
   ]
  },
  {
   "cell_type": "markdown",
   "metadata": {},
   "source": [
    "We will go over the above steps to train decision tree with the `titanic` dataset. Notice that these codes can be reused for other dataset. The codes for Step 1, 4, 5, 6, and 7 should be the same or at least similar when applied to other data.  Only Step 2 and Step 3 will be different from data to data. "
   ]
  },
  {
   "cell_type": "markdown",
   "metadata": {},
   "source": [
    "### Step 1: Import and Clean Data"
   ]
  },
  {
   "cell_type": "code",
   "execution_count": 1,
   "metadata": {},
   "outputs": [],
   "source": [
    "# import some packages\n",
    "import pandas as pd\n",
    "import numpy as np\n",
    "from sklearn import tree\n",
    "from sklearn.tree import DecisionTreeClassifier\n",
    "from sklearn import metrics"
   ]
  },
  {
   "cell_type": "code",
   "execution_count": 2,
   "metadata": {},
   "outputs": [],
   "source": [
    "# Import the data\n",
    "df = pd.read_csv('titanic.csv')"
   ]
  },
  {
   "cell_type": "code",
   "execution_count": 3,
   "metadata": {},
   "outputs": [
    {
     "data": {
      "text/plain": [
       "Index(['PassengerId', 'Survived', 'Pclass', 'Name', 'Sex', 'Age', 'SibSp',\n",
       "       'Parch', 'Ticket', 'Fare', 'Cabin', 'Embarked'],\n",
       "      dtype='object')"
      ]
     },
     "execution_count": 3,
     "metadata": {},
     "output_type": "execute_result"
    }
   ],
   "source": [
    "# Check the variables\n",
    "df.columns"
   ]
  },
  {
   "cell_type": "markdown",
   "metadata": {},
   "source": [
    "#### Assign the input and output variable"
   ]
  },
  {
   "cell_type": "code",
   "execution_count": 4,
   "metadata": {},
   "outputs": [],
   "source": [
    "# Assign input variables\n",
    "X = df.loc[:,['Pclass','Sex','Age','Fare','Embarked','SibSp','Parch']]\n",
    "\n",
    "# Assign target variable\n",
    "y = df['Survived']"
   ]
  },
  {
   "cell_type": "markdown",
   "metadata": {},
   "source": [
    "#### Check variable types"
   ]
  },
  {
   "cell_type": "code",
   "execution_count": 5,
   "metadata": {},
   "outputs": [
    {
     "data": {
      "text/plain": [
       "Pclass        int64\n",
       "Sex          object\n",
       "Age         float64\n",
       "Fare        float64\n",
       "Embarked     object\n",
       "SibSp         int64\n",
       "Parch         int64\n",
       "dtype: object"
      ]
     },
     "execution_count": 5,
     "metadata": {},
     "output_type": "execute_result"
    }
   ],
   "source": [
    "X.dtypes"
   ]
  },
  {
   "cell_type": "code",
   "execution_count": 6,
   "metadata": {},
   "outputs": [],
   "source": [
    "# Change Pclass to categorical variable\n",
    "X['Pclass'] = X['Pclass'].astype(object)"
   ]
  },
  {
   "cell_type": "markdown",
   "metadata": {},
   "source": [
    "### Step 2: Check and handle missing values"
   ]
  },
  {
   "cell_type": "code",
   "execution_count": 7,
   "metadata": {},
   "outputs": [
    {
     "data": {
      "text/plain": [
       "PassengerId      0\n",
       "Survived         0\n",
       "Pclass           0\n",
       "Name             0\n",
       "Sex              0\n",
       "Age            177\n",
       "SibSp            0\n",
       "Parch            0\n",
       "Ticket           0\n",
       "Fare             0\n",
       "Cabin          687\n",
       "Embarked         2\n",
       "dtype: int64"
      ]
     },
     "execution_count": 7,
     "metadata": {},
     "output_type": "execute_result"
    }
   ],
   "source": [
    "df.isna().sum()"
   ]
  },
  {
   "cell_type": "code",
   "execution_count": 8,
   "metadata": {},
   "outputs": [],
   "source": [
    "# Replace missing values by the median\n",
    "X[\"Age\"] = X[\"Age\"].fillna(X[\"Age\"].median())\n",
    "\n",
    "# Impute the Embarked variable\n",
    "X[\"Embarked\"] = X[\"Embarked\"].fillna(\"S\")"
   ]
  },
  {
   "cell_type": "markdown",
   "metadata": {},
   "source": [
    "### Step 3: Encode Categorical Variables"
   ]
  },
  {
   "cell_type": "markdown",
   "metadata": {},
   "source": [
    "`sklearn` does not work directly with categorical variables. It requires the categorical variables to be encoded into numeric variables. There are multiple way to encode categorical variables.  Here, we implement the simplest way of encoding: `one-hot` encoding or `dummy` encoding. "
   ]
  },
  {
   "cell_type": "code",
   "execution_count": 9,
   "metadata": {},
   "outputs": [
    {
     "name": "stderr",
     "output_type": "stream",
     "text": [
      "C:\\Users\\sonou\\anaconda3_fa22\\lib\\site-packages\\pandas\\core\\algorithms.py:798: FutureWarning: In a future version, the Index constructor will not infer numeric dtypes when passed object-dtype sequences (matching Series behavior)\n",
      "  uniques = Index(uniques)\n"
     ]
    }
   ],
   "source": [
    "# Encode categorical variable\n",
    "X = pd.get_dummies(X)"
   ]
  },
  {
   "cell_type": "markdown",
   "metadata": {},
   "source": [
    "### Step 4: Split the data into training and testing"
   ]
  },
  {
   "cell_type": "code",
   "execution_count": 10,
   "metadata": {},
   "outputs": [],
   "source": [
    "from sklearn.model_selection import train_test_split\n",
    "\n",
    "x_train,x_test,y_train,y_test=train_test_split(X,y,test_size=0.3)"
   ]
  },
  {
   "cell_type": "markdown",
   "metadata": {},
   "source": [
    "### Step 5: Train a model"
   ]
  },
  {
   "cell_type": "code",
   "execution_count": 11,
   "metadata": {},
   "outputs": [
    {
     "data": {
      "text/plain": [
       "DecisionTreeClassifier(max_leaf_nodes=3)"
      ]
     },
     "execution_count": 11,
     "metadata": {},
     "output_type": "execute_result"
    }
   ],
   "source": [
    "# Create a decision tree and train\n",
    "tree1 = DecisionTreeClassifier(criterion='gini', max_leaf_nodes=3)\n",
    "tree1.fit(x_train, y_train)"
   ]
  },
  {
   "cell_type": "markdown",
   "metadata": {},
   "source": [
    "#### Plot the tree"
   ]
  },
  {
   "cell_type": "code",
   "execution_count": 12,
   "metadata": {},
   "outputs": [
    {
     "name": "stdout",
     "output_type": "stream",
     "text": [
      "Requirement already satisfied: graphviz in c:\\users\\sonou\\anaconda3_fa22\\lib\\site-packages (0.20.1)\n",
      "Note: you may need to restart the kernel to use updated packages.\n"
     ]
    }
   ],
   "source": [
    "pip install graphviz"
   ]
  },
  {
   "cell_type": "code",
   "execution_count": 13,
   "metadata": {},
   "outputs": [
    {
     "data": {
      "image/svg+xml": [
       "<?xml version=\"1.0\" encoding=\"UTF-8\" standalone=\"no\"?>\n",
       "<!DOCTYPE svg PUBLIC \"-//W3C//DTD SVG 1.1//EN\"\n",
       " \"http://www.w3.org/Graphics/SVG/1.1/DTD/svg11.dtd\">\n",
       "<!-- Generated by graphviz version 2.38.0 (20140413.2041)\n",
       " -->\n",
       "<!-- Title: Tree Pages: 1 -->\n",
       "<svg width=\"381pt\" height=\"314pt\"\n",
       " viewBox=\"0.00 0.00 381.00 314.00\" xmlns=\"http://www.w3.org/2000/svg\" xmlns:xlink=\"http://www.w3.org/1999/xlink\">\n",
       "<g id=\"graph0\" class=\"graph\" transform=\"scale(1 1) rotate(0) translate(4 310)\">\n",
       "<title>Tree</title>\n",
       "<polygon fill=\"white\" stroke=\"none\" points=\"-4,4 -4,-310 377,-310 377,4 -4,4\"/>\n",
       "<!-- 0 -->\n",
       "<g id=\"node1\" class=\"node\"><title>0</title>\n",
       "<path fill=\"#f5d0b5\" stroke=\"black\" d=\"M210,-306C210,-306 88,-306 88,-306 82,-306 76,-300 76,-294 76,-294 76,-235 76,-235 76,-229 82,-223 88,-223 88,-223 210,-223 210,-223 216,-223 222,-229 222,-235 222,-235 222,-294 222,-294 222,-300 216,-306 210,-306\"/>\n",
       "<text text-anchor=\"start\" x=\"93\" y=\"-290.8\" font-family=\"Helvetica,sans-Serif\" font-size=\"14.00\">Sex_female ≤ 0.5</text>\n",
       "<text text-anchor=\"start\" x=\"111.5\" y=\"-275.8\" font-family=\"Helvetica,sans-Serif\" font-size=\"14.00\">gini = 0.474</text>\n",
       "<text text-anchor=\"start\" x=\"101.5\" y=\"-260.8\" font-family=\"Helvetica,sans-Serif\" font-size=\"14.00\">samples = 623</text>\n",
       "<text text-anchor=\"start\" x=\"92\" y=\"-245.8\" font-family=\"Helvetica,sans-Serif\" font-size=\"14.00\">value = [383, 240]</text>\n",
       "<text text-anchor=\"start\" x=\"84\" y=\"-230.8\" font-family=\"Helvetica,sans-Serif\" font-size=\"14.00\">class = Not Survived</text>\n",
       "</g>\n",
       "<!-- 1 -->\n",
       "<g id=\"node2\" class=\"node\"><title>1</title>\n",
       "<path fill=\"#eb9e67\" stroke=\"black\" d=\"M134,-179.5C134,-179.5 12,-179.5 12,-179.5 6,-179.5 0,-173.5 0,-167.5 0,-167.5 0,-123.5 0,-123.5 0,-117.5 6,-111.5 12,-111.5 12,-111.5 134,-111.5 134,-111.5 140,-111.5 146,-117.5 146,-123.5 146,-123.5 146,-167.5 146,-167.5 146,-173.5 140,-179.5 134,-179.5\"/>\n",
       "<text text-anchor=\"start\" x=\"35.5\" y=\"-164.3\" font-family=\"Helvetica,sans-Serif\" font-size=\"14.00\">gini = 0.305</text>\n",
       "<text text-anchor=\"start\" x=\"25.5\" y=\"-149.3\" font-family=\"Helvetica,sans-Serif\" font-size=\"14.00\">samples = 400</text>\n",
       "<text text-anchor=\"start\" x=\"20\" y=\"-134.3\" font-family=\"Helvetica,sans-Serif\" font-size=\"14.00\">value = [325, 75]</text>\n",
       "<text text-anchor=\"start\" x=\"8\" y=\"-119.3\" font-family=\"Helvetica,sans-Serif\" font-size=\"14.00\">class = Not Survived</text>\n",
       "</g>\n",
       "<!-- 0&#45;&gt;1 -->\n",
       "<g id=\"edge1\" class=\"edge\"><title>0&#45;&gt;1</title>\n",
       "<path fill=\"none\" stroke=\"black\" d=\"M122.632,-222.907C115.321,-211.652 107.374,-199.418 100.026,-188.106\"/>\n",
       "<polygon fill=\"black\" stroke=\"black\" points=\"102.927,-186.146 94.5443,-179.667 97.0566,-189.96 102.927,-186.146\"/>\n",
       "<text text-anchor=\"middle\" x=\"89.3494\" y=\"-200.421\" font-family=\"Helvetica,sans-Serif\" font-size=\"14.00\">True</text>\n",
       "</g>\n",
       "<!-- 2 -->\n",
       "<g id=\"node3\" class=\"node\"><title>2</title>\n",
       "<path fill=\"#7fbfee\" stroke=\"black\" d=\"M274,-187C274,-187 176,-187 176,-187 170,-187 164,-181 164,-175 164,-175 164,-116 164,-116 164,-110 170,-104 176,-104 176,-104 274,-104 274,-104 280,-104 286,-110 286,-116 286,-116 286,-175 286,-175 286,-181 280,-187 274,-187\"/>\n",
       "<text text-anchor=\"start\" x=\"177.5\" y=\"-171.8\" font-family=\"Helvetica,sans-Serif\" font-size=\"14.00\">Pclass_3 ≤ 0.5</text>\n",
       "<text text-anchor=\"start\" x=\"187.5\" y=\"-156.8\" font-family=\"Helvetica,sans-Serif\" font-size=\"14.00\">gini = 0.385</text>\n",
       "<text text-anchor=\"start\" x=\"177.5\" y=\"-141.8\" font-family=\"Helvetica,sans-Serif\" font-size=\"14.00\">samples = 223</text>\n",
       "<text text-anchor=\"start\" x=\"172\" y=\"-126.8\" font-family=\"Helvetica,sans-Serif\" font-size=\"14.00\">value = [58, 165]</text>\n",
       "<text text-anchor=\"start\" x=\"173\" y=\"-111.8\" font-family=\"Helvetica,sans-Serif\" font-size=\"14.00\">class = Survived</text>\n",
       "</g>\n",
       "<!-- 0&#45;&gt;2 -->\n",
       "<g id=\"edge2\" class=\"edge\"><title>0&#45;&gt;2</title>\n",
       "<path fill=\"none\" stroke=\"black\" d=\"M175.368,-222.907C181.086,-214.105 187.193,-204.703 193.098,-195.612\"/>\n",
       "<polygon fill=\"black\" stroke=\"black\" points=\"196.167,-197.313 198.679,-187.021 190.296,-193.5 196.167,-197.313\"/>\n",
       "<text text-anchor=\"middle\" x=\"203.874\" y=\"-207.775\" font-family=\"Helvetica,sans-Serif\" font-size=\"14.00\">False</text>\n",
       "</g>\n",
       "<!-- 3 -->\n",
       "<g id=\"node4\" class=\"node\"><title>3</title>\n",
       "<path fill=\"#43a2e6\" stroke=\"black\" d=\"M197,-68C197,-68 101,-68 101,-68 95,-68 89,-62 89,-56 89,-56 89,-12 89,-12 89,-6 95,-0 101,-0 101,-0 197,-0 197,-0 203,-0 209,-6 209,-12 209,-12 209,-56 209,-56 209,-62 203,-68 197,-68\"/>\n",
       "<text text-anchor=\"start\" x=\"111.5\" y=\"-52.8\" font-family=\"Helvetica,sans-Serif\" font-size=\"14.00\">gini = 0.093</text>\n",
       "<text text-anchor=\"start\" x=\"101.5\" y=\"-37.8\" font-family=\"Helvetica,sans-Serif\" font-size=\"14.00\">samples = 123</text>\n",
       "<text text-anchor=\"start\" x=\"100.5\" y=\"-22.8\" font-family=\"Helvetica,sans-Serif\" font-size=\"14.00\">value = [6, 117]</text>\n",
       "<text text-anchor=\"start\" x=\"97\" y=\"-7.8\" font-family=\"Helvetica,sans-Serif\" font-size=\"14.00\">class = Survived</text>\n",
       "</g>\n",
       "<!-- 2&#45;&gt;3 -->\n",
       "<g id=\"edge3\" class=\"edge\"><title>2&#45;&gt;3</title>\n",
       "<path fill=\"none\" stroke=\"black\" d=\"M196.7,-103.726C190.56,-94.879 184.057,-85.51 177.894,-76.6303\"/>\n",
       "<polygon fill=\"black\" stroke=\"black\" points=\"180.689,-74.5191 172.112,-68.2996 174.939,-78.5104 180.689,-74.5191\"/>\n",
       "</g>\n",
       "<!-- 4 -->\n",
       "<g id=\"node5\" class=\"node\"><title>4</title>\n",
       "<path fill=\"#fdf5f0\" stroke=\"black\" d=\"M361,-68C361,-68 239,-68 239,-68 233,-68 227,-62 227,-56 227,-56 227,-12 227,-12 227,-6 233,-0 239,-0 239,-0 361,-0 361,-0 367,-0 373,-6 373,-12 373,-12 373,-56 373,-56 373,-62 367,-68 361,-68\"/>\n",
       "<text text-anchor=\"start\" x=\"262.5\" y=\"-52.8\" font-family=\"Helvetica,sans-Serif\" font-size=\"14.00\">gini = 0.499</text>\n",
       "<text text-anchor=\"start\" x=\"252.5\" y=\"-37.8\" font-family=\"Helvetica,sans-Serif\" font-size=\"14.00\">samples = 100</text>\n",
       "<text text-anchor=\"start\" x=\"251.5\" y=\"-22.8\" font-family=\"Helvetica,sans-Serif\" font-size=\"14.00\">value = [52, 48]</text>\n",
       "<text text-anchor=\"start\" x=\"235\" y=\"-7.8\" font-family=\"Helvetica,sans-Serif\" font-size=\"14.00\">class = Not Survived</text>\n",
       "</g>\n",
       "<!-- 2&#45;&gt;4 -->\n",
       "<g id=\"edge4\" class=\"edge\"><title>2&#45;&gt;4</title>\n",
       "<path fill=\"none\" stroke=\"black\" d=\"M252.927,-103.726C258.987,-94.879 265.404,-85.51 271.486,-76.6303\"/>\n",
       "<polygon fill=\"black\" stroke=\"black\" points=\"274.429,-78.5277 277.192,-68.2996 268.654,-74.5721 274.429,-78.5277\"/>\n",
       "</g>\n",
       "</g>\n",
       "</svg>\n"
      ],
      "text/plain": [
       "<graphviz.sources.Source at 0x260cb5baaf0>"
      ]
     },
     "execution_count": 13,
     "metadata": {},
     "output_type": "execute_result"
    }
   ],
   "source": [
    "from sklearn import tree\n",
    "\n",
    "import graphviz \n",
    "\n",
    "dot_data = tree.export_graphviz(tree1, out_file=None) \n",
    "dot_data = tree.export_graphviz(tree1, out_file=None, \n",
    "                     feature_names=x_train.columns,  \n",
    "                     class_names=['Not Survived','Survived'],  \n",
    "                     filled=True, rounded=True,  \n",
    "                     special_characters=True)  \n",
    "\n",
    "graph = graphviz.Source(dot_data)  \n",
    "\n",
    "graph"
   ]
  },
  {
   "cell_type": "markdown",
   "metadata": {},
   "source": [
    "### Step 6: Test the model"
   ]
  },
  {
   "cell_type": "code",
   "execution_count": 14,
   "metadata": {},
   "outputs": [
    {
     "name": "stdout",
     "output_type": "stream",
     "text": [
      "Testing Accuracy is:\n"
     ]
    },
    {
     "data": {
      "text/plain": [
       "0.7723880597014925"
      ]
     },
     "execution_count": 14,
     "metadata": {},
     "output_type": "execute_result"
    }
   ],
   "source": [
    "# Prediction and accuracy on testing data\n",
    "\n",
    "print('Testing Accuracy is:')\n",
    "tree1.score(x_test, y_test)"
   ]
  },
  {
   "cell_type": "markdown",
   "metadata": {},
   "source": [
    "### Step 7: Hyperparameters Tuning and redo Step 5 and 6\n",
    "How do we know the selection of `max_leaf_nodes` and `criterion` in Step 5 is the best selection?\n",
    "\n",
    "Tuning hyperparameters or Tuning a model is to search for the set of hyperparameters that works the best.  To tune a model, one first needs to know what the hyperparameters/tuning parameters that the model has. A model may have several hyperparamters that sometime it is not practical to tune all the hyperparameters. \n",
    "\n",
    "Our model here is decision tree. To see the list of tuning parameters of decision trees, one can check at the `sklearn` document of the model. One way to find out is to `google`: DecisionTreeClassifier and sklearn.  This search brings us to [this link.](https://scikit-learn.org/stable/modules/generated/sklearn.tree.DecisionTreeClassifier.html)\n",
    "\n",
    "From the link, you can see the list of (hyper)parameters. In this example, we will tune two parameters `max_leaf_nodes` and `criterion`. "
   ]
  },
  {
   "cell_type": "code",
   "execution_count": 15,
   "metadata": {},
   "outputs": [
    {
     "data": {
      "text/plain": [
       "GridSearchCV(cv=5, estimator=DecisionTreeClassifier(),\n",
       "             param_grid={'criterion': ['gini', 'entropy'],\n",
       "                         'max_leaf_nodes': range(2, 10)})"
      ]
     },
     "execution_count": 15,
     "metadata": {},
     "output_type": "execute_result"
    }
   ],
   "source": [
    "import warnings\n",
    "warnings.filterwarnings(\"ignore\")\n",
    "\n",
    "\n",
    "# Decide what hyperparameter to tune then decide the searching range\n",
    "param_grid = {'max_leaf_nodes': range(2,10), \n",
    "              'criterion':['gini', 'entropy']}\n",
    "\n",
    "# Create a list of trees\n",
    "from sklearn.model_selection import GridSearchCV\n",
    "tree2 = GridSearchCV(DecisionTreeClassifier(), param_grid, cv = 5)\n",
    "tree2.fit(x_train, y_train)"
   ]
  },
  {
   "cell_type": "markdown",
   "metadata": {},
   "source": [
    "In the above code, `cv=5` means the cross validation is done with 5 folds.  This means that the training data will be partition into 5 pieces and each piece will be used as a validation data while the remaining four pieces will be used as the data to build model. \n",
    "\n",
    "More informatiom about `k-fold cross validation` can be seen [here](https://bryantstats.github.io/overfitting.html#/50) \n",
    "\n",
    "In this example, with 10 different values of `max_leaf_nodes` (2 to 9), and 2 different values of `criterion`, there will be 8x2=16 models (trees) will be tested. Each of these 16 models will be run 5 times (since `cv=5`). Thus, in total, there will be 16x5=80 times a tree is computed. The search for the best parameters could be time consuming! "
   ]
  },
  {
   "cell_type": "code",
   "execution_count": 16,
   "metadata": {},
   "outputs": [
    {
     "data": {
      "text/html": [
       "<div>\n",
       "<style scoped>\n",
       "    .dataframe tbody tr th:only-of-type {\n",
       "        vertical-align: middle;\n",
       "    }\n",
       "\n",
       "    .dataframe tbody tr th {\n",
       "        vertical-align: top;\n",
       "    }\n",
       "\n",
       "    .dataframe thead th {\n",
       "        text-align: right;\n",
       "    }\n",
       "</style>\n",
       "<table border=\"1\" class=\"dataframe\">\n",
       "  <thead>\n",
       "    <tr style=\"text-align: right;\">\n",
       "      <th></th>\n",
       "      <th>criterion</th>\n",
       "      <th>max_leaf_nodes</th>\n",
       "      <th>Accuracy</th>\n",
       "      <th>Rank</th>\n",
       "    </tr>\n",
       "  </thead>\n",
       "  <tbody>\n",
       "    <tr>\n",
       "      <th>0</th>\n",
       "      <td>gini</td>\n",
       "      <td>2</td>\n",
       "      <td>0.786516</td>\n",
       "      <td>12</td>\n",
       "    </tr>\n",
       "    <tr>\n",
       "      <th>1</th>\n",
       "      <td>gini</td>\n",
       "      <td>3</td>\n",
       "      <td>0.784955</td>\n",
       "      <td>14</td>\n",
       "    </tr>\n",
       "    <tr>\n",
       "      <th>2</th>\n",
       "      <td>gini</td>\n",
       "      <td>4</td>\n",
       "      <td>0.791406</td>\n",
       "      <td>10</td>\n",
       "    </tr>\n",
       "    <tr>\n",
       "      <th>3</th>\n",
       "      <td>gini</td>\n",
       "      <td>5</td>\n",
       "      <td>0.793006</td>\n",
       "      <td>8</td>\n",
       "    </tr>\n",
       "    <tr>\n",
       "      <th>4</th>\n",
       "      <td>gini</td>\n",
       "      <td>6</td>\n",
       "      <td>0.815471</td>\n",
       "      <td>0</td>\n",
       "    </tr>\n",
       "    <tr>\n",
       "      <th>5</th>\n",
       "      <td>gini</td>\n",
       "      <td>7</td>\n",
       "      <td>0.809084</td>\n",
       "      <td>3</td>\n",
       "    </tr>\n",
       "    <tr>\n",
       "      <th>6</th>\n",
       "      <td>gini</td>\n",
       "      <td>8</td>\n",
       "      <td>0.809071</td>\n",
       "      <td>4</td>\n",
       "    </tr>\n",
       "    <tr>\n",
       "      <th>7</th>\n",
       "      <td>gini</td>\n",
       "      <td>9</td>\n",
       "      <td>0.812297</td>\n",
       "      <td>2</td>\n",
       "    </tr>\n",
       "    <tr>\n",
       "      <th>8</th>\n",
       "      <td>entropy</td>\n",
       "      <td>2</td>\n",
       "      <td>0.786516</td>\n",
       "      <td>13</td>\n",
       "    </tr>\n",
       "    <tr>\n",
       "      <th>9</th>\n",
       "      <td>entropy</td>\n",
       "      <td>3</td>\n",
       "      <td>0.784955</td>\n",
       "      <td>15</td>\n",
       "    </tr>\n",
       "    <tr>\n",
       "      <th>10</th>\n",
       "      <td>entropy</td>\n",
       "      <td>4</td>\n",
       "      <td>0.788181</td>\n",
       "      <td>11</td>\n",
       "    </tr>\n",
       "    <tr>\n",
       "      <th>11</th>\n",
       "      <td>entropy</td>\n",
       "      <td>5</td>\n",
       "      <td>0.792994</td>\n",
       "      <td>9</td>\n",
       "    </tr>\n",
       "    <tr>\n",
       "      <th>12</th>\n",
       "      <td>entropy</td>\n",
       "      <td>6</td>\n",
       "      <td>0.815458</td>\n",
       "      <td>1</td>\n",
       "    </tr>\n",
       "    <tr>\n",
       "      <th>13</th>\n",
       "      <td>entropy</td>\n",
       "      <td>7</td>\n",
       "      <td>0.805871</td>\n",
       "      <td>5</td>\n",
       "    </tr>\n",
       "    <tr>\n",
       "      <th>14</th>\n",
       "      <td>entropy</td>\n",
       "      <td>8</td>\n",
       "      <td>0.805871</td>\n",
       "      <td>6</td>\n",
       "    </tr>\n",
       "    <tr>\n",
       "      <th>15</th>\n",
       "      <td>entropy</td>\n",
       "      <td>9</td>\n",
       "      <td>0.805871</td>\n",
       "      <td>7</td>\n",
       "    </tr>\n",
       "  </tbody>\n",
       "</table>\n",
       "</div>"
      ],
      "text/plain": [
       "   criterion  max_leaf_nodes  Accuracy  Rank\n",
       "0       gini               2  0.786516    12\n",
       "1       gini               3  0.784955    14\n",
       "2       gini               4  0.791406    10\n",
       "3       gini               5  0.793006     8\n",
       "4       gini               6  0.815471     0\n",
       "5       gini               7  0.809084     3\n",
       "6       gini               8  0.809071     4\n",
       "7       gini               9  0.812297     2\n",
       "8    entropy               2  0.786516    13\n",
       "9    entropy               3  0.784955    15\n",
       "10   entropy               4  0.788181    11\n",
       "11   entropy               5  0.792994     9\n",
       "12   entropy               6  0.815458     1\n",
       "13   entropy               7  0.805871     5\n",
       "14   entropy               8  0.805871     6\n",
       "15   entropy               9  0.805871     7"
      ]
     },
     "execution_count": 16,
     "metadata": {},
     "output_type": "execute_result"
    }
   ],
   "source": [
    "cv_result = pd.concat([pd.DataFrame(tree2.cv_results_[\"params\"]),pd.DataFrame(tree2.cv_results_[\"mean_test_score\"], columns=[\"Accuracy\"])],axis=1)\n",
    "cv_result['Rank'] = (-cv_result['Accuracy']).argsort().argsort()\n",
    "cv_result"
   ]
  },
  {
   "cell_type": "markdown",
   "metadata": {},
   "source": [
    "The above shows that the best hyperparameters are criterion=entropy and max_leaf_nodes=7. We can use this information to redo step 5. "
   ]
  },
  {
   "cell_type": "code",
   "execution_count": 17,
   "metadata": {},
   "outputs": [
    {
     "name": "stdout",
     "output_type": "stream",
     "text": [
      "Testing Accuracy is:\n",
      "0.8134328358208955\n"
     ]
    },
    {
     "data": {
      "image/svg+xml": [
       "<?xml version=\"1.0\" encoding=\"UTF-8\" standalone=\"no\"?>\n",
       "<!DOCTYPE svg PUBLIC \"-//W3C//DTD SVG 1.1//EN\"\n",
       " \"http://www.w3.org/Graphics/SVG/1.1/DTD/svg11.dtd\">\n",
       "<!-- Generated by graphviz version 2.38.0 (20140413.2041)\n",
       " -->\n",
       "<!-- Title: Tree Pages: 1 -->\n",
       "<svg width=\"707pt\" height=\"433pt\"\n",
       " viewBox=\"0.00 0.00 707.00 433.00\" xmlns=\"http://www.w3.org/2000/svg\" xmlns:xlink=\"http://www.w3.org/1999/xlink\">\n",
       "<g id=\"graph0\" class=\"graph\" transform=\"scale(1 1) rotate(0) translate(4 429)\">\n",
       "<title>Tree</title>\n",
       "<polygon fill=\"white\" stroke=\"none\" points=\"-4,4 -4,-429 703,-429 703,4 -4,4\"/>\n",
       "<!-- 0 -->\n",
       "<g id=\"node1\" class=\"node\"><title>0</title>\n",
       "<path fill=\"#f5d0b5\" stroke=\"black\" d=\"M347,-425C347,-425 225,-425 225,-425 219,-425 213,-419 213,-413 213,-413 213,-354 213,-354 213,-348 219,-342 225,-342 225,-342 347,-342 347,-342 353,-342 359,-348 359,-354 359,-354 359,-413 359,-413 359,-419 353,-425 347,-425\"/>\n",
       "<text text-anchor=\"start\" x=\"230\" y=\"-409.8\" font-family=\"Helvetica,sans-Serif\" font-size=\"14.00\">Sex_female ≤ 0.5</text>\n",
       "<text text-anchor=\"start\" x=\"248.5\" y=\"-394.8\" font-family=\"Helvetica,sans-Serif\" font-size=\"14.00\">gini = 0.474</text>\n",
       "<text text-anchor=\"start\" x=\"238.5\" y=\"-379.8\" font-family=\"Helvetica,sans-Serif\" font-size=\"14.00\">samples = 623</text>\n",
       "<text text-anchor=\"start\" x=\"229\" y=\"-364.8\" font-family=\"Helvetica,sans-Serif\" font-size=\"14.00\">value = [383, 240]</text>\n",
       "<text text-anchor=\"start\" x=\"221\" y=\"-349.8\" font-family=\"Helvetica,sans-Serif\" font-size=\"14.00\">class = Not Survived</text>\n",
       "</g>\n",
       "<!-- 1 -->\n",
       "<g id=\"node2\" class=\"node\"><title>1</title>\n",
       "<path fill=\"#eb9e67\" stroke=\"black\" d=\"M271,-306C271,-306 149,-306 149,-306 143,-306 137,-300 137,-294 137,-294 137,-235 137,-235 137,-229 143,-223 149,-223 149,-223 271,-223 271,-223 277,-223 283,-229 283,-235 283,-235 283,-294 283,-294 283,-300 277,-306 271,-306\"/>\n",
       "<text text-anchor=\"start\" x=\"179\" y=\"-290.8\" font-family=\"Helvetica,sans-Serif\" font-size=\"14.00\">Age ≤ 6.5</text>\n",
       "<text text-anchor=\"start\" x=\"172.5\" y=\"-275.8\" font-family=\"Helvetica,sans-Serif\" font-size=\"14.00\">gini = 0.305</text>\n",
       "<text text-anchor=\"start\" x=\"162.5\" y=\"-260.8\" font-family=\"Helvetica,sans-Serif\" font-size=\"14.00\">samples = 400</text>\n",
       "<text text-anchor=\"start\" x=\"157\" y=\"-245.8\" font-family=\"Helvetica,sans-Serif\" font-size=\"14.00\">value = [325, 75]</text>\n",
       "<text text-anchor=\"start\" x=\"145\" y=\"-230.8\" font-family=\"Helvetica,sans-Serif\" font-size=\"14.00\">class = Not Survived</text>\n",
       "</g>\n",
       "<!-- 0&#45;&gt;1 -->\n",
       "<g id=\"edge1\" class=\"edge\"><title>0&#45;&gt;1</title>\n",
       "<path fill=\"none\" stroke=\"black\" d=\"M259.632,-341.907C253.914,-333.105 247.807,-323.703 241.902,-314.612\"/>\n",
       "<polygon fill=\"black\" stroke=\"black\" points=\"244.704,-312.5 236.321,-306.021 238.833,-316.313 244.704,-312.5\"/>\n",
       "<text text-anchor=\"middle\" x=\"231.126\" y=\"-326.775\" font-family=\"Helvetica,sans-Serif\" font-size=\"14.00\">True</text>\n",
       "</g>\n",
       "<!-- 2 -->\n",
       "<g id=\"node7\" class=\"node\"><title>2</title>\n",
       "<path fill=\"#7fbfee\" stroke=\"black\" d=\"M411,-306C411,-306 313,-306 313,-306 307,-306 301,-300 301,-294 301,-294 301,-235 301,-235 301,-229 307,-223 313,-223 313,-223 411,-223 411,-223 417,-223 423,-229 423,-235 423,-235 423,-294 423,-294 423,-300 417,-306 411,-306\"/>\n",
       "<text text-anchor=\"start\" x=\"314.5\" y=\"-290.8\" font-family=\"Helvetica,sans-Serif\" font-size=\"14.00\">Pclass_3 ≤ 0.5</text>\n",
       "<text text-anchor=\"start\" x=\"324.5\" y=\"-275.8\" font-family=\"Helvetica,sans-Serif\" font-size=\"14.00\">gini = 0.385</text>\n",
       "<text text-anchor=\"start\" x=\"314.5\" y=\"-260.8\" font-family=\"Helvetica,sans-Serif\" font-size=\"14.00\">samples = 223</text>\n",
       "<text text-anchor=\"start\" x=\"309\" y=\"-245.8\" font-family=\"Helvetica,sans-Serif\" font-size=\"14.00\">value = [58, 165]</text>\n",
       "<text text-anchor=\"start\" x=\"310\" y=\"-230.8\" font-family=\"Helvetica,sans-Serif\" font-size=\"14.00\">class = Survived</text>\n",
       "</g>\n",
       "<!-- 0&#45;&gt;2 -->\n",
       "<g id=\"edge6\" class=\"edge\"><title>0&#45;&gt;2</title>\n",
       "<path fill=\"none\" stroke=\"black\" d=\"M312.368,-341.907C318.086,-333.105 324.193,-323.703 330.098,-314.612\"/>\n",
       "<polygon fill=\"black\" stroke=\"black\" points=\"333.167,-316.313 335.679,-306.021 327.296,-312.5 333.167,-316.313\"/>\n",
       "<text text-anchor=\"middle\" x=\"340.874\" y=\"-326.775\" font-family=\"Helvetica,sans-Serif\" font-size=\"14.00\">False</text>\n",
       "</g>\n",
       "<!-- 5 -->\n",
       "<g id=\"node3\" class=\"node\"><title>5</title>\n",
       "<path fill=\"#8bc6f0\" stroke=\"black\" d=\"M108,-179.5C108,-179.5 12,-179.5 12,-179.5 6,-179.5 0,-173.5 0,-167.5 0,-167.5 0,-123.5 0,-123.5 0,-117.5 6,-111.5 12,-111.5 12,-111.5 108,-111.5 108,-111.5 114,-111.5 120,-117.5 120,-123.5 120,-123.5 120,-167.5 120,-167.5 120,-173.5 114,-179.5 108,-179.5\"/>\n",
       "<text text-anchor=\"start\" x=\"22.5\" y=\"-164.3\" font-family=\"Helvetica,sans-Serif\" font-size=\"14.00\">gini = 0.415</text>\n",
       "<text text-anchor=\"start\" x=\"16.5\" y=\"-149.3\" font-family=\"Helvetica,sans-Serif\" font-size=\"14.00\">samples = 17</text>\n",
       "<text text-anchor=\"start\" x=\"15.5\" y=\"-134.3\" font-family=\"Helvetica,sans-Serif\" font-size=\"14.00\">value = [5, 12]</text>\n",
       "<text text-anchor=\"start\" x=\"8\" y=\"-119.3\" font-family=\"Helvetica,sans-Serif\" font-size=\"14.00\">class = Survived</text>\n",
       "</g>\n",
       "<!-- 1&#45;&gt;5 -->\n",
       "<g id=\"edge2\" class=\"edge\"><title>1&#45;&gt;5</title>\n",
       "<path fill=\"none\" stroke=\"black\" d=\"M157.958,-222.907C142.68,-210.99 125.994,-197.976 110.795,-186.12\"/>\n",
       "<polygon fill=\"black\" stroke=\"black\" points=\"112.559,-183.058 102.522,-179.667 108.254,-188.577 112.559,-183.058\"/>\n",
       "</g>\n",
       "<!-- 6 -->\n",
       "<g id=\"node4\" class=\"node\"><title>6</title>\n",
       "<path fill=\"#ea9a60\" stroke=\"black\" d=\"M272,-187C272,-187 150,-187 150,-187 144,-187 138,-181 138,-175 138,-175 138,-116 138,-116 138,-110 144,-104 150,-104 150,-104 272,-104 272,-104 278,-104 284,-110 284,-116 284,-116 284,-175 284,-175 284,-181 278,-187 272,-187\"/>\n",
       "<text text-anchor=\"start\" x=\"166\" y=\"-171.8\" font-family=\"Helvetica,sans-Serif\" font-size=\"14.00\">Fare ≤ 26.269</text>\n",
       "<text text-anchor=\"start\" x=\"173.5\" y=\"-156.8\" font-family=\"Helvetica,sans-Serif\" font-size=\"14.00\">gini = 0.275</text>\n",
       "<text text-anchor=\"start\" x=\"163.5\" y=\"-141.8\" font-family=\"Helvetica,sans-Serif\" font-size=\"14.00\">samples = 383</text>\n",
       "<text text-anchor=\"start\" x=\"158\" y=\"-126.8\" font-family=\"Helvetica,sans-Serif\" font-size=\"14.00\">value = [320, 63]</text>\n",
       "<text text-anchor=\"start\" x=\"146\" y=\"-111.8\" font-family=\"Helvetica,sans-Serif\" font-size=\"14.00\">class = Not Survived</text>\n",
       "</g>\n",
       "<!-- 1&#45;&gt;6 -->\n",
       "<g id=\"edge3\" class=\"edge\"><title>1&#45;&gt;6</title>\n",
       "<path fill=\"none\" stroke=\"black\" d=\"M210.347,-222.907C210.418,-214.649 210.493,-205.864 210.566,-197.302\"/>\n",
       "<polygon fill=\"black\" stroke=\"black\" points=\"214.068,-197.05 210.654,-187.021 207.068,-196.99 214.068,-197.05\"/>\n",
       "</g>\n",
       "<!-- 7 -->\n",
       "<g id=\"node5\" class=\"node\"><title>7</title>\n",
       "<path fill=\"#e88f50\" stroke=\"black\" d=\"M183,-68C183,-68 61,-68 61,-68 55,-68 49,-62 49,-56 49,-56 49,-12 49,-12 49,-6 55,-0 61,-0 61,-0 183,-0 183,-0 189,-0 195,-6 195,-12 195,-12 195,-56 195,-56 195,-62 189,-68 183,-68\"/>\n",
       "<text text-anchor=\"start\" x=\"84.5\" y=\"-52.8\" font-family=\"Helvetica,sans-Serif\" font-size=\"14.00\">gini = 0.185</text>\n",
       "<text text-anchor=\"start\" x=\"74.5\" y=\"-37.8\" font-family=\"Helvetica,sans-Serif\" font-size=\"14.00\">samples = 282</text>\n",
       "<text text-anchor=\"start\" x=\"69\" y=\"-22.8\" font-family=\"Helvetica,sans-Serif\" font-size=\"14.00\">value = [253, 29]</text>\n",
       "<text text-anchor=\"start\" x=\"57\" y=\"-7.8\" font-family=\"Helvetica,sans-Serif\" font-size=\"14.00\">class = Not Survived</text>\n",
       "</g>\n",
       "<!-- 6&#45;&gt;7 -->\n",
       "<g id=\"edge4\" class=\"edge\"><title>6&#45;&gt;7</title>\n",
       "<path fill=\"none\" stroke=\"black\" d=\"M177.86,-103.726C170.521,-94.6966 162.74,-85.1235 155.391,-76.0816\"/>\n",
       "<polygon fill=\"black\" stroke=\"black\" points=\"158.089,-73.8521 149.065,-68.2996 152.657,-78.2672 158.089,-73.8521\"/>\n",
       "</g>\n",
       "<!-- 8 -->\n",
       "<g id=\"node6\" class=\"node\"><title>8</title>\n",
       "<path fill=\"#f2c19d\" stroke=\"black\" d=\"M347,-68C347,-68 225,-68 225,-68 219,-68 213,-62 213,-56 213,-56 213,-12 213,-12 213,-6 219,-0 225,-0 225,-0 347,-0 347,-0 353,-0 359,-6 359,-12 359,-12 359,-56 359,-56 359,-62 353,-68 347,-68\"/>\n",
       "<text text-anchor=\"start\" x=\"248.5\" y=\"-52.8\" font-family=\"Helvetica,sans-Serif\" font-size=\"14.00\">gini = 0.447</text>\n",
       "<text text-anchor=\"start\" x=\"238.5\" y=\"-37.8\" font-family=\"Helvetica,sans-Serif\" font-size=\"14.00\">samples = 101</text>\n",
       "<text text-anchor=\"start\" x=\"237.5\" y=\"-22.8\" font-family=\"Helvetica,sans-Serif\" font-size=\"14.00\">value = [67, 34]</text>\n",
       "<text text-anchor=\"start\" x=\"221\" y=\"-7.8\" font-family=\"Helvetica,sans-Serif\" font-size=\"14.00\">class = Not Survived</text>\n",
       "</g>\n",
       "<!-- 6&#45;&gt;8 -->\n",
       "<g id=\"edge5\" class=\"edge\"><title>6&#45;&gt;8</title>\n",
       "<path fill=\"none\" stroke=\"black\" d=\"M238.927,-103.726C244.987,-94.879 251.404,-85.51 257.486,-76.6303\"/>\n",
       "<polygon fill=\"black\" stroke=\"black\" points=\"260.429,-78.5277 263.192,-68.2996 254.654,-74.5721 260.429,-78.5277\"/>\n",
       "</g>\n",
       "<!-- 3 -->\n",
       "<g id=\"node8\" class=\"node\"><title>3</title>\n",
       "<path fill=\"#43a2e6\" stroke=\"black\" d=\"M410,-179.5C410,-179.5 314,-179.5 314,-179.5 308,-179.5 302,-173.5 302,-167.5 302,-167.5 302,-123.5 302,-123.5 302,-117.5 308,-111.5 314,-111.5 314,-111.5 410,-111.5 410,-111.5 416,-111.5 422,-117.5 422,-123.5 422,-123.5 422,-167.5 422,-167.5 422,-173.5 416,-179.5 410,-179.5\"/>\n",
       "<text text-anchor=\"start\" x=\"324.5\" y=\"-164.3\" font-family=\"Helvetica,sans-Serif\" font-size=\"14.00\">gini = 0.093</text>\n",
       "<text text-anchor=\"start\" x=\"314.5\" y=\"-149.3\" font-family=\"Helvetica,sans-Serif\" font-size=\"14.00\">samples = 123</text>\n",
       "<text text-anchor=\"start\" x=\"313.5\" y=\"-134.3\" font-family=\"Helvetica,sans-Serif\" font-size=\"14.00\">value = [6, 117]</text>\n",
       "<text text-anchor=\"start\" x=\"310\" y=\"-119.3\" font-family=\"Helvetica,sans-Serif\" font-size=\"14.00\">class = Survived</text>\n",
       "</g>\n",
       "<!-- 2&#45;&gt;3 -->\n",
       "<g id=\"edge7\" class=\"edge\"><title>2&#45;&gt;3</title>\n",
       "<path fill=\"none\" stroke=\"black\" d=\"M362,-222.907C362,-212.204 362,-200.615 362,-189.776\"/>\n",
       "<polygon fill=\"black\" stroke=\"black\" points=\"365.5,-189.667 362,-179.667 358.5,-189.667 365.5,-189.667\"/>\n",
       "</g>\n",
       "<!-- 4 -->\n",
       "<g id=\"node9\" class=\"node\"><title>4</title>\n",
       "<path fill=\"#fdf5f0\" stroke=\"black\" d=\"M574,-187C574,-187 452,-187 452,-187 446,-187 440,-181 440,-175 440,-175 440,-116 440,-116 440,-110 446,-104 452,-104 452,-104 574,-104 574,-104 580,-104 586,-110 586,-116 586,-116 586,-175 586,-175 586,-181 580,-187 574,-187\"/>\n",
       "<text text-anchor=\"start\" x=\"468\" y=\"-171.8\" font-family=\"Helvetica,sans-Serif\" font-size=\"14.00\">Fare ≤ 24.358</text>\n",
       "<text text-anchor=\"start\" x=\"475.5\" y=\"-156.8\" font-family=\"Helvetica,sans-Serif\" font-size=\"14.00\">gini = 0.499</text>\n",
       "<text text-anchor=\"start\" x=\"465.5\" y=\"-141.8\" font-family=\"Helvetica,sans-Serif\" font-size=\"14.00\">samples = 100</text>\n",
       "<text text-anchor=\"start\" x=\"464.5\" y=\"-126.8\" font-family=\"Helvetica,sans-Serif\" font-size=\"14.00\">value = [52, 48]</text>\n",
       "<text text-anchor=\"start\" x=\"448\" y=\"-111.8\" font-family=\"Helvetica,sans-Serif\" font-size=\"14.00\">class = Not Survived</text>\n",
       "</g>\n",
       "<!-- 2&#45;&gt;4 -->\n",
       "<g id=\"edge8\" class=\"edge\"><title>2&#45;&gt;4</title>\n",
       "<path fill=\"none\" stroke=\"black\" d=\"M414.389,-222.907C426.687,-213.379 439.89,-203.148 452.51,-193.37\"/>\n",
       "<polygon fill=\"black\" stroke=\"black\" points=\"454.943,-195.912 460.704,-187.021 450.655,-190.379 454.943,-195.912\"/>\n",
       "</g>\n",
       "<!-- 9 -->\n",
       "<g id=\"node10\" class=\"node\"><title>9</title>\n",
       "<path fill=\"#daedfa\" stroke=\"black\" d=\"M523,-68C523,-68 427,-68 427,-68 421,-68 415,-62 415,-56 415,-56 415,-12 415,-12 415,-6 421,-0 427,-0 427,-0 523,-0 523,-0 529,-0 535,-6 535,-12 535,-12 535,-56 535,-56 535,-62 529,-68 523,-68\"/>\n",
       "<text text-anchor=\"start\" x=\"437.5\" y=\"-52.8\" font-family=\"Helvetica,sans-Serif\" font-size=\"14.00\">gini = 0.495</text>\n",
       "<text text-anchor=\"start\" x=\"431.5\" y=\"-37.8\" font-family=\"Helvetica,sans-Serif\" font-size=\"14.00\">samples = 87</text>\n",
       "<text text-anchor=\"start\" x=\"426.5\" y=\"-22.8\" font-family=\"Helvetica,sans-Serif\" font-size=\"14.00\">value = [39, 48]</text>\n",
       "<text text-anchor=\"start\" x=\"423\" y=\"-7.8\" font-family=\"Helvetica,sans-Serif\" font-size=\"14.00\">class = Survived</text>\n",
       "</g>\n",
       "<!-- 4&#45;&gt;9 -->\n",
       "<g id=\"edge9\" class=\"edge\"><title>4&#45;&gt;9</title>\n",
       "<path fill=\"none\" stroke=\"black\" d=\"M498.85,-103.726C495.938,-95.3351 492.863,-86.4745 489.925,-78.0072\"/>\n",
       "<polygon fill=\"black\" stroke=\"black\" points=\"493.141,-76.5994 486.556,-68.2996 486.528,-78.8944 493.141,-76.5994\"/>\n",
       "</g>\n",
       "<!-- 10 -->\n",
       "<g id=\"node11\" class=\"node\"><title>10</title>\n",
       "<path fill=\"#e58139\" stroke=\"black\" d=\"M687,-68C687,-68 565,-68 565,-68 559,-68 553,-62 553,-56 553,-56 553,-12 553,-12 553,-6 559,-0 565,-0 565,-0 687,-0 687,-0 693,-0 699,-6 699,-12 699,-12 699,-56 699,-56 699,-62 693,-68 687,-68\"/>\n",
       "<text text-anchor=\"start\" x=\"597\" y=\"-52.8\" font-family=\"Helvetica,sans-Serif\" font-size=\"14.00\">gini = 0.0</text>\n",
       "<text text-anchor=\"start\" x=\"582.5\" y=\"-37.8\" font-family=\"Helvetica,sans-Serif\" font-size=\"14.00\">samples = 13</text>\n",
       "<text text-anchor=\"start\" x=\"581.5\" y=\"-22.8\" font-family=\"Helvetica,sans-Serif\" font-size=\"14.00\">value = [13, 0]</text>\n",
       "<text text-anchor=\"start\" x=\"561\" y=\"-7.8\" font-family=\"Helvetica,sans-Serif\" font-size=\"14.00\">class = Not Survived</text>\n",
       "</g>\n",
       "<!-- 4&#45;&gt;10 -->\n",
       "<g id=\"edge10\" class=\"edge\"><title>4&#45;&gt;10</title>\n",
       "<path fill=\"none\" stroke=\"black\" d=\"M555.077,-103.726C564.678,-94.423 574.874,-84.5428 584.452,-75.2612\"/>\n",
       "<polygon fill=\"black\" stroke=\"black\" points=\"586.89,-77.7721 591.636,-68.2996 582.019,-72.7451 586.89,-77.7721\"/>\n",
       "</g>\n",
       "</g>\n",
       "</svg>\n"
      ],
      "text/plain": [
       "<graphviz.sources.Source at 0x260cfe42850>"
      ]
     },
     "execution_count": 17,
     "metadata": {},
     "output_type": "execute_result"
    }
   ],
   "source": [
    "tree3 = DecisionTreeClassifier(**tree2.best_params_)\n",
    "tree3.fit(x_train, y_train)\n",
    "\n",
    "print('Testing Accuracy is:')\n",
    "print(tree3.score(x_test, y_test))\n",
    "\n",
    "import graphviz \n",
    "dot_data = tree.export_graphviz(tree3, out_file=None) \n",
    "dot_data = tree.export_graphviz(tree3, out_file=None, \n",
    "                     feature_names=x_train.columns,  \n",
    "                     class_names=['Not Survived','Survived'],  \n",
    "                     filled=True, rounded=True,  \n",
    "                     special_characters=True)  \n",
    "\n",
    "graph = graphviz.Source(dot_data)  \n",
    "\n",
    "graph"
   ]
  },
  {
   "cell_type": "markdown",
   "metadata": {},
   "source": [
    "### Step 8.  Submit predictions to Kaggle"
   ]
  },
  {
   "cell_type": "code",
   "execution_count": 18,
   "metadata": {},
   "outputs": [],
   "source": [
    "# Import the test dataset and do some cleaning\n",
    "df_test = pd.read_csv('titanic_test.csv')\n",
    "\n",
    "# Assign input variables\n",
    "X_test = df_test.loc[:,['Pclass','Sex','Age','Fare','Embarked','SibSp','Parch']]\n",
    "\n",
    "# Replace missing values by the median\n",
    "X_test[\"Age\"] = X_test[\"Age\"].fillna(X_test[\"Age\"].median())\n",
    "\n",
    "# Replace missing values by the median\n",
    "X_test[\"Fare\"] = X_test[\"Fare\"].fillna(X_test[\"Fare\"].median())\n",
    "\n",
    "# Impute the Embarked variable\n",
    "X_test[\"Embarked\"] = X_test[\"Embarked\"].fillna(\"S\")\n",
    "# Change Pclass to categorical variable\n",
    "X_test['Pclass'] = X_test['Pclass'].astype(object)\n",
    "\n",
    "# Encode categorical variable\n",
    "X_test = pd.get_dummies(X_test)\n",
    "\n",
    "# Make predictions\n",
    "predictions = tree3.predict(X_test)\n",
    "\n",
    "# Save the file in the same folder\n",
    "submission = pd.DataFrame({'PassengerID': df_test['PassengerId'], 'Survived': predictions})\n",
    "pd.DataFrame(submission).to_csv(\"titanic_submission.csv\", index=False)"
   ]
  },
  {
   "cell_type": "markdown",
   "metadata": {
    "tags": []
   },
   "source": [
    "---\n",
    "\n",
    "# 2. Overfitting in Decision Trees\n",
    "\n",
    "## Training Accuracy vs. Testing Accuracy\n",
    "\n",
    "We analyze the accuracy of Decision Tree when the spliting criterion and the number of leaves (`max_leaf_nodes`) change.  These two parameters are also called hyper-parameters or tuning parameters. \n",
    "\n",
    "The following plot shows that the training accuracy will increase when the number of leaves (`max_leaf_nodes`) increase. The testing accuracy increases at the beginning and decreases or isolating in the long run. \n",
    "\n",
    "The next plot shows that the selection of criterion also impact model performance."
   ]
  },
  {
   "cell_type": "code",
   "execution_count": 19,
   "metadata": {},
   "outputs": [],
   "source": [
    "criterion = ['entropy', 'gini']\n",
    "max_leaf_nodes = range(2, 200)\n",
    "\n",
    "#erros_plot = function(criterion, )\n",
    "\n",
    "rs = pd.DataFrame(columns = ['Criterion','Leaves', 'Data','Accuracy'])\n",
    "\n",
    "for criterion1 in criterion:\n",
    "    for max_leaf_nodes1 in max_leaf_nodes:\n",
    "        tree1 = DecisionTreeClassifier(criterion=criterion1, max_leaf_nodes=max_leaf_nodes1)\n",
    "        tree1.fit(x_train, y_train)\n",
    "        new_row={'Criterion':criterion1,'Leaves':max_leaf_nodes1, 'Data':'Train','Accuracy':tree1.score(x_train, y_train)}\n",
    "        rs=rs.append(new_row, ignore_index=True)\n",
    "        new_row={'Criterion':criterion1,'Leaves':max_leaf_nodes1, 'Data':'Test','Accuracy':tree1.score(x_test, y_test)}\n",
    "        rs=rs.append(new_row, ignore_index=True)      "
   ]
  },
  {
   "cell_type": "code",
   "execution_count": 20,
   "metadata": {},
   "outputs": [
    {
     "data": {
      "text/plain": [
       "<AxesSubplot:xlabel='Leaves', ylabel='Accuracy'>"
      ]
     },
     "execution_count": 20,
     "metadata": {},
     "output_type": "execute_result"
    },
    {
     "data": {
      "image/png": "[encoded data removed]",
      "text/plain": [
       "<Figure size 432x288 with 1 Axes>"
      ]
     },
     "metadata": {
      "needs_background": "light"
     },
     "output_type": "display_data"
    }
   ],
   "source": [
    "# Plot the training and testing accuracy of the model when criterion = gini\n",
    "import seaborn as sns\n",
    "rs_gini = rs[rs['Criterion']=='gini']\n",
    "sns.lineplot(data=rs_gini, y=\"Accuracy\", x=\"Leaves\", hue='Data', ci=None)"
   ]
  },
  {
   "cell_type": "code",
   "execution_count": 21,
   "metadata": {},
   "outputs": [
    {
     "data": {
      "text/plain": [
       "<AxesSubplot:xlabel='Leaves', ylabel='Accuracy'>"
      ]
     },
     "execution_count": 21,
     "metadata": {},
     "output_type": "execute_result"
    },
    {
     "data": {
      "image/png": "[encoded data removed]",
      "text/plain": [
       "<Figure size 432x288 with 1 Axes>"
      ]
     },
     "metadata": {
      "needs_background": "light"
     },
     "output_type": "display_data"
    }
   ],
   "source": [
    "# Compare the impact of the criterion on tetsing accuracy\n",
    "sns.lineplot(data=rs[rs['Data']=='Test'], y=\"Accuracy\", x=\"Leaves\", hue='Criterion')     "
   ]
  },
  {
   "cell_type": "code",
   "execution_count": null,
   "metadata": {},
   "outputs": [],
   "source": []
  }
 ],
 "metadata": {
  "file_extension": ".py",
  "kernelspec": {
   "display_name": "Python 3 (ipykernel)",
   "language": "python",
   "name": "python3"
  },
  "language_info": {
   "codemirror_mode": {
    "name": "ipython",
    "version": 3
   },
   "file_extension": ".py",
   "mimetype": "text/x-python",
   "name": "python",
   "nbconvert_exporter": "python",
   "pygments_lexer": "ipython3",
   "version": "3.9.12"
  },
  "mimetype": "text/x-python",
  "name": "python",
  "npconvert_exporter": "python",
  "pygments_lexer": "ipython3",
  "toc-autonumbering": false,
  "toc-showcode": false,
  "toc-showmarkdowntxt": false,
  "version": 3
 },
 "nbformat": 4,
 "nbformat_minor": 4
}
