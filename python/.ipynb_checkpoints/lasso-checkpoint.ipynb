{
 "cells": [
  {
   "cell_type": "markdown",
   "metadata": {},
   "source": [
    "## Linear Model\n",
    "\n",
    "$$\n",
    "\\hat{y} = w_0 + w_1 x_1 + w_2 x_2\n",
    "$$\n",
    "\n",
    "Linear Model minimizes\n",
    "\n",
    "$$\n",
    "\\sum \\big(y-\\hat{y} \\big)^2.\n",
    "$$\n",
    "\n",
    "## LASSO: \n",
    "\n",
    "LASSO minimizes\n",
    "\n",
    "$$\n",
    "\\sum \\bigg(y-\\hat{y} \\bigg)^2 +  \\alpha \\bigg( |w_1|+|w_2| \\bigg).\n",
    "$$\n",
    "\n",
    "## The effect of alpha in LASSO\n",
    "\n",
    "LASSO has hyperparameter $\\alpha$.  A large $\\alpha$ shrinks the coefficients to zeros quicklier.\n",
    "\n",
    "In the following codes, change the value of $\\alpha$ to see the change of the slope of the two models. "
   ]
  },
  {
   "cell_type": "code",
   "execution_count": 12,
   "metadata": {},
   "outputs": [],
   "source": [
    "def elastic_plot(alpha=10, legend=True):\n",
    "\n",
    "    import numpy as np\n",
    "    import matplotlib.pyplot as plt\n",
    "    from sklearn.linear_model import LinearRegression\n",
    "    from sklearn import linear_model\n",
    "    np.random.seed(0)\n",
    "\n",
    "    # Create a dataset\n",
    "    x = 30 * np.random.random((20, 1))\n",
    "    \n",
    "    y = 0.5 * x + 1.0 + np.random.normal(size=x.shape)\n",
    "\n",
    "    # create a linear regression model\n",
    "    model = LinearRegression()\n",
    "    model.fit(x, y)\n",
    "\n",
    "    # predict y from the data\n",
    "    x_new = np.linspace(0, 30, 100)\n",
    "    y_new = model.predict(x_new[:, np.newaxis])\n",
    "\n",
    "    ######## LASSO\n",
    "    model1 = linear_model.Lasso(alpha=alpha)\n",
    "    model1.fit(x, y)\n",
    "    # predict y from the data\n",
    "    y_new1 = model1.predict(x_new[:, np.newaxis])\n",
    "\n",
    "    # plot the results\n",
    "    plt.figure(figsize=(8, 6))\n",
    "    ax = plt.axes()\n",
    "    ax.scatter(x, y)\n",
    "    ax.plot(x_new, y_new)\n",
    "    ax.plot(x_new, y_new1)\n",
    "    ax.set_xlabel('x')\n",
    "    ax.set_ylabel('y')\n",
    "    ax.axis('tight')\n",
    "\n",
    "    s1 = np.round(model.coef_[0][0], 3)\n",
    "    s2 = np.round(model1.coef_[0], 3)\n",
    "\n",
    "    if(legend):\n",
    "        plt.legend(['Linear Model. Slope =' + str(s1), 'LASSO Model. Slope ='+ str(s2)], loc='upper left')\n",
    "\n",
    "    plt.show()\n",
    "    \n",
    "    from tabulate import tabulate\n",
    "    import pandas as pd\n",
    "\n",
    "    d = np.concatenate((x,y), axis=1)\n",
    "    d = pd.DataFrame(d, columns= ['x','y'])\n",
    "    print('DATA:')\n",
    "    print(tabulate(d, headers=['x','y'], tablefmt=\"fancy_grid\"))\n",
    "\n",
    "    \n",
    "\n",
    "\n",
    "def elastic(size=100, coef=[1, 5, 10, 7, 9], alpha=1):\n",
    "    import numpy as np\n",
    "    from sklearn.linear_model import LinearRegression\n",
    "    from sklearn import linear_model\n",
    "    \n",
    "    dim = [size, len(coef)]\n",
    "    np.random.seed(0)\n",
    "    x = np.random.random(dim)\n",
    "    \n",
    "    y = x.dot(coef) + np.random.normal(0, 1, size)\n",
    "    \n",
    "    \n",
    "    # create a linear regression model\n",
    "    model = LinearRegression()\n",
    "    model.fit(x, y)\n",
    "\n",
    "\n",
    "\n",
    "    ######## LASSO\n",
    "    model1 = linear_model.Lasso(alpha=alpha)\n",
    "    model1.fit(x, y)\n",
    "\n",
    "    from tabulate import tabulate\n",
    "    s1 = model.coef_\n",
    "    s2 = model1.coef_\n",
    "    s3 = model2.coef_\n",
    "    s = np.vstack((coef, s1, s3, s2))\n",
    "    import pandas as pd\n",
    "    s = pd.DataFrame(s, index=[\"Truth\",'Linear Model','LASSO'])\n",
    "    headers = ['w' + str(i) for i in range(1,len(coef)+1)]\n",
    "\n",
    "    print(tabulate(s, headers=headers, tablefmt=\"fancy_grid\"))\n",
    "    \n",
    "#    return s\n"
   ]
  },
  {
   "cell_type": "code",
   "execution_count": 13,
   "metadata": {},
   "outputs": [
    {
     "data": {
      "image/png": "[encoded data removed]",
      "text/plain": [
       "<Figure size 576x432 with 1 Axes>"
      ]
     },
     "metadata": {
      "needs_background": "light"
     },
     "output_type": "display_data"
    },
    {
     "name": "stdout",
     "output_type": "stream",
     "text": [
      "DATA:\n",
      "╒════╤═══════════╤══════════╕\n",
      "│    │         x │        y │\n",
      "╞════╪═══════════╪══════════╡\n",
      "│  0 │ 16.4644   │ 10.7263  │\n",
      "├────┼───────────┼──────────┤\n",
      "│  1 │ 21.4557   │ 11.5227  │\n",
      "├────┼───────────┼──────────┤\n",
      "│  2 │ 18.0829   │ 10.3545  │\n",
      "├────┼───────────┼──────────┤\n",
      "│  3 │ 16.3465   │  8.31915 │\n",
      "├────┼───────────┼──────────┤\n",
      "│  4 │ 12.7096   │  4.80183 │\n",
      "├────┼───────────┼──────────┤\n",
      "│  5 │ 19.3768   │ 11.342   │\n",
      "├────┼───────────┼──────────┤\n",
      "│  6 │ 13.1276   │  8.42824 │\n",
      "├────┼───────────┼──────────┤\n",
      "│  7 │ 26.7532   │ 13.6344  │\n",
      "├────┼───────────┼──────────┤\n",
      "│  8 │ 28.9099   │ 17.7247  │\n",
      "├────┼───────────┼──────────┤\n",
      "│  9 │ 11.5032   │  5.29726 │\n",
      "├────┼───────────┼──────────┤\n",
      "│ 10 │ 23.7518   │ 12.9216  │\n",
      "├────┼───────────┼──────────┤\n",
      "│ 11 │ 15.8668   │  8.74624 │\n",
      "├────┼───────────┼──────────┤\n",
      "│ 12 │ 17.0413   │ 11.0534  │\n",
      "├────┼───────────┼──────────┤\n",
      "│ 13 │ 27.7679   │ 16.3533  │\n",
      "├────┼───────────┼──────────┤\n",
      "│ 14 │  2.13108  │  2.22049 │\n",
      "├────┼───────────┼──────────┤\n",
      "│ 15 │  2.61388  │  2.6851  │\n",
      "├────┼───────────┼──────────┤\n",
      "│ 16 │  0.606552 │  0.41549 │\n",
      "├────┼───────────┼──────────┤\n",
      "│ 17 │ 24.9786   │ 11.5085  │\n",
      "├────┼───────────┼──────────┤\n",
      "│ 18 │ 23.3447   │ 12.3244  │\n",
      "├────┼───────────┼──────────┤\n",
      "│ 19 │ 26.1004   │ 14.2065  │\n",
      "╘════╧═══════════╧══════════╛\n"
     ]
    }
   ],
   "source": [
    "elastic_plot(alpha=2, legend=True)"
   ]
  },
  {
   "cell_type": "markdown",
   "metadata": {},
   "source": [
    "# ElasticNet\n",
    "\n",
    "Model: \n",
    "\n",
    "$$\n",
    "\\hat{y} = w_0 + w_1 x_1 + w_2 x_2\n",
    "$$\n",
    "\n",
    "ElasticNet is a combination of LASSO and Ridge, minimizing\n",
    "\n",
    "$$\n",
    "\\sum \\bigg(y-\\hat{y} \\bigg)^2 + \\alpha (1-l_1) \\bigg( w_1^2+w_2^2 \\bigg) + \\alpha l_1 \\bigg( |w_1|+|w_2| \\bigg),\n",
    "$$\n",
    "  \n",
    "  - If $l_1 = 1$: We have LASSO\n",
    "  - If $l_1 = 0$: We have Ridge\n",
    "  - If $\\alpha =0 $, we have a linear model. "
   ]
  },
  {
   "cell_type": "code",
   "execution_count": 43,
   "metadata": {},
   "outputs": [
    {
     "name": "stdout",
     "output_type": "stream",
     "text": [
      "╒══════════════╤═══════════╤═════════╤══════════╤═════════╤═══════════╤═════════╕\n",
      "│              │        w1 │      w2 │       w3 │      w4 │        w5 │      w6 │\n",
      "╞══════════════╪═══════════╪═════════╪══════════╪═════════╪═══════════╪═════════╡\n",
      "│ Truth        │  0        │ 4       │ 0        │ 3       │ 0         │ 7       │\n",
      "├──────────────┼───────────┼─────────┼──────────┼─────────┼───────────┼─────────┤\n",
      "│ Linear Model │ -0.244061 │ 3.54013 │ 0.221939 │ 2.6042  │ 0.0982158 │ 6.83617 │\n",
      "├──────────────┼───────────┼─────────┼──────────┼─────────┼───────────┼─────────┤\n",
      "│ Ridge        │ -0.242755 │ 3.52488 │ 0.213566 │ 2.59936 │ 0.0968156 │ 6.79588 │\n",
      "├──────────────┼───────────┼─────────┼──────────┼─────────┼───────────┼─────────┤\n",
      "│ LASSO        │ -0        │ 3.09399 │ 0        │ 2.25042 │ 0         │ 6.29958 │\n",
      "╘══════════════╧═══════════╧═════════╧══════════╧═════════╧═══════════╧═════════╛\n"
     ]
    }
   ],
   "source": [
    "#elastic(alpha=.05, coef=[0, 0, 4, 3, 0, 1, 0, 3, 0 , 6, 0, 0, 0, 5, 1])\n",
    "elastic(alpha=.05, coef=[0, 4, 0, 3, 0, 7])"
   ]
  },
  {
   "cell_type": "markdown",
   "metadata": {},
   "source": [
    "## 2. Predicting Boston Housing Price\n",
    "\n",
    "We predict housing prices in Boston using linear model, ElasticNet and Random Forest. "
   ]
  },
  {
   "cell_type": "code",
   "execution_count": 14,
   "metadata": {},
   "outputs": [],
   "source": [
    "import matplotlib.pyplot as plt\n",
    "import numpy as np \n",
    "import pandas as pd\n",
    "from sklearn.datasets import load_boston\n",
    "from sklearn.model_selection import train_test_split\n",
    "from sklearn.linear_model import LinearRegression\n",
    "\n",
    "\n",
    "boston=load_boston()\n",
    "boston_df=pd.DataFrame(boston.data,columns=boston.feature_names)\n",
    "\n",
    "#print boston_df.info()\n",
    "# add another column that contains the house prices which in scikit learn datasets are considered as target\n",
    "boston_df['Price']=boston.target\n",
    "\n",
    "#print boston_df.head(3)\n",
    "newX=boston_df.drop('Price',axis=1)\n",
    "newY=boston_df['Price']\n",
    "#print type(newY)# pandas core frame\n",
    "X_train,X_test,y_train,y_test=train_test_split(newX,newY,test_size=0.9,random_state=27)"
   ]
  },
  {
   "cell_type": "markdown",
   "metadata": {},
   "source": [
    "### Data Description"
   ]
  },
  {
   "cell_type": "code",
   "execution_count": 15,
   "metadata": {},
   "outputs": [
    {
     "name": "stdout",
     "output_type": "stream",
     "text": [
      ".. _boston_dataset:\n",
      "\n",
      "Boston house prices dataset\n",
      "---------------------------\n",
      "\n",
      "**Data Set Characteristics:**  \n",
      "\n",
      "    :Number of Instances: 506 \n",
      "\n",
      "    :Number of Attributes: 13 numeric/categorical predictive. Median Value (attribute 14) is usually the target.\n",
      "\n",
      "    :Attribute Information (in order):\n",
      "        - CRIM     per capita crime rate by town\n",
      "        - ZN       proportion of residential land zoned for lots over 25,000 sq.ft.\n",
      "        - INDUS    proportion of non-retail business acres per town\n",
      "        - CHAS     Charles River dummy variable (= 1 if tract bounds river; 0 otherwise)\n",
      "        - NOX      nitric oxides concentration (parts per 10 million)\n",
      "        - RM       average number of rooms per dwelling\n",
      "        - AGE      proportion of owner-occupied units built prior to 1940\n",
      "        - DIS      weighted distances to five Boston employment centres\n",
      "        - RAD      index of accessibility to radial highways\n",
      "        - TAX      full-value property-tax rate per $10,000\n",
      "        - PTRATIO  pupil-teacher ratio by town\n",
      "        - B        1000(Bk - 0.63)^2 where Bk is the proportion of blacks by town\n",
      "        - LSTAT    % lower status of the population\n",
      "        - MEDV     Median value of owner-occupied homes in $1000's\n",
      "\n",
      "    :Missing Attribute Values: None\n",
      "\n",
      "    :Creator: Harrison, D. and Rubinfeld, D.L.\n",
      "\n",
      "This is a copy of UCI ML housing dataset.\n",
      "https://archive.ics.uci.edu/ml/machine-learning-databases/housing/\n",
      "\n",
      "\n",
      "This dataset was taken from the StatLib library which is maintained at Carnegie Mellon University.\n",
      "\n",
      "The Boston house-price data of Harrison, D. and Rubinfeld, D.L. 'Hedonic\n",
      "prices and the demand for clean air', J. Environ. Economics & Management,\n",
      "vol.5, 81-102, 1978.   Used in Belsley, Kuh & Welsch, 'Regression diagnostics\n",
      "...', Wiley, 1980.   N.B. Various transformations are used in the table on\n",
      "pages 244-261 of the latter.\n",
      "\n",
      "The Boston house-price data has been used in many machine learning papers that address regression\n",
      "problems.   \n",
      "     \n",
      ".. topic:: References\n",
      "\n",
      "   - Belsley, Kuh & Welsch, 'Regression diagnostics: Identifying Influential Data and Sources of Collinearity', Wiley, 1980. 244-261.\n",
      "   - Quinlan,R. (1993). Combining Instance-Based and Model-Based Learning. In Proceedings on the Tenth International Conference of Machine Learning, 236-243, University of Massachusetts, Amherst. Morgan Kaufmann.\n",
      "\n"
     ]
    }
   ],
   "source": [
    "print(boston.DESCR)"
   ]
  },
  {
   "cell_type": "markdown",
   "metadata": {},
   "source": [
    "#### Linear Model\n",
    "\n",
    "**On Original Data**"
   ]
  },
  {
   "cell_type": "code",
   "execution_count": 80,
   "metadata": {},
   "outputs": [
    {
     "name": "stdout",
     "output_type": "stream",
     "text": [
      "R2 of Linear Model: 0.16682125146939064\n",
      "R2 of LASSO: 0.6428736650944249\n"
     ]
    }
   ],
   "source": [
    "newX=boston_df.drop('Price',axis=1)\n",
    "newY=boston_df['Price']\n",
    "\n",
    "#print type(newY)# pandas core frame\n",
    "X_train,X_test,y_train,y_test=train_test_split(newX,newY,test_size=0.9,random_state=27)\n",
    "\n",
    "from sklearn.linear_model import LinearRegression\n",
    "from sklearn.metrics import r2_score\n",
    "\n",
    "model = LinearRegression()\n",
    "model.fit(X_train, y_train)\n",
    "\n",
    "coef1 = pd.DataFrame({'Variable':X_train.columns, \n",
    "                     'Coef':model.coef_,\n",
    "                      'Model': 'Linear',\n",
    "                      'Data': 'Original'\n",
    "                    })\n",
    "\n",
    "\n",
    "print('R2 of Linear Model:',r2_score(y_test, model.predict(X_test)))\n",
    "\n",
    "from sklearn.linear_model import ElasticNet\n",
    "model = ElasticNet(l1_ratio=1, alpha=1.216)\n",
    "model.fit(X_train, y_train)\n",
    "\n",
    "coef2 = pd.DataFrame({'Variable':X_train.columns, \n",
    "                     'Coef':model.coef_,\n",
    "                      'Model':'LASSO',\n",
    "                      'Data': 'Original'\n",
    "                    })\n",
    "\n",
    "print('R2 of LASSO:', r2_score(y_test, model.predict(X_test)))"
   ]
  },
  {
   "cell_type": "code",
   "execution_count": 81,
   "metadata": {},
   "outputs": [
    {
     "data": {
      "text/html": [
       "<div>\n",
       "<style scoped>\n",
       "    .dataframe tbody tr th:only-of-type {\n",
       "        vertical-align: middle;\n",
       "    }\n",
       "\n",
       "    .dataframe tbody tr th {\n",
       "        vertical-align: top;\n",
       "    }\n",
       "\n",
       "    .dataframe thead th {\n",
       "        text-align: right;\n",
       "    }\n",
       "</style>\n",
       "<table border=\"1\" class=\"dataframe\">\n",
       "  <thead>\n",
       "    <tr style=\"text-align: right;\">\n",
       "      <th></th>\n",
       "      <th>Variable</th>\n",
       "      <th>Linear Model</th>\n",
       "      <th>LASSO</th>\n",
       "    </tr>\n",
       "  </thead>\n",
       "  <tbody>\n",
       "    <tr>\n",
       "      <th>0</th>\n",
       "      <td>CRIM</td>\n",
       "      <td>0.651033</td>\n",
       "      <td>0.000005</td>\n",
       "    </tr>\n",
       "    <tr>\n",
       "      <th>1</th>\n",
       "      <td>ZN</td>\n",
       "      <td>0.060976</td>\n",
       "      <td>0.075309</td>\n",
       "    </tr>\n",
       "    <tr>\n",
       "      <th>2</th>\n",
       "      <td>INDUS</td>\n",
       "      <td>-0.077244</td>\n",
       "      <td>-0.000000</td>\n",
       "    </tr>\n",
       "    <tr>\n",
       "      <th>3</th>\n",
       "      <td>CHAS</td>\n",
       "      <td>12.473065</td>\n",
       "      <td>0.000000</td>\n",
       "    </tr>\n",
       "    <tr>\n",
       "      <th>4</th>\n",
       "      <td>NOX</td>\n",
       "      <td>-11.575379</td>\n",
       "      <td>-0.000000</td>\n",
       "    </tr>\n",
       "    <tr>\n",
       "      <th>5</th>\n",
       "      <td>RM</td>\n",
       "      <td>8.523281</td>\n",
       "      <td>3.202072</td>\n",
       "    </tr>\n",
       "    <tr>\n",
       "      <th>6</th>\n",
       "      <td>AGE</td>\n",
       "      <td>-0.054629</td>\n",
       "      <td>0.011858</td>\n",
       "    </tr>\n",
       "    <tr>\n",
       "      <th>7</th>\n",
       "      <td>DIS</td>\n",
       "      <td>-1.720972</td>\n",
       "      <td>-0.627615</td>\n",
       "    </tr>\n",
       "    <tr>\n",
       "      <th>8</th>\n",
       "      <td>RAD</td>\n",
       "      <td>-0.239981</td>\n",
       "      <td>0.262110</td>\n",
       "    </tr>\n",
       "    <tr>\n",
       "      <th>9</th>\n",
       "      <td>TAX</td>\n",
       "      <td>0.003134</td>\n",
       "      <td>-0.008747</td>\n",
       "    </tr>\n",
       "    <tr>\n",
       "      <th>10</th>\n",
       "      <td>PTRATIO</td>\n",
       "      <td>0.065521</td>\n",
       "      <td>-0.323681</td>\n",
       "    </tr>\n",
       "    <tr>\n",
       "      <th>11</th>\n",
       "      <td>B</td>\n",
       "      <td>0.036573</td>\n",
       "      <td>0.027567</td>\n",
       "    </tr>\n",
       "    <tr>\n",
       "      <th>12</th>\n",
       "      <td>LSTAT</td>\n",
       "      <td>-0.225649</td>\n",
       "      <td>-0.494799</td>\n",
       "    </tr>\n",
       "  </tbody>\n",
       "</table>\n",
       "</div>"
      ],
      "text/plain": [
       "   Variable  Linear Model     LASSO\n",
       "0      CRIM      0.651033  0.000005\n",
       "1        ZN      0.060976  0.075309\n",
       "2     INDUS     -0.077244 -0.000000\n",
       "3      CHAS     12.473065  0.000000\n",
       "4       NOX    -11.575379 -0.000000\n",
       "5        RM      8.523281  3.202072\n",
       "6       AGE     -0.054629  0.011858\n",
       "7       DIS     -1.720972 -0.627615\n",
       "8       RAD     -0.239981  0.262110\n",
       "9       TAX      0.003134 -0.008747\n",
       "10  PTRATIO      0.065521 -0.323681\n",
       "11        B      0.036573  0.027567\n",
       "12    LSTAT     -0.225649 -0.494799"
      ]
     },
     "execution_count": 81,
     "metadata": {},
     "output_type": "execute_result"
    }
   ],
   "source": [
    "coef = pd.concat([coef1, coef2], ignore_index=True, axis=1)\n",
    "coef = coef.drop([2, 3, 4, 6, 7], axis=1)\n",
    "coef.columns = ['Variable','Linear Model', 'LASSO']\n",
    "coef"
   ]
  },
  {
   "cell_type": "code",
   "execution_count": 82,
   "metadata": {},
   "outputs": [
    {
     "data": {
      "image/png": "[encoded data removed]",
      "text/plain": [
       "<Figure size 432x288 with 1 Axes>"
      ]
     },
     "metadata": {},
     "output_type": "display_data"
    }
   ],
   "source": [
    "coef = pd.concat([coef1, coef2], ignore_index=True)\n",
    "coef\n",
    "\n",
    "import seaborn as sns\n",
    "ax = sns.barplot(x=\"Variable\", y=\"Coef\", hue = 'Model', data=coef)"
   ]
  },
  {
   "cell_type": "markdown",
   "metadata": {},
   "source": [
    "**On Noised Data**\n",
    "\n",
    "We added noise to the data then rerun linear model and lasso to see how the noise affects these two models."
   ]
  },
  {
   "cell_type": "code",
   "execution_count": null,
   "metadata": {},
   "outputs": [],
   "source": [
    "newX=boston_df.drop('Price',axis=1)\n",
    "newY=boston_df['Price']\n",
    "\n",
    "newX = pd.concat([newX, pd.DataFrame(np.random.random([newX.shape[0], 20000]), index=newX.index)], axis=1)\n",
    "#print type(newY)# pandas core frame\n",
    "X_train,X_test,y_train,y_test=train_test_split(newX,newY,test_size=0.9,random_state=27)\n",
    "\n",
    "from sklearn.linear_model import LinearRegression\n",
    "from sklearn.metrics import r2_score\n",
    "\n",
    "model = LinearRegression()\n",
    "model.fit(X_train, y_train)\n",
    "\n",
    "coef3 = pd.DataFrame({'Variable':X_train.columns, \n",
    "                     'Coef':model.coef_,\n",
    "                      'Model': 'Linear',\n",
    "                      'Data': 'Noised'\n",
    "                    })\n",
    "\n",
    "\n",
    "print('R2 of Linear Model:',r2_score(y_test, model.predict(X_test)))\n",
    "\n",
    "from sklearn.linear_model import ElasticNet\n",
    "model = ElasticNet(l1_ratio=1, alpha=1.216)\n",
    "model.fit(X_train, y_train)\n",
    "\n",
    "coef4 = pd.DataFrame({'Variable':X_train.columns, \n",
    "                     'Coef':model.coef_,\n",
    "                      'Model':'LASSO',\n",
    "                      'Data': 'Noised'\n",
    "                    })\n",
    "\n",
    "print('R2 of LASSO:', r2_score(y_test, model.predict(X_test)))"
   ]
  },
  {
   "cell_type": "code",
   "execution_count": null,
   "metadata": {},
   "outputs": [],
   "source": [
    "coef = pd.concat([coef3, coef4], ignore_index=True, axis=1)\n",
    "coef = coef.drop([2, 3, 4, 6, 7], axis=1)\n",
    "coef.columns = ['Variable','Linear Model', 'LASSO']\n",
    "coef = pd.concat([coef3, coef4], ignore_index=True)\n",
    "coef\n",
    "\n",
    "import seaborn as sns\n",
    "ax = sns.barplot(x=\"Variable\", y=\"Coef\", hue = 'Model', data=coef)"
   ]
  },
  {
   "cell_type": "code",
   "execution_count": null,
   "metadata": {},
   "outputs": [],
   "source": [
    "coef = pd.concat([coef1, coef2, coef3, coef4], ignore_index=True)\n",
    "\n",
    "coef =  coef[coef['Model']=='Linear']\n",
    "\n",
    "ax = sns.barplot(x=\"Variable\", y=\"Coef\", hue = 'Data', data=coef)"
   ]
  },
  {
   "cell_type": "markdown",
   "metadata": {},
   "source": [
    "### 3. Predicting NBA Player Salary\n",
    "\n",
    "The data can be found from Blackboard or [here](https://www.kaggle.com/aishjun/nba-salaries-prediction-in-20172018-season) "
   ]
  },
  {
   "cell_type": "code",
   "execution_count": 23,
   "metadata": {},
   "outputs": [],
   "source": [
    "df = pd.read_csv('nba_salary.csv')\n",
    "df = df.dropna()\n",
    "newY=df['Salary']\n",
    "newX=df.drop(['Player','Salary','NBA_DraftNumber','NBA_Country','Tm'] ,axis=1)\n",
    "#print type(newY)# pandas core frame\n",
    "X_train,X_test,y_train,y_test=train_test_split(newX,newY,test_size=0.3,random_state=9)"
   ]
  },
  {
   "cell_type": "markdown",
   "metadata": {},
   "source": [
    "#### Linear Model"
   ]
  },
  {
   "cell_type": "code",
   "execution_count": 24,
   "metadata": {},
   "outputs": [
    {
     "name": "stdout",
     "output_type": "stream",
     "text": [
      "0.34024791460147585\n"
     ]
    }
   ],
   "source": [
    "# Linear Regression\n",
    "from sklearn.linear_model import LinearRegression\n",
    "from sklearn.metrics import r2_score\n",
    "\n",
    "model = LinearRegression()\n",
    "model.fit(X_train, y_train)\n",
    "print(r2_score(y_test, model.predict(X_test)))"
   ]
  },
  {
   "cell_type": "markdown",
   "metadata": {},
   "source": [
    "#### Lasso"
   ]
  },
  {
   "cell_type": "code",
   "execution_count": 25,
   "metadata": {},
   "outputs": [
    {
     "name": "stdout",
     "output_type": "stream",
     "text": [
      "0.37565692044105614\n"
     ]
    }
   ],
   "source": [
    "model = ElasticNet(l1_ratio=1)\n",
    "model.fit(X_train, y_train)\n",
    "print(r2_score(y_test, model.predict(X_test)))"
   ]
  },
  {
   "cell_type": "code",
   "execution_count": 26,
   "metadata": {},
   "outputs": [
    {
     "name": "stdout",
     "output_type": "stream",
     "text": [
      "LR: 0.044563 (0.038449)\n",
      "KNN: 0.038681 (0.040008)\n",
      "CART: 0.017736 (0.014484)\n"
     ]
    },
    {
     "data": {
      "image/png": "[encoded data removed]",
      "text/plain": [
       "<Figure size 432x288 with 1 Axes>"
      ]
     },
     "metadata": {
      "needs_background": "light"
     },
     "output_type": "display_data"
    }
   ],
   "source": [
    "from sklearn import model_selection\n",
    "from sklearn.linear_model import LogisticRegression\n",
    "from sklearn.tree import DecisionTreeClassifier\n",
    "from sklearn.neighbors import KNeighborsClassifier\n",
    "from sklearn.discriminant_analysis import LinearDiscriminantAnalysis\n",
    "from sklearn.naive_bayes import GaussianNB\n",
    "from sklearn.svm import SVC\n",
    "\n",
    "models = []\n",
    "models.append(('LR', LogisticRegression()))\n",
    "models.append(('KNN', KNeighborsClassifier()))\n",
    "models.append(('CART', DecisionTreeClassifier()))\n",
    "# evaluate each model in turn\n",
    "results = []\n",
    "names = []\n",
    "scoring = 'accuracy'\n",
    "for name, model in models:\n",
    "\tkfold = model_selection.KFold(n_splits=10, random_state=9)\n",
    "\tcv_results = model_selection.cross_val_score(model, X_train, y_train, cv=kfold, scoring=scoring)\n",
    "\tresults.append(cv_results)\n",
    "\tnames.append(name)\n",
    "\tmsg = \"%s: %f (%f)\" % (name, cv_results.mean(), cv_results.std())\n",
    "\tprint(msg)\n",
    "# boxplot algorithm comparison\n",
    "fig = plt.figure()\n",
    "fig.suptitle('Algorithm Comparison')\n",
    "ax = fig.add_subplot(111)\n",
    "plt.boxplot(results)\n",
    "ax.set_xticklabels(names)\n",
    "plt.show()"
   ]
  },
  {
   "cell_type": "code",
   "execution_count": 21,
   "metadata": {},
   "outputs": [
    {
     "data": {
      "text/plain": [
       "0.4995618948495218"
      ]
     },
     "execution_count": 21,
     "metadata": {},
     "output_type": "execute_result"
    }
   ],
   "source": [
    "np.random.random((100090, 1)).mean()"
   ]
  },
  {
   "cell_type": "code",
   "execution_count": null,
   "metadata": {},
   "outputs": [],
   "source": []
  }
 ],
 "metadata": {
  "kernelspec": {
   "display_name": "Python 3 (ipykernel)",
   "language": "python",
   "name": "python3"
  },
  "language_info": {
   "codemirror_mode": {
    "name": "ipython",
    "version": 3
   },
   "file_extension": ".py",
   "mimetype": "text/x-python",
   "name": "python",
   "nbconvert_exporter": "python",
   "pygments_lexer": "ipython3",
   "version": "3.9.12"
  }
 },
 "nbformat": 4,
 "nbformat_minor": 4
}
