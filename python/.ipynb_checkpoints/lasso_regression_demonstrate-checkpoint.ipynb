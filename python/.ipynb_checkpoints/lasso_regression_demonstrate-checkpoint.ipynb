{
 "cells": [
  {
   "cell_type": "markdown",
   "metadata": {},
   "source": [
    "# Linear Regression vs. LASSO"
   ]
  },
  {
   "cell_type": "markdown",
   "metadata": {},
   "source": [
    "### Titanic Age Prediction"
   ]
  },
  {
   "cell_type": "code",
   "execution_count": 4,
   "metadata": {},
   "outputs": [
    {
     "data": {
      "text/html": [
       "<div>\n",
       "<style scoped>\n",
       "    .dataframe tbody tr th:only-of-type {\n",
       "        vertical-align: middle;\n",
       "    }\n",
       "\n",
       "    .dataframe tbody tr th {\n",
       "        vertical-align: top;\n",
       "    }\n",
       "\n",
       "    .dataframe thead th {\n",
       "        text-align: right;\n",
       "    }\n",
       "</style>\n",
       "<table border=\"1\" class=\"dataframe\">\n",
       "  <thead>\n",
       "    <tr style=\"text-align: right;\">\n",
       "      <th></th>\n",
       "      <th>Variable</th>\n",
       "      <th>Linear Model</th>\n",
       "      <th>LASSO</th>\n",
       "    </tr>\n",
       "  </thead>\n",
       "  <tbody>\n",
       "    <tr>\n",
       "      <th>0</th>\n",
       "      <td>Fare</td>\n",
       "      <td>0.047</td>\n",
       "      <td>0.047</td>\n",
       "    </tr>\n",
       "    <tr>\n",
       "      <th>1</th>\n",
       "      <td>SibSp</td>\n",
       "      <td>-4.356</td>\n",
       "      <td>-4.356</td>\n",
       "    </tr>\n",
       "    <tr>\n",
       "      <th>2</th>\n",
       "      <td>Parch</td>\n",
       "      <td>-2.395</td>\n",
       "      <td>-2.395</td>\n",
       "    </tr>\n",
       "  </tbody>\n",
       "</table>\n",
       "</div>"
      ],
      "text/plain": [
       "  Variable  Linear Model  LASSO\n",
       "0     Fare         0.047  0.047\n",
       "1    SibSp        -4.356 -4.356\n",
       "2    Parch        -2.395 -2.395"
      ]
     },
     "execution_count": 4,
     "metadata": {},
     "output_type": "execute_result"
    }
   ],
   "source": [
    "alpha = 0\n",
    "\n",
    "import matplotlib.pyplot as plt\n",
    "import numpy as np \n",
    "import pandas as pd\n",
    "from sklearn import linear_model\n",
    "from sklearn.model_selection import train_test_split\n",
    "from sklearn.linear_model import LinearRegression\n",
    "import warnings\n",
    "warnings.filterwarnings('ignore')\n",
    "from sklearn.metrics import r2_score\n",
    "\n",
    "import pandas as pd\n",
    "import numpy as np\n",
    "np.random.seed(12356)\n",
    "df = pd.read_csv('titanic.csv')\n",
    "\n",
    "df = df[df['Age'].notna()]\n",
    "\n",
    "# Assign input variables\n",
    "X = df.loc[:,['Fare','SibSp','Parch']]\n",
    "\n",
    "# Assign target variable\n",
    "y = df['Age']\n",
    "\n",
    "X = pd.get_dummies(X)\n",
    "from sklearn.model_selection import train_test_split\n",
    "\n",
    "x_train,x_test,y_train,y_test=train_test_split(X,y,test_size=0.3)\n",
    "\n",
    "model = LinearRegression()\n",
    "model.fit(x_train, y_train)\n",
    "\n",
    "coef1 = pd.DataFrame({'Variable':x_train.columns, \n",
    "                     'Coef':model.coef_,\n",
    "                      'Model': 'Linear',\n",
    "                      'Data': 'Original'\n",
    "                    })\n",
    "\n",
    "lm_org = r2_score(y_test, model.predict(x_test))\n",
    "model = linear_model.Lasso(alpha=alpha)\n",
    "model.fit(x_train, y_train)\n",
    "\n",
    "coef2 = pd.DataFrame({'Variable':x_train.columns, \n",
    "                     'Coef':model.coef_,\n",
    "                      'Model':'LASSO',\n",
    "                      'Data': 'Original'\n",
    "                    })\n",
    "\n",
    "lasso_org = r2_score(y_test, model.predict(x_test))\n",
    "coef = pd.concat([coef1, coef2], ignore_index=True, axis=1)\n",
    "coef = coef.drop([2, 3, 4, 6, 7], axis=1)\n",
    "coef.columns = ['Variable','Linear Model', 'LASSO']\n",
    "coef.round(3)"
   ]
  },
  {
   "cell_type": "code",
   "execution_count": null,
   "metadata": {},
   "outputs": [],
   "source": []
  }
 ],
 "metadata": {
  "kernelspec": {
   "display_name": "Python 3 (ipykernel)",
   "language": "python",
   "name": "python3"
  },
  "language_info": {
   "codemirror_mode": {
    "name": "ipython",
    "version": 3
   },
   "file_extension": ".py",
   "mimetype": "text/x-python",
   "name": "python",
   "nbconvert_exporter": "python",
   "pygments_lexer": "ipython3",
   "version": "3.11.5"
  }
 },
 "nbformat": 4,
 "nbformat_minor": 4
}
