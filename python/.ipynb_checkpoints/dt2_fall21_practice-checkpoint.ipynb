{
 "cells": [
  {
   "cell_type": "markdown",
   "metadata": {},
   "source": [
    "# Extra Credit 2: Decision Tree Practice\n",
    "\n",
    "Following the sample codes at this link to do/answer the below.\n",
    "\n",
    "- Import the breast cancer dataset.  The data can be downloaded at [this link](https://bryantstats.github.io/math460/data/breast_cancer.csv)\n",
    "- Check out the missing values in each columns\n",
    "- Set the input (X) and output (y). Split the data into 80% training and 20% testing\n",
    "- Train a decison tree with the max leaves of 4 using `entropy` as the criteria for spliting\n",
    "- Calculate the testing error of the above tree\n",
    "- Search for the best hyperparameters of decision where the max leaves runs from 3 to 12 and the criteria runs between `gini` and `entropy`\n",
    "- What are the best hyperparameters found after the search\n",
    "- Train a decision tree using the best hyperparameters found then calculate the testing error of this tree. \n",
    "- (Challenging) Install the `graphviz` package by\n",
    "\n",
    "    - Type in the notebook `pip install graphviz`. Using this video to install the package: \n",
    "\n",
    "    - Download `graphiz` at: https://gitlab.com/api/v4/projects/4207231/packages/generic/graphviz-releases/2.49.1/stable_windows_10_cmake_Release_x64_graphviz-install-2.49.1-win64.exe\n",
    "    \n",
    "    - Install it.  Choose `Add Graphiz to the system PATH for all users.`\n",
    "    \n",
    "    - Follow this video to update the system path\n",
    "        https://bryant.hosted.panopto.com/Panopto/Pages/Viewer.aspx?id=b3451287-9b70-48f3-97cc-adb800374ee5    \n",
    "\n",
    "- Plot the tree above.\n",
    "- Export the notebook for submission: File -> Export Notebook As -> Export Notebook to html. Then submit it to Canvas (Extra Credit 2) for extra credits"
   ]
  },
  {
   "cell_type": "code",
   "execution_count": null,
   "metadata": {},
   "outputs": [],
   "source": []
  }
 ],
 "metadata": {
  "kernelspec": {
   "display_name": "Python 3",
   "language": "python",
   "name": "python3"
  },
  "language_info": {
   "codemirror_mode": {
    "name": "ipython",
    "version": 3
   },
   "file_extension": ".py",
   "mimetype": "text/x-python",
   "name": "python",
   "nbconvert_exporter": "python",
   "pygments_lexer": "ipython3",
   "version": "3.8.5"
  }
 },
 "nbformat": 4,
 "nbformat_minor": 4
}
