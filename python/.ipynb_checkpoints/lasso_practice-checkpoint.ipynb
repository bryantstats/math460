{
 "cells": [
  {
   "cell_type": "markdown",
   "metadata": {},
   "source": [
    "# LASSO Practice\n",
    "\n",
    "1. In SAS Miner, compare the performances of LASSO and logistic regression on the Breast Cancer dataset. ([link](https://bryantstats.github.io/math460/breast_cancer.csv)).  In logistic regression, which variable have the most effect on prediction.  In LASSO model, which variables no longer have effect on prediction (zero coefficient). \n",
    "\n",
    "2. Do the practice section in the following notebook: https://bryantstats.github.io/math460/python/lasso_classification_fa21.html"
   ]
  }
 ],
 "metadata": {
  "kernelspec": {
   "display_name": "Python 3 (ipykernel)",
   "language": "python",
   "name": "python3"
  },
  "language_info": {
   "codemirror_mode": {
    "name": "ipython",
    "version": 3
   },
   "file_extension": ".py",
   "mimetype": "text/x-python",
   "name": "python",
   "nbconvert_exporter": "python",
   "pygments_lexer": "ipython3",
   "version": "3.9.12"
  }
 },
 "nbformat": 4,
 "nbformat_minor": 4
}
