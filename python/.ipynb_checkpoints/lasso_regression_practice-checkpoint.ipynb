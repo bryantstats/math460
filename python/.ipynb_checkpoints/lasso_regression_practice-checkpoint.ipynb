{
 "cells": [
  {
   "cell_type": "markdown",
   "metadata": {
    "tags": []
   },
   "source": [
    "# Linear Regression vs. LASSO\n",
    "\n",
    "This notebook demonstrate the performances of the ordinal least squares (OLS) linear model and the least absolute shrinkage and selection operator (LASSO) model. Let $\\hat{y}$ be the predicted value, we have the following liner asumption.\n",
    "\n",
    "$$\n",
    "\\hat{y} = w_0 + w_1 x_1 + w_2 x_2\n",
    "$$\n",
    "\n",
    "Although both two models assume the linear relation between the input and output, they minimize different loss functions. \n",
    "\n",
    "Linear Model minimizes\n",
    "$$\n",
    "\\sum \\big(y-\\hat{y} \\big)^2.\n",
    "$$\n",
    "\n",
    "LASSO minimizes\n",
    "$$\n",
    "\\sum \\bigg(y-\\hat{y} \\bigg)^2 +  \\alpha \\bigg( |w_1|+|w_2| \\bigg).\n",
    "$$"
   ]
  },
  {
   "cell_type": "markdown",
   "metadata": {},
   "source": [
    "### LASSO Demonstration"
   ]
  },
  {
   "cell_type": "code",
   "execution_count": 1,
   "metadata": {},
   "outputs": [
    {
     "data": {
      "text/html": [
       "<div>\n",
       "<style scoped>\n",
       "    .dataframe tbody tr th:only-of-type {\n",
       "        vertical-align: middle;\n",
       "    }\n",
       "\n",
       "    .dataframe tbody tr th {\n",
       "        vertical-align: top;\n",
       "    }\n",
       "\n",
       "    .dataframe thead th {\n",
       "        text-align: right;\n",
       "    }\n",
       "</style>\n",
       "<table border=\"1\" class=\"dataframe\">\n",
       "  <thead>\n",
       "    <tr style=\"text-align: right;\">\n",
       "      <th></th>\n",
       "      <th>Variable</th>\n",
       "      <th>Linear Model</th>\n",
       "      <th>LASSO</th>\n",
       "    </tr>\n",
       "  </thead>\n",
       "  <tbody>\n",
       "    <tr>\n",
       "      <th>0</th>\n",
       "      <td>Fare</td>\n",
       "      <td>0.047</td>\n",
       "      <td>0.047</td>\n",
       "    </tr>\n",
       "    <tr>\n",
       "      <th>1</th>\n",
       "      <td>SibSp</td>\n",
       "      <td>-4.356</td>\n",
       "      <td>-4.356</td>\n",
       "    </tr>\n",
       "    <tr>\n",
       "      <th>2</th>\n",
       "      <td>Parch</td>\n",
       "      <td>-2.395</td>\n",
       "      <td>-2.395</td>\n",
       "    </tr>\n",
       "  </tbody>\n",
       "</table>\n",
       "</div>"
      ],
      "text/plain": [
       "  Variable  Linear Model  LASSO\n",
       "0     Fare         0.047  0.047\n",
       "1    SibSp        -4.356 -4.356\n",
       "2    Parch        -2.395 -2.395"
      ]
     },
     "execution_count": 1,
     "metadata": {},
     "output_type": "execute_result"
    }
   ],
   "source": [
    "alpha = 0\n",
    "\n",
    "import matplotlib.pyplot as plt\n",
    "import numpy as np \n",
    "import pandas as pd\n",
    "from sklearn import linear_model\n",
    "from sklearn.model_selection import train_test_split\n",
    "from sklearn.linear_model import LinearRegression\n",
    "import warnings\n",
    "warnings.filterwarnings('ignore')\n",
    "from sklearn.metrics import r2_score\n",
    "\n",
    "import pandas as pd\n",
    "import numpy as np\n",
    "np.random.seed(12356)\n",
    "df = pd.read_csv('titanic.csv')\n",
    "\n",
    "df = df[df['Age'].notna()]\n",
    "\n",
    "# Assign input variables\n",
    "X = df.loc[:,['Fare','SibSp','Parch']]\n",
    "\n",
    "# Assign target variable\n",
    "y = df['Age']\n",
    "\n",
    "X = pd.get_dummies(X)\n",
    "from sklearn.model_selection import train_test_split\n",
    "\n",
    "x_train,x_test,y_train,y_test=train_test_split(X,y,test_size=0.3)\n",
    "\n",
    "model = LinearRegression()\n",
    "model.fit(x_train, y_train)\n",
    "\n",
    "coef1 = pd.DataFrame({'Variable':x_train.columns, \n",
    "                     'Coef':model.coef_,\n",
    "                      'Model': 'Linear',\n",
    "                      'Data': 'Original'\n",
    "                    })\n",
    "\n",
    "lm_org = r2_score(y_test, model.predict(x_test))\n",
    "model = linear_model.Lasso(alpha=alpha)\n",
    "model.fit(x_train, y_train)\n",
    "\n",
    "coef2 = pd.DataFrame({'Variable':x_train.columns, \n",
    "                     'Coef':model.coef_,\n",
    "                      'Model':'LASSO',\n",
    "                      'Data': 'Original'\n",
    "                    })\n",
    "\n",
    "lasso_org = r2_score(y_test, model.predict(x_test))\n",
    "coef = pd.concat([coef1, coef2], ignore_index=True, axis=1)\n",
    "coef = coef.drop([2, 3, 4, 6, 7], axis=1)\n",
    "coef.columns = ['Variable','Linear Model', 'LASSO']\n",
    "coef.round(3)"
   ]
  },
  {
   "cell_type": "markdown",
   "metadata": {},
   "source": [
    "### 1. Predicting Age in Titanic\n",
    "\n",
    "We predict housing prices in Boston using the linear model and LASSO. "
   ]
  },
  {
   "cell_type": "code",
   "execution_count": 2,
   "metadata": {},
   "outputs": [],
   "source": [
    "import pandas as pd\n",
    "import numpy as np\n",
    "from sklearn import linear_model\n",
    "from sklearn.model_selection import train_test_split\n",
    "from sklearn.linear_model import LinearRegression\n",
    "import warnings\n",
    "warnings.filterwarnings('ignore')\n",
    "from sklearn.metrics import r2_score\n",
    "\n",
    "np.random.seed(12356)\n",
    "df = pd.read_csv('titanic.csv')\n",
    "\n",
    "df = df[df['Age'].notna()]\n",
    "\n",
    "df = df.dropna()\n",
    "\n",
    "# Assign input variables\n",
    "X = df.loc[:,['Fare','SibSp','Parch']]\n",
    "\n",
    "# Assign target variable\n",
    "y = df['Age']"
   ]
  },
  {
   "cell_type": "code",
   "execution_count": 3,
   "metadata": {},
   "outputs": [],
   "source": [
    "# Standardize data\n",
    "import pandas as pd\n",
    "from sklearn.preprocessing import StandardScaler\n",
    "  \n",
    "# define standard scaler\n",
    "scaler = StandardScaler()\n",
    "  \n",
    "# transform data\n",
    "col_names = X.columns\n",
    "X = scaler.fit_transform(X)\n",
    "X = pd.DataFrame(X)\n",
    "X.columns = col_names"
   ]
  },
  {
   "cell_type": "code",
   "execution_count": 4,
   "metadata": {},
   "outputs": [],
   "source": [
    "from sklearn.model_selection import train_test_split\n",
    "\n",
    "x_train,x_test,y_train,y_test=train_test_split(X,y,test_size=0.3)"
   ]
  },
  {
   "cell_type": "markdown",
   "metadata": {},
   "source": [
    "#### Linear Regression"
   ]
  },
  {
   "cell_type": "code",
   "execution_count": 5,
   "metadata": {},
   "outputs": [
    {
     "name": "stdout",
     "output_type": "stream",
     "text": [
      "R2 of Linear Model: -0.17259310776963477\n"
     ]
    }
   ],
   "source": [
    "model1 = LinearRegression()\n",
    "model1.fit(x_train, y_train)\n",
    "lm_org = r2_score(y_test, model1.predict(x_test))\n",
    "print('R2 of Linear Model:',lm_org)"
   ]
  },
  {
   "cell_type": "markdown",
   "metadata": {},
   "source": [
    "#### LASSO"
   ]
  },
  {
   "cell_type": "code",
   "execution_count": 6,
   "metadata": {},
   "outputs": [
    {
     "name": "stdout",
     "output_type": "stream",
     "text": [
      "R2 of Linear Model: -0.16678655419990585\n"
     ]
    }
   ],
   "source": [
    "alpha = .1\n",
    "\n",
    "model2 = linear_model.Lasso(alpha=alpha)\n",
    "model2.fit(x_train, y_train)\n",
    "lasso_org = r2_score(y_test, model2.predict(x_test))\n",
    "print('R2 of Linear Model:',lasso_org)"
   ]
  },
  {
   "cell_type": "markdown",
   "metadata": {},
   "source": [
    "#### Compare coefficients"
   ]
  },
  {
   "cell_type": "code",
   "execution_count": 7,
   "metadata": {},
   "outputs": [
    {
     "data": {
      "text/html": [
       "<div>\n",
       "<style scoped>\n",
       "    .dataframe tbody tr th:only-of-type {\n",
       "        vertical-align: middle;\n",
       "    }\n",
       "\n",
       "    .dataframe tbody tr th {\n",
       "        vertical-align: top;\n",
       "    }\n",
       "\n",
       "    .dataframe thead th {\n",
       "        text-align: right;\n",
       "    }\n",
       "</style>\n",
       "<table border=\"1\" class=\"dataframe\">\n",
       "  <thead>\n",
       "    <tr style=\"text-align: right;\">\n",
       "      <th></th>\n",
       "      <th>Variable</th>\n",
       "      <th>Linear Model</th>\n",
       "      <th>LASSO</th>\n",
       "    </tr>\n",
       "  </thead>\n",
       "  <tbody>\n",
       "    <tr>\n",
       "      <th>0</th>\n",
       "      <td>Fare</td>\n",
       "      <td>0.261</td>\n",
       "      <td>0.075</td>\n",
       "    </tr>\n",
       "    <tr>\n",
       "      <th>1</th>\n",
       "      <td>SibSp</td>\n",
       "      <td>-1.445</td>\n",
       "      <td>-1.310</td>\n",
       "    </tr>\n",
       "    <tr>\n",
       "      <th>2</th>\n",
       "      <td>Parch</td>\n",
       "      <td>-6.153</td>\n",
       "      <td>-6.002</td>\n",
       "    </tr>\n",
       "  </tbody>\n",
       "</table>\n",
       "</div>"
      ],
      "text/plain": [
       "  Variable  Linear Model  LASSO\n",
       "0     Fare         0.261  0.075\n",
       "1    SibSp        -1.445 -1.310\n",
       "2    Parch        -6.153 -6.002"
      ]
     },
     "execution_count": 7,
     "metadata": {},
     "output_type": "execute_result"
    }
   ],
   "source": [
    "coef1 = pd.DataFrame({'Variable':x_train.columns, \n",
    "                     'Coef':model1.coef_,\n",
    "                      'Model': 'Linear',\n",
    "                      'Data': 'Original'\n",
    "                    })\n",
    "\n",
    "coef2 = pd.DataFrame({'Variable':x_train.columns, \n",
    "                     'Coef':model2.coef_,\n",
    "                      'Model':'LASSO',\n",
    "                      'Data': 'Original'\n",
    "                    })\n",
    "\n",
    "coef = pd.concat([coef1, coef2], ignore_index=True, axis=1)\n",
    "coef = coef.drop([2, 3, 4, 6, 7], axis=1)\n",
    "coef.columns = ['Variable','Linear Model', 'LASSO']\n",
    "coef.round(3)"
   ]
  },
  {
   "cell_type": "markdown",
   "metadata": {},
   "source": [
    "### 2.  Practice\n",
    "\n",
    "Download an NBA dataset at this [link](https://bryantstats.github.io/math460/data/nba_salary2.csv). Use the `Salary` variable as the target. Don't use the following variables as input: `Player`,`Salary`,`NBA_DraftNumber`,`NBA_Country`,`Tm` \n",
    "\n",
    " - Split the data 80:20 for training and testing\n",
    " - Calculate the testing Rsquared of linear model and show the coefficients of the models\n",
    " - Calculate the testing Rsquared of LASSO model with alpha =  1.  Show the coefficients of the LASSO.  Do you observe any variables no longer has effect in the LASSO model?\n",
    " - Change the value of alpha in the LASSO and observe the Rsquared of LASSO.  What value of alpha would make all coeeficients zeros. "
   ]
  },
  {
   "cell_type": "code",
   "execution_count": null,
   "metadata": {},
   "outputs": [],
   "source": []
  }
 ],
 "metadata": {
  "kernelspec": {
   "display_name": "Python 3 (ipykernel)",
   "language": "python",
   "name": "python3"
  },
  "language_info": {
   "codemirror_mode": {
    "name": "ipython",
    "version": 3
   },
   "file_extension": ".py",
   "mimetype": "text/x-python",
   "name": "python",
   "nbconvert_exporter": "python",
   "pygments_lexer": "ipython3",
   "version": "3.11.5"
  }
 },
 "nbformat": 4,
 "nbformat_minor": 4
}
