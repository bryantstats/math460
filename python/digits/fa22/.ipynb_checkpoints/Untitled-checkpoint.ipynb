{
 "cells": [
  {
   "cell_type": "code",
   "execution_count": 1,
   "id": "70ff93aa-7a88-4285-b10c-be9e64f84590",
   "metadata": {},
   "outputs": [],
   "source": [
    "import numpy as np\n",
    "from sklearn.ensemble import RandomForestClassifier\n",
    "import matplotlib.pyplot as plt\n",
    "import seaborn as sns; sns.set()\n",
    "import matplotlib\n",
    " \n",
    "# import the necessary packages\n",
    "from sklearn.model_selection import train_test_split\n",
    "import os\n",
    "import tkinter\n",
    "from os import listdir\n",
    "from PIL import Image\n"
   ]
  },
  {
   "cell_type": "code",
   "execution_count": 19,
   "id": "b8488ce0-c8ab-4161-80f7-698298ea280a",
   "metadata": {},
   "outputs": [],
   "source": [
    "img = Image.open('test1.png')"
   ]
  },
  {
   "cell_type": "code",
   "execution_count": 20,
   "id": "12e098ef-943c-4428-88cc-1286d9364e21",
   "metadata": {},
   "outputs": [],
   "source": [
    "image = img.convert('RGB')"
   ]
  },
  {
   "cell_type": "code",
   "execution_count": 22,
   "id": "bda8b062-868d-4882-99d3-0cc94d672112",
   "metadata": {},
   "outputs": [],
   "source": [
    "image = image.resize((10, 10))"
   ]
  },
  {
   "cell_type": "code",
   "execution_count": 23,
   "id": "f4ba1cef-22a7-46dd-99af-8fe8d002a03d",
   "metadata": {},
   "outputs": [],
   "source": [
    "image = np.array(image)"
   ]
  },
  {
   "cell_type": "code",
   "execution_count": 24,
   "id": "45feed83-d7e8-46b8-b618-0908ec46f3b5",
   "metadata": {},
   "outputs": [],
   "source": [
    "image = image.ravel().reshape(1,-1)"
   ]
  },
  {
   "cell_type": "code",
   "execution_count": null,
   "id": "b8fe498c-e47a-4a7c-8054-8dcc32005374",
   "metadata": {},
   "outputs": [],
   "source": []
  }
 ],
 "metadata": {
  "kernelspec": {
   "display_name": "Python 3",
   "language": "python",
   "name": "python3"
  },
  "language_info": {
   "codemirror_mode": {
    "name": "ipython",
    "version": 3
   },
   "file_extension": ".py",
   "mimetype": "text/x-python",
   "name": "python",
   "nbconvert_exporter": "python",
   "pygments_lexer": "ipython3",
   "version": "3.9.12"
  }
 },
 "nbformat": 4,
 "nbformat_minor": 5
}
