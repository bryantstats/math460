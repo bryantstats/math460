{
 "cells": [
  {
   "cell_type": "markdown",
   "metadata": {},
   "source": [
    "# Handwriting Recognition\n",
    "\n",
    "**Guideline**: This notebook shows how to train random forest to recognize hand-written numbers 1, 2 and 3.  To run the notebook, put the follows in the same path (folder)\n",
    "\n",
    "- Folder `data` containing three subfolders: folder `1` (containing images of number 1), folder `2` ((containing images of number 2)) and folder `3` ((containing images of number 3))\n",
    "- This notebook\n",
    "- The test images `test.png` used to test the model performance. "
   ]
  },
  {
   "cell_type": "markdown",
   "metadata": {},
   "source": [
    "**Packages Requirements**: You will need to install the `imageio`. Run this following code to install.  Notice:  you only need to do this one time. "
   ]
  },
  {
   "cell_type": "code",
   "execution_count": 1,
   "metadata": {},
   "outputs": [
    {
     "name": "stdout",
     "output_type": "stream",
     "text": [
      "Requirement already satisfied: imageio in c:\\users\\snguyen4\\anaconda3\\lib\\site-packages (2.6.1)\n",
      "Requirement already satisfied: pillow in c:\\users\\snguyen4\\anaconda3\\lib\\site-packages (from imageio) (7.0.0)\n",
      "Requirement already satisfied: numpy in c:\\users\\snguyen4\\anaconda3\\lib\\site-packages (from imageio) (1.18.1)\n",
      "Note: you may need to restart the kernel to use updated packages.\n"
     ]
    }
   ],
   "source": [
    "pip install imageio"
   ]
  },
  {
   "cell_type": "markdown",
   "metadata": {},
   "source": [
    "## Import some packages"
   ]
  },
  {
   "cell_type": "code",
   "execution_count": 2,
   "metadata": {},
   "outputs": [],
   "source": [
    "import imageio\n",
    "from skimage.transform import resize\n",
    "import numpy as np\n",
    "from sklearn.ensemble import RandomForestClassifier\n",
    "import matplotlib.pyplot as plt\n",
    "import os"
   ]
  },
  {
   "cell_type": "code",
   "execution_count": 3,
   "metadata": {},
   "outputs": [],
   "source": [
    "lab = os.listdir('data')"
   ]
  },
  {
   "cell_type": "markdown",
   "metadata": {},
   "source": [
    "### Set the reduced resolution for images\n",
    "\n",
    "This is the resolution of images used to train the model. If the dim = 75, it means each image will be convert to 32x32 pixel image. Since this is greyscale images, a 75x75 image means each row of the data will have 75*75 = 5625 columns. \n",
    "\n",
    "- Increase the resolution (set dim to a larger number) will increase trainingperformance (which could also lead to overfiting). \n",
    "- Increase the resolution also mean the computation time increases. "
   ]
  },
  {
   "cell_type": "code",
   "execution_count": 4,
   "metadata": {},
   "outputs": [],
   "source": [
    "dim = 5"
   ]
  },
  {
   "cell_type": "markdown",
   "metadata": {},
   "source": [
    "# Import training data\n",
    "\n",
    "The two below code cells import all the pictures of the digits and include it to the `Xtrain` and `ytrain`"
   ]
  },
  {
   "cell_type": "code",
   "execution_count": 5,
   "metadata": {},
   "outputs": [],
   "source": [
    "Xtrain = np.empty((0,dim*dim), float)\n",
    "ytrain = np.empty((0,), int)\n",
    "\n",
    "for i in range(0, len(lab)): \n",
    "    path = 'data\\\\' + lab[i]\n",
    "    names = [f for f in os.listdir(path)]\n",
    "    for n in names[0:]:\n",
    "        im = imageio.imread(path+'\\\\'+n)\n",
    "        im1 = resize(im, (dim, dim))\n",
    "        im1 = im1[:,:,0]\n",
    "        im1 = im1.reshape(-1).reshape(1, -1)\n",
    "        Xtrain = np.append(Xtrain, im1,0)\n",
    "        ytrain = np.append(ytrain, i)  "
   ]
  },
  {
   "cell_type": "markdown",
   "metadata": {},
   "source": [
    "## Training a Random Forest\n",
    "\n",
    "Notice `n_estimators` is the number of trees in the forest. "
   ]
  },
  {
   "cell_type": "code",
   "execution_count": 6,
   "metadata": {},
   "outputs": [
    {
     "data": {
      "text/plain": [
       "RandomForestClassifier(bootstrap=True, ccp_alpha=0.0, class_weight=None,\n",
       "                       criterion='gini', max_depth=None, max_features='auto',\n",
       "                       max_leaf_nodes=None, max_samples=None,\n",
       "                       min_impurity_decrease=0.0, min_impurity_split=None,\n",
       "                       min_samples_leaf=1, min_samples_split=2,\n",
       "                       min_weight_fraction_leaf=0.0, n_estimators=100,\n",
       "                       n_jobs=None, oob_score=False, random_state=None,\n",
       "                       verbose=0, warm_start=False)"
      ]
     },
     "execution_count": 6,
     "metadata": {},
     "output_type": "execute_result"
    }
   ],
   "source": [
    "model = RandomForestClassifier(n_estimators=100) # this random forest has 100 trees. \n",
    "model.fit(Xtrain, ytrain)"
   ]
  },
  {
   "cell_type": "markdown",
   "metadata": {},
   "source": [
    "## Training Accuracy"
   ]
  },
  {
   "cell_type": "code",
   "execution_count": 7,
   "metadata": {},
   "outputs": [
    {
     "name": "stdout",
     "output_type": "stream",
     "text": [
      "===============\n",
      "Confusion Matrix:\n",
      "[[23  0  0]\n",
      " [ 0 32  0]\n",
      " [ 0  0 24]]\n",
      "===============\n",
      "Training Accuracy:\n",
      "1.0\n",
      "===============\n"
     ]
    }
   ],
   "source": [
    "ypred_train=model.predict(Xtrain)\n",
    "from sklearn.metrics import confusion_matrix\n",
    "mat = confusion_matrix(ypred_train, ytrain)\n",
    "print('===============')\n",
    "print('Confusion Matrix:')\n",
    "print(mat)\n",
    "print('===============')\n",
    "print('Training Accuracy:')\n",
    "print(mat.diagonal().sum()/mat.sum())\n",
    "print('===============')"
   ]
  },
  {
   "cell_type": "markdown",
   "metadata": {},
   "source": [
    "## Testing the model on a new image\n",
    "\n",
    "Create a test image named `test.png` and save it to the same folder. "
   ]
  },
  {
   "cell_type": "code",
   "execution_count": 8,
   "metadata": {},
   "outputs": [
    {
     "name": "stdout",
     "output_type": "stream",
     "text": [
      "Input Image\n"
     ]
    },
    {
     "data": {
      "image/png": "[encoded data removed]",
      "text/plain": [
       "<Figure size 432x288 with 1 Axes>"
      ]
     },
     "metadata": {
      "needs_background": "light"
     },
     "output_type": "display_data"
    },
    {
     "name": "stdout",
     "output_type": "stream",
     "text": [
      "Reduced Input Image\n"
     ]
    },
    {
     "data": {
      "image/png": "[encoded data removed]",
      "text/plain": [
       "<Figure size 432x288 with 1 Axes>"
      ]
     },
     "metadata": {
      "needs_background": "light"
     },
     "output_type": "display_data"
    },
    {
     "name": "stdout",
     "output_type": "stream",
     "text": [
      "\n",
      "================================\n",
      "The model predicts: 1\n"
     ]
    }
   ],
   "source": [
    "im = imageio.imread('test.png')\n",
    "print('Input Image')\n",
    "plt.imshow(im)\n",
    "plt.show()\n",
    "\n",
    "from skimage.transform import resize\n",
    "im1 = resize(im, (dim, dim))\n",
    "print('Reduced Input Image')\n",
    "plt.imshow(im1)\n",
    "plt.show()\n",
    "\n",
    "\n",
    "im1 = im1[:,:,0]\n",
    "im1 = im1.reshape(-1).reshape(1, -1)\n",
    "\n",
    "\n",
    "print('')\n",
    "print('================================')\n",
    "print(\"The model predicts:\", lab[model.predict(im1)[0]])"
   ]
  },
  {
   "cell_type": "markdown",
   "metadata": {},
   "source": [
    "Notice: If the prediction is wrong, include the test image to the training data and retrain the model. Retest the model with a similar image."
   ]
  },
  {
   "cell_type": "code",
   "execution_count": 9,
   "metadata": {},
   "outputs": [
    {
     "data": {
      "text/plain": [
       "array([[0.98823529, 0.9345098 , 0.97254902, 0.99215686, 0.99607843,\n",
       "        0.96470588, 0.78862745, 0.86647059, 0.98823529, 0.99215686,\n",
       "        0.98823529, 0.94156863, 0.80392157, 0.90411765, 0.97254902,\n",
       "        0.99215686, 0.94509804, 0.82352941, 0.86666667, 0.96862745,\n",
       "        0.99215686, 0.98431373, 0.97647059, 0.98968627, 0.99215686]])"
      ]
     },
     "execution_count": 9,
     "metadata": {},
     "output_type": "execute_result"
    }
   ],
   "source": [
    "im1"
   ]
  },
  {
   "cell_type": "code",
   "execution_count": 12,
   "metadata": {},
   "outputs": [
    {
     "name": "stdout",
     "output_type": "stream",
     "text": [
      "Input Image\n"
     ]
    },
    {
     "data": {
      "image/png": "[encoded data removed]",
      "text/plain": [
       "<Figure size 432x288 with 1 Axes>"
      ]
     },
     "metadata": {
      "needs_background": "light"
     },
     "output_type": "display_data"
    },
    {
     "name": "stdout",
     "output_type": "stream",
     "text": [
      "Reduced Input Image\n"
     ]
    },
    {
     "data": {
      "image/png": "[encoded data removed]",
      "text/plain": [
       "<Figure size 432x288 with 1 Axes>"
      ]
     },
     "metadata": {
      "needs_background": "light"
     },
     "output_type": "display_data"
    }
   ],
   "source": [
    "im = imageio.imread('test.png')\n",
    "print('Input Image')\n",
    "plt.imshow(im)\n",
    "plt.show()\n",
    "\n",
    "from skimage.transform import resize\n",
    "im1 = resize(im, (2, 2))\n",
    "print('Reduced Input Image')\n",
    "plt.imshow(im1)\n",
    "plt.show()\n",
    "\n",
    "\n",
    "im1 = im1[:,:,0]\n",
    "im1 = im1.reshape(-1).reshape(1, -1)"
   ]
  },
  {
   "cell_type": "code",
   "execution_count": 13,
   "metadata": {},
   "outputs": [
    {
     "data": {
      "text/plain": [
       "array([[0.92941176, 0.95686275, 0.95294118, 0.94117647]])"
      ]
     },
     "execution_count": 13,
     "metadata": {},
     "output_type": "execute_result"
    }
   ],
   "source": [
    "im1"
   ]
  },
  {
   "cell_type": "code",
   "execution_count": null,
   "metadata": {},
   "outputs": [],
   "source": []
  }
 ],
 "metadata": {
  "kernelspec": {
   "display_name": "Python 3",
   "language": "python",
   "name": "python3"
  },
  "language_info": {
   "codemirror_mode": {
    "name": "ipython",
    "version": 3
   },
   "file_extension": ".py",
   "mimetype": "text/x-python",
   "name": "python",
   "nbconvert_exporter": "python",
   "pygments_lexer": "ipython3",
   "version": "3.7.6"
  }
 },
 "nbformat": 4,
 "nbformat_minor": 4
}
