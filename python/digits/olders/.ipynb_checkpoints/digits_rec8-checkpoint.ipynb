{
 "cells": [
  {
   "cell_type": "markdown",
   "metadata": {},
   "source": [
    "# Handwriting Recognition"
   ]
  },
  {
   "cell_type": "markdown",
   "metadata": {},
   "source": [
    "**Packages Requirements**: You will need to install the `imageio`. Do the follow to install the package:\n",
    "\n",
    "- Open `Anaconda Prompt`\n",
    "- Type in `pip install imageio`\n"
   ]
  },
  {
   "cell_type": "markdown",
   "metadata": {},
   "source": [
    "## Import some packages"
   ]
  },
  {
   "cell_type": "code",
   "execution_count": 1,
   "metadata": {},
   "outputs": [],
   "source": [
    "import imageio\n",
    "from skimage.transform import resize\n",
    "import numpy as np\n",
    "from sklearn.ensemble import RandomForestClassifier\n",
    "import matplotlib.pyplot as plt\n",
    "import os"
   ]
  },
  {
   "cell_type": "markdown",
   "metadata": {},
   "source": [
    "### Set the Label\n",
    "\n",
    "What do you want to recognize? Change the `lab` variable to get the desired label. "
   ]
  },
  {
   "cell_type": "code",
   "execution_count": 2,
   "metadata": {},
   "outputs": [],
   "source": [
    "lab = os.listdir('data')"
   ]
  },
  {
   "cell_type": "markdown",
   "metadata": {},
   "source": [
    "### Set the reduced resolution for images\n",
    "\n",
    "This is the resolution of images used to train the model. If the dim = 75, it means each image will be convert to 32x32 pixel image. Since this is greyscale images, a 75x75 image means each row of the data will have 75*75 = 5625 columns. \n",
    "\n",
    "- Increase the resolution (set dim to a larger number) will increase trainingperformance (which could also lead to overfiting). \n",
    "- Increase the resolution also mean the computation time increases. "
   ]
  },
  {
   "cell_type": "code",
   "execution_count": 3,
   "metadata": {},
   "outputs": [],
   "source": [
    "dim = 5"
   ]
  },
  {
   "cell_type": "markdown",
   "metadata": {},
   "source": [
    "# Import training in data\n",
    "\n",
    "The two below code cells import all the pictures of the digits and include it to the `Xtrain` and `ytrain`"
   ]
  },
  {
   "cell_type": "markdown",
   "metadata": {},
   "source": [
    "### Set the path to the folders that containing the images folder\n",
    "\n",
    "This is the folder that contains three images folders and the test image (`test.png`)"
   ]
  },
  {
   "cell_type": "markdown",
   "metadata": {},
   "source": [
    "### Import first category image"
   ]
  },
  {
   "cell_type": "code",
   "execution_count": 13,
   "metadata": {},
   "outputs": [],
   "source": [
    "path = 'data\\\\' + lab[0] \n",
    "names = [f for f in os.listdir(path)]\n",
    "\n",
    "im = imageio.imread(path+'\\\\'+names[0])\n",
    "im1 = resize(im, (dim, dim))\n",
    "im1 = im1[:,:,0]\n",
    "im1 = im1.reshape(-1).reshape(1, -1)\n",
    "Xtrain = im1\n",
    "\n",
    "for n in names[1:]:\n",
    "    im = imageio.imread(path+'\\\\'+n)\n",
    "    im1 = resize(im, (dim, dim))\n",
    "    im1 = im1[:,:,0]\n",
    "    im1 = im1.reshape(-1).reshape(1, -1)\n",
    "    Xtrain = np.append(Xtrain, im1,0)\n",
    "\n",
    "ytrain=np.repeat(lab[0],len(names))  "
   ]
  },
  {
   "cell_type": "markdown",
   "metadata": {},
   "source": [
    "### Import second category image"
   ]
  },
  {
   "cell_type": "code",
   "execution_count": 6,
   "metadata": {},
   "outputs": [],
   "source": [
    "path = 'data\\\\' + lab[1] \n",
    "\n",
    "import os\n",
    "names = [f for f in os.listdir(path)]\n",
    "\n",
    "for n in names:\n",
    "    im = imageio.imread(path+'\\\\'+n)\n",
    "    im1 = resize(im, (dim, dim))\n",
    "    im1 = im1[:,:,0]\n",
    "    im1 = im1.reshape(-1).reshape(1, -1)\n",
    "    Xtrain = np.append(Xtrain, im1,0)\n",
    "\n",
    "ytrain=np.append(ytrain, np.repeat(lab[1],len(names)))"
   ]
  },
  {
   "cell_type": "markdown",
   "metadata": {},
   "source": [
    "### Import third category image"
   ]
  },
  {
   "cell_type": "code",
   "execution_count": 14,
   "metadata": {},
   "outputs": [],
   "source": [
    "path = 'data\\\\' + lab[2]\n",
    "import os\n",
    "names = [f for f in os.listdir(path)]\n",
    "\n",
    "for n in names:\n",
    "    im = imageio.imread(path+'\\\\'+n)\n",
    "    im1 = resize(im, (dim, dim))\n",
    "    im1 = im1[:,:,0]\n",
    "    im1 = im1.reshape(-1).reshape(1, -1)\n",
    "    Xtrain = np.append(Xtrain, im1,0)\n",
    "\n",
    "ytrain=np.append(ytrain, np.repeat(lab[2],len(names)))"
   ]
  },
  {
   "cell_type": "markdown",
   "metadata": {},
   "source": [
    "## Training a Random Forest with the loaded data\n",
    "\n",
    "Notice `n_estimators` is the number of trees in the forest. "
   ]
  },
  {
   "cell_type": "code",
   "execution_count": 15,
   "metadata": {},
   "outputs": [
    {
     "data": {
      "text/plain": [
       "RandomForestClassifier()"
      ]
     },
     "execution_count": 15,
     "metadata": {},
     "output_type": "execute_result"
    }
   ],
   "source": [
    "model = RandomForestClassifier(n_estimators=100) # this random forest has 100 trees. \n",
    "model.fit(Xtrain, ytrain)"
   ]
  },
  {
   "cell_type": "markdown",
   "metadata": {},
   "source": [
    "## Training Accuracy"
   ]
  },
  {
   "cell_type": "code",
   "execution_count": 16,
   "metadata": {},
   "outputs": [
    {
     "name": "stdout",
     "output_type": "stream",
     "text": [
      "===============\n",
      "Confusion Matrix:\n",
      "[[20  0]\n",
      " [ 0 25]]\n",
      "===============\n",
      "Training Accuracy:\n",
      "1.0\n",
      "===============\n"
     ]
    }
   ],
   "source": [
    "ypred_train=model.predict(Xtrain)\n",
    "from sklearn.metrics import confusion_matrix\n",
    "mat = confusion_matrix(ypred_train, ytrain)\n",
    "print('===============')\n",
    "print('Confusion Matrix:')\n",
    "print(mat)\n",
    "print('===============')\n",
    "print('Training Accuracy:')\n",
    "print(mat.diagonal().sum()/mat.sum())\n",
    "print('===============')"
   ]
  },
  {
   "cell_type": "markdown",
   "metadata": {},
   "source": [
    "## Testing the model on a new image\n",
    "\n",
    "Create a test image named `test.png` and save it to the same folder. "
   ]
  },
  {
   "cell_type": "code",
   "execution_count": 19,
   "metadata": {},
   "outputs": [
    {
     "name": "stdout",
     "output_type": "stream",
     "text": [
      "Input Image\n"
     ]
    },
    {
     "data": {
      "image/png": "[encoded data removed]",
      "text/plain": [
       "<Figure size 432x288 with 1 Axes>"
      ]
     },
     "metadata": {
      "needs_background": "light"
     },
     "output_type": "display_data"
    },
    {
     "name": "stdout",
     "output_type": "stream",
     "text": [
      "Reduced Input Image\n"
     ]
    },
    {
     "data": {
      "image/png": "[encoded data removed]",
      "text/plain": [
       "<Figure size 432x288 with 1 Axes>"
      ]
     },
     "metadata": {
      "needs_background": "light"
     },
     "output_type": "display_data"
    },
    {
     "name": "stdout",
     "output_type": "stream",
     "text": [
      "\n",
      "================================\n",
      "The model predicts: ['1']\n"
     ]
    }
   ],
   "source": [
    "im = imageio.imread('test.png')\n",
    "print('Input Image')\n",
    "plt.imshow(im)\n",
    "plt.show()\n",
    "\n",
    "from skimage.transform import resize\n",
    "im1 = resize(im, (dim, dim))\n",
    "print('Reduced Input Image')\n",
    "plt.imshow(im1)\n",
    "plt.show()\n",
    "\n",
    "\n",
    "im1 = im1[:,:,0]\n",
    "im1 = im1.reshape(-1).reshape(1, -1)\n",
    "\n",
    "\n",
    "print('')\n",
    "print('================================')\n",
    "print(\"The model predicts:\", model.predict(im1))"
   ]
  },
  {
   "cell_type": "markdown",
   "metadata": {},
   "source": [
    "Notice: If the prediction is wrong, include the test image to the training data and retrain the model. Retest the model with a similar image."
   ]
  },
  {
   "cell_type": "code",
   "execution_count": null,
   "metadata": {},
   "outputs": [],
   "source": []
  }
 ],
 "metadata": {
  "kernelspec": {
   "display_name": "Python 3",
   "language": "python",
   "name": "python3"
  },
  "language_info": {
   "codemirror_mode": {
    "name": "ipython",
    "version": 3
   },
   "file_extension": ".py",
   "mimetype": "text/x-python",
   "name": "python",
   "nbconvert_exporter": "python",
   "pygments_lexer": "ipython3",
   "version": "3.8.5"
  }
 },
 "nbformat": 4,
 "nbformat_minor": 4
}
