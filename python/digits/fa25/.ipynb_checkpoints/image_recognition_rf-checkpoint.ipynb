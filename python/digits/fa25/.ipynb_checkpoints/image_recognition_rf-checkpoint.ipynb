{
 "cells": [
  {
   "cell_type": "markdown",
   "metadata": {},
   "source": [
    "# Hand Written Recognition with Random Forest\n",
    "\n",
    "This notebook can be downloaded [here.](image_recognition_rf.ipynb)"
   ]
  },
  {
   "cell_type": "markdown",
   "metadata": {},
   "source": [
    "This notebook demonstrate how to use random forest to do hand written recognition.  \n",
    "\n",
    "\n",
    "### Instruction\n",
    "\n",
    "Make the following two folders.  The notebook should be in the same path as these two folders \n",
    "\n",
    "- `train images`: Containing few subfolders.  Each subfolder contains images of a class.  In this example, data has two subfolders: `1` (containing number 1 images) and `2` (containing number 2 images). If your categories are letters `a`, `b` and `c`, you need to name the folders `a` (containg letter `a` images), `b` (containg letter `a` images), and `c` (containg letter `a` images) and so on.\n",
    "\n",
    "- `test images`: Containing only images for testing.  There is NO subfolder within `test images`\n",
    "\n",
    "-  The notebook should be in the same folder as these two above folders. \n"
   ]
  },
  {
   "cell_type": "markdown",
   "metadata": {},
   "source": [
    "## Import some packages"
   ]
  },
  {
   "cell_type": "code",
   "execution_count": 10,
   "metadata": {},
   "outputs": [],
   "source": [
    "import numpy as np\n",
    "from sklearn.ensemble import RandomForestClassifier\n",
    "import matplotlib.pyplot as plt\n",
    "import seaborn as sns; sns.set()\n",
    "import matplotlib\n",
    " \n",
    "# import the necessary packages\n",
    "from sklearn.model_selection import train_test_split\n",
    "import os\n",
    "import tkinter\n",
    "from os import listdir\n",
    "from PIL import Image"
   ]
  },
  {
   "cell_type": "code",
   "execution_count": 11,
   "metadata": {},
   "outputs": [],
   "source": [
    "# Set image resolution\n",
    "dim = 40\n",
    "\n",
    "# Set the forest\n",
    "number_of_trees = 10"
   ]
  },
  {
   "cell_type": "code",
   "execution_count": 12,
   "metadata": {},
   "outputs": [],
   "source": [
    "train_folder = 'train images'\n",
    "test_folder = 'test images'\n",
    "lab = os.listdir(train_folder)"
   ]
  },
  {
   "cell_type": "code",
   "execution_count": 13,
   "metadata": {},
   "outputs": [
    {
     "ename": "PermissionError",
     "evalue": "[Errno 13] Permission denied: 'train images/a/.ipynb_checkpoints'",
     "output_type": "error",
     "traceback": [
      "\u001b[1;31m---------------------------------------------------------------------------\u001b[0m",
      "\u001b[1;31mPermissionError\u001b[0m                           Traceback (most recent call last)",
      "Cell \u001b[1;32mIn[13], line 8\u001b[0m\n\u001b[0;32m      6\u001b[0m names \u001b[38;5;241m=\u001b[39m [f \u001b[38;5;28;01mfor\u001b[39;00m f \u001b[38;5;129;01min\u001b[39;00m os\u001b[38;5;241m.\u001b[39mlistdir(path)]\n\u001b[0;32m      7\u001b[0m \u001b[38;5;28;01mfor\u001b[39;00m n \u001b[38;5;129;01min\u001b[39;00m names[\u001b[38;5;241m0\u001b[39m:]:\n\u001b[1;32m----> 8\u001b[0m     img \u001b[38;5;241m=\u001b[39m Image\u001b[38;5;241m.\u001b[39mopen(path \u001b[38;5;241m+\u001b[39m\u001b[38;5;124m'\u001b[39m\u001b[38;5;124m/\u001b[39m\u001b[38;5;124m'\u001b[39m\u001b[38;5;241m+\u001b[39m n)\n\u001b[0;32m      9\u001b[0m     image \u001b[38;5;241m=\u001b[39m img\u001b[38;5;241m.\u001b[39mconvert(\u001b[38;5;124m'\u001b[39m\u001b[38;5;124mRGB\u001b[39m\u001b[38;5;124m'\u001b[39m)\n\u001b[0;32m     10\u001b[0m     image \u001b[38;5;241m=\u001b[39m image\u001b[38;5;241m.\u001b[39mresize((dim, dim))\n",
      "File \u001b[1;32m~\\AppData\\Local\\anaconda3\\Lib\\site-packages\\PIL\\Image.py:3465\u001b[0m, in \u001b[0;36mopen\u001b[1;34m(fp, mode, formats)\u001b[0m\n\u001b[0;32m   3462\u001b[0m     filename \u001b[38;5;241m=\u001b[39m os\u001b[38;5;241m.\u001b[39mfspath(fp)\n\u001b[0;32m   3464\u001b[0m \u001b[38;5;28;01mif\u001b[39;00m filename:\n\u001b[1;32m-> 3465\u001b[0m     fp \u001b[38;5;241m=\u001b[39m builtins\u001b[38;5;241m.\u001b[39mopen(filename, \u001b[38;5;124m\"\u001b[39m\u001b[38;5;124mrb\u001b[39m\u001b[38;5;124m\"\u001b[39m)\n\u001b[0;32m   3466\u001b[0m     exclusive_fp \u001b[38;5;241m=\u001b[39m \u001b[38;5;28;01mTrue\u001b[39;00m\n\u001b[0;32m   3467\u001b[0m \u001b[38;5;28;01melse\u001b[39;00m:\n",
      "\u001b[1;31mPermissionError\u001b[0m: [Errno 13] Permission denied: 'train images/a/.ipynb_checkpoints'"
     ]
    }
   ],
   "source": [
    "Xtrain = np.empty((0,3*dim*dim), float)\n",
    "ytrain = np.empty((0,), int)\n",
    "\n",
    "for i in range(0, len(lab)): \n",
    "    path = train_folder + '/' + lab[i]\n",
    "    names = [f for f in os.listdir(path)]\n",
    "    for n in names[0:]:\n",
    "        img = Image.open(path +'/'+ n)\n",
    "        image = img.convert('RGB')\n",
    "        image = image.resize((dim, dim))\n",
    "        image = np.array(image)\n",
    "        image = image.ravel().reshape(1,-1)\n",
    "        Xtrain = np.append(Xtrain, image,0)\n",
    "        ytrain = np.append(ytrain, i)  \n"
   ]
  },
  {
   "cell_type": "code",
   "execution_count": null,
   "metadata": {},
   "outputs": [],
   "source": [
    "Xtrain"
   ]
  },
  {
   "cell_type": "code",
   "execution_count": null,
   "metadata": {},
   "outputs": [],
   "source": [
    "ytrain"
   ]
  },
  {
   "cell_type": "markdown",
   "metadata": {},
   "source": [
    "## Training a Random Forest"
   ]
  },
  {
   "cell_type": "code",
   "execution_count": null,
   "metadata": {},
   "outputs": [],
   "source": [
    "from sklearn.ensemble import RandomForestClassifier\n",
    "\n",
    "model = RandomForestClassifier(n_estimators=number_of_trees)\n",
    "model.fit(Xtrain, ytrain)"
   ]
  },
  {
   "cell_type": "markdown",
   "metadata": {},
   "source": [
    "## Accuracy on Training Data"
   ]
  },
  {
   "cell_type": "code",
   "execution_count": null,
   "metadata": {},
   "outputs": [],
   "source": [
    "ypred=model.predict(Xtrain)\n",
    "from sklearn.metrics import confusion_matrix\n",
    "mat = confusion_matrix(ypred, ytrain)\n",
    "mat"
   ]
  },
  {
   "cell_type": "markdown",
   "metadata": {},
   "source": [
    "## Predicting New Images\n",
    "\n",
    "In the next codes, we will use our fitted model to classify new images of dogs and cats.  The model will label as `Dog` or `Cat`. These labeled images is then save in the **predict** folder."
   ]
  },
  {
   "cell_type": "code",
   "execution_count": null,
   "metadata": {},
   "outputs": [],
   "source": [
    "onlyfiles = [f for f in listdir(test_folder)]\n",
    "\n",
    "import matplotlib.pyplot as plt\n",
    "\n",
    "plt.figure(figsize=(10, 10))\n",
    "\n",
    "for i, images in enumerate(onlyfiles):\n",
    "    \n",
    "    ax = plt.subplot(int(1+len(onlyfiles)/3), 3, i + 1)\n",
    "    img = Image.open(test_folder+'/'+images)\n",
    "    image = img.convert('RGB')\n",
    "    image = image.resize((dim, dim))\n",
    "    image_print = image.resize((dim, dim))\n",
    "    image = np.array(image)\n",
    "    image = image.ravel().reshape(1,-1)\n",
    "\n",
    "    predictions = model.predict(image)\n",
    "    \n",
    "    confidence = (100*model.predict_proba(image).max()).round(1)\n",
    "    \n",
    "    plt.imshow(image_print)\n",
    "    plt.title(str(confidence)+'% '+lab[predictions[0]])\n",
    "    plt.axis(\"off\")\n"
   ]
  },
  {
   "cell_type": "code",
   "execution_count": null,
   "metadata": {},
   "outputs": [],
   "source": []
  }
 ],
 "metadata": {
  "kernelspec": {
   "display_name": "Python 3 (ipykernel)",
   "language": "python",
   "name": "python3"
  },
  "language_info": {
   "codemirror_mode": {
    "name": "ipython",
    "version": 3
   },
   "file_extension": ".py",
   "mimetype": "text/x-python",
   "name": "python",
   "nbconvert_exporter": "python",
   "pygments_lexer": "ipython3",
   "version": "3.13.5"
  }
 },
 "nbformat": 4,
 "nbformat_minor": 4
}
