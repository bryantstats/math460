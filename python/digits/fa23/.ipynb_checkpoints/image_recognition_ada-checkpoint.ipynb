{
 "cells": [
  {
   "cell_type": "markdown",
   "metadata": {},
   "source": [
    "# Hand Written Recognition with Random Forest\n",
    "\n",
    "This notebook can be downloaded [here.](image_recognition3.ipynb)"
   ]
  },
  {
   "cell_type": "markdown",
   "metadata": {},
   "source": [
    "This notebook demonstrate how to use random forest to do hand written recognition.  \n",
    "\n",
    "\n",
    "### Instruction\n",
    "\n",
    "Make the following three folders.  The notebook should be in the same path as these three folders \n",
    "\n",
    "- `train images`: Containing few subfolders.  Each subfolder contains images of a class.  For example, data has two subfolders: `1` (containing number 1 images) and `2` (containing number 2 images)...\n",
    "\n",
    "- `test images`: Containing only images for testing.  There is NO subfolder within `test images`\n",
    "\n",
    "-  The notebook should be in the same folder as these two above folders. \n"
   ]
  },
  {
   "cell_type": "markdown",
   "metadata": {},
   "source": [
    "## Import some packages"
   ]
  },
  {
   "cell_type": "code",
   "execution_count": 1,
   "metadata": {},
   "outputs": [],
   "source": [
    "import numpy as np\n",
    "from sklearn.ensemble import AdaBoostClassifier\n",
    "import matplotlib.pyplot as plt\n",
    "import seaborn as sns; sns.set()\n",
    "import matplotlib\n",
    " \n",
    "# import the necessary packages\n",
    "from sklearn.model_selection import train_test_split\n",
    "import os\n",
    "import tkinter\n",
    "from os import listdir\n",
    "from PIL import Image"
   ]
  },
  {
   "cell_type": "code",
   "execution_count": 2,
   "metadata": {},
   "outputs": [],
   "source": [
    "# Set image resolution\n",
    "dim = 100\n",
    "\n",
    "number_of_trees = 1000\n",
    "learning_rate = .1"
   ]
  },
  {
   "cell_type": "code",
   "execution_count": 3,
   "metadata": {},
   "outputs": [],
   "source": [
    "train_folder = 'train images'\n",
    "test_folder = 'test images'\n",
    "lab = os.listdir(train_folder)"
   ]
  },
  {
   "cell_type": "code",
   "execution_count": 4,
   "metadata": {},
   "outputs": [],
   "source": [
    "Xtrain = np.empty((0,3*dim*dim), float)\n",
    "ytrain = np.empty((0,), int)\n",
    "\n",
    "for i in range(0, len(lab)): \n",
    "    path = train_folder + '/' + lab[i]\n",
    "    names = [f for f in os.listdir(path)]\n",
    "    for n in names[0:]:\n",
    "        img = Image.open(path +'/'+ n)\n",
    "        image = img.convert('RGB')\n",
    "        image = image.resize((dim, dim))\n",
    "        image = np.array(image)\n",
    "        image = image.ravel().reshape(1,-1)\n",
    "        Xtrain = np.append(Xtrain, image,0)\n",
    "        ytrain = np.append(ytrain, i)  \n"
   ]
  },
  {
   "cell_type": "markdown",
   "metadata": {},
   "source": [
    "## Training an Adaboost"
   ]
  },
  {
   "cell_type": "code",
   "execution_count": null,
   "metadata": {},
   "outputs": [],
   "source": [
    "from sklearn.ensemble import AdaBoostClassifier\n",
    "from sklearn.tree import DecisionTreeClassifier\n",
    "model = AdaBoostClassifier(n_estimators=number_of_trees, \n",
    "                           learning_rate=learning_rate)\n",
    "model.fit(Xtrain, ytrain)"
   ]
  },
  {
   "cell_type": "markdown",
   "metadata": {},
   "source": [
    "## Accuracy on Training Data"
   ]
  },
  {
   "cell_type": "code",
   "execution_count": null,
   "metadata": {},
   "outputs": [],
   "source": [
    "ypred=model.predict(Xtrain)\n",
    "from sklearn.metrics import confusion_matrix\n",
    "mat = confusion_matrix(ypred, ytrain)\n",
    "mat"
   ]
  },
  {
   "cell_type": "markdown",
   "metadata": {},
   "source": [
    "## Predicting New Images\n",
    "\n",
    "In the next codes, we will use our fitted model to classify new images of dogs and cats.  The model will label as `Dog` or `Cat`. These labeled images is then save in the **predict** folder."
   ]
  },
  {
   "cell_type": "code",
   "execution_count": null,
   "metadata": {},
   "outputs": [],
   "source": [
    "onlyfiles = [f for f in listdir(test_folder)]\n",
    "\n",
    "import matplotlib.pyplot as plt\n",
    "\n",
    "plt.figure(figsize=(10, 10))\n",
    "\n",
    "for i, images in enumerate(onlyfiles):\n",
    "    \n",
    "    ax = plt.subplot(int(1+len(onlyfiles)/3), 3, i + 1)\n",
    "    img = Image.open(test_folder+'/'+images)\n",
    "    image = img.convert('RGB')\n",
    "    image = image.resize((dim, dim))\n",
    "    image_print = image.resize((dim, dim))\n",
    "    image = np.array(image)\n",
    "    image = image.ravel().reshape(1,-1)\n",
    "\n",
    "    predictions = model.predict(image)\n",
    "    \n",
    "    confidence = (100*model.predict_proba(image).max()).round(1)\n",
    "    \n",
    "    plt.imshow(image_print)\n",
    "    plt.title(str(confidence)+'% '+lab[predictions[0]])\n",
    "    plt.axis(\"off\")\n"
   ]
  },
  {
   "cell_type": "code",
   "execution_count": null,
   "metadata": {},
   "outputs": [],
   "source": []
  }
 ],
 "metadata": {
  "kernelspec": {
   "display_name": "Python 3",
   "language": "python",
   "name": "python3"
  },
  "language_info": {
   "codemirror_mode": {
    "name": "ipython",
    "version": 3
   },
   "file_extension": ".py",
   "mimetype": "text/x-python",
   "name": "python",
   "nbconvert_exporter": "python",
   "pygments_lexer": "ipython3",
   "version": "3.9.12"
  },
  "toc-showmarkdowntxt": false
 },
 "nbformat": 4,
 "nbformat_minor": 4
}
