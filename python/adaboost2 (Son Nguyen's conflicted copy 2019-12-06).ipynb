{
 "cells": [
  {
   "cell_type": "code",
   "execution_count": 1,
   "metadata": {},
   "outputs": [],
   "source": [
    "import matplotlib.pyplot as plt\n",
    "from matplotlib.colors import ListedColormap\n",
    "import numpy as np\n",
    "import seaborn as sns\n",
    "import pandas as pd\n",
    "sns.set_style('white')\n",
    "\n",
    "from sklearn.tree import DecisionTreeClassifier\n",
    "from sklearn.ensemble import AdaBoostClassifier\n",
    "\n",
    "#Toy Dataset\n",
    "x1 = np.array([1, 1, 2, 2, 3, 3, 3, 4, 5, 5])\n",
    "x2 = np.array([1, 3, 2, 4, 1, 2, 5, 4,   2, 5])\n",
    "y = np.array([ 1, 1,-1, 1,-1, -1, 1, 1,  -1,-1])\n",
    "X = np.vstack((x1,x2)).T\n",
    "df = pd.DataFrame({'x1':x1, 'x2':x2, 'y':y})\n",
    "\n",
    "\n",
    "def plot_decision_boundary(classifier, X, y, N = 10, scatter_weights = np.ones(len(y)) , ax = None ):\n",
    "    '''Utility function to plot decision boundary and scatter plot of data'''\n",
    "    x_min, x_max = X[:, 0].min() - .1, X[:, 0].max() + .1\n",
    "    y_min, y_max = X[:, 1].min() - .1, X[:, 1].max() + .1\n",
    "    xx, yy = np.meshgrid( np.linspace(x_min, x_max, N), np.linspace(y_min, y_max, N))\n",
    "\n",
    "    \n",
    "    #Check what methods are available\n",
    "    if hasattr(classifier, \"decision_function\"):\n",
    "        zz = np.array( [classifier.decision_function(np.array([xi,yi]).reshape(1,-1)) for  xi, yi in zip(np.ravel(xx), np.ravel(yy)) ] )\n",
    "    elif hasattr(classifier, \"predict_proba\"):\n",
    "        zz = np.array( [classifier.predict_proba(np.array([xi,yi]).reshape(1,-1))[:,1] for  xi, yi in zip(np.ravel(xx), np.ravel(yy)) ] )\n",
    "    else :\n",
    "        zz = np.array( [classifier(np.array([xi,yi]).reshape(1,-1)) for  xi, yi in zip(np.ravel(xx), np.ravel(yy)) ] )\n",
    "            \n",
    "    # reshape result and plot\n",
    "    Z = zz.reshape(xx.shape)\n",
    "    cm_bright = ListedColormap(['#FF0000', '#0000FF'])\n",
    "    \n",
    "    #Get current axis and plot\n",
    "    if ax is None:\n",
    "        ax = plt.gca()\n",
    "    ax.contourf(xx, yy, Z, 2, cmap='RdBu', alpha=.5)\n",
    "    ax.contour(xx, yy, Z,  2, cmap='RdBu')\n",
    "    ax.scatter(X[:,0],X[:,1], c = y, cmap = cm_bright, s = scatter_weights * 40)\n",
    "    ax.set_xlabel('$X_1$')\n",
    "    ax.set_ylabel('$X_2$')\n",
    "\n",
    "def AdaBoost_scratch(X,y, M=3, learning_rate = 1):\n",
    "    #Initialization of utility variables\n",
    "    N = len(y)\n",
    "    estimator_list, y_predict_list, estimator_error_list, estimator_weight_list, sample_weight_list = [], [],[],[],[]\n",
    "\n",
    "    #Initialize the sample weights\n",
    "    sample_weight = np.ones(N) / N\n",
    "    sample_weight_list.append(sample_weight.copy())\n",
    "\n",
    "    #For m = 1 to M\n",
    "    for m in range(M):   \n",
    "\n",
    "        #Fit a classifier\n",
    "        estimator = DecisionTreeClassifier(max_depth = 1, max_leaf_nodes=2)\n",
    "        estimator.fit(X, y, sample_weight=sample_weight)\n",
    "        y_predict = estimator.predict(X)\n",
    "\n",
    "        #Misclassifications\n",
    "        incorrect = (y_predict != y)\n",
    "\n",
    "        #Estimator error\n",
    "        estimator_error = np.mean( np.average(incorrect, weights=sample_weight, axis=0))\n",
    "        \n",
    "        #Boost estimator weights\n",
    "        estimator_weight =  learning_rate * np.log((1. - estimator_error) / estimator_error)\n",
    "\n",
    "        #Boost sample weights\n",
    "        sample_weight *= np.exp(estimator_weight * incorrect * ((sample_weight > 0) | (estimator_weight < 0)))\n",
    "\n",
    "        #Save iteration values\n",
    "        estimator_list.append(estimator)\n",
    "        y_predict_list.append(y_predict.copy())\n",
    "        estimator_error_list.append(estimator_error.copy())\n",
    "        estimator_weight_list.append(estimator_weight.copy())\n",
    "        sample_weight_list.append(sample_weight.copy())\n",
    "        \n",
    "\n",
    "\n",
    "    #Convert to np array for convenience   \n",
    "    estimator_list = np.asarray(estimator_list)\n",
    "    y_predict_list = np.asarray(y_predict_list)\n",
    "    estimator_error_list = np.asarray(estimator_error_list)\n",
    "    estimator_weight_list = np.asarray(estimator_weight_list)\n",
    "    sample_weight_list = np.asarray(sample_weight_list)\n",
    "\n",
    "    #Predictions\n",
    "    preds = (np.array([np.sign((y_predict_list[:,point] * estimator_weight_list).sum()) for point in range(N)]))\n",
    "    print('Accuracy = ', (preds == y).sum() / N) \n",
    "    \n",
    "    return estimator_list, estimator_weight_list, sample_weight_list\n",
    "\n",
    "def adaboost_steps(df, L=1):\n",
    "    df['Stump 1']=np.sign(x2-2.5).astype(int)\n",
    "    df['Weight 1'] = np.repeat(1/len(df), len(df))\n",
    "    e1 = df[df['Stump 1']*df['y']==-1]['Weight 1'].sum()\n",
    "\n",
    "    alpha1 = L*.5*np.log((1-e1)/e1)\n",
    "    alpha1\n",
    "    df['Weight 2'] = df['Weight 1']*np.exp(alpha1*(-df['y']*df['Stump 1']))\n",
    "    df['Weight 2'] = df['Weight 2']/sum(df['Weight 2'])\n",
    "    df\n",
    "\n",
    "    df['Stump 2']=-np.sign(x1-1.5).astype(int)\n",
    "    \n",
    "    e2 = df[df['Stump 2']*df['y']==-1]['Weight 2'].sum()\n",
    "\n",
    "    alpha2 = L*.5*np.log((1-e2)/e2)\n",
    "    df['Weight 3'] = df['Weight 2']*np.exp(alpha2*(-df['y']*df['Stump 2']))\n",
    "    df['Weight 3'] = df['Weight 3']/sum(df['Weight 3'])\n",
    "\n",
    "    df['Stump 3']=-np.sign(x1-4.5).astype(int)\n",
    "    e3 = df[df['Stump 3']*df['y']==-1]['Weight 3'].sum()\n",
    "\n",
    "    alpha3 = L*.5*np.log((1-e3)/e3)\n",
    "\n",
    "    return df\n",
    "\n",
    "def plot_AdaBoost_scratch_boundary(estimators,estimator_weights, X, y, N = 10,ax = None ):\n",
    "    \n",
    "    def AdaBoost_scratch_classify(x_temp, est,est_weights ):\n",
    "        '''Return classification prediction for a given point X and a previously fitted AdaBoost'''\n",
    "        temp_pred = np.asarray( [ (e.predict(x_temp)).T* w for e, w in zip(est,est_weights )]  ) / est_weights.sum()\n",
    "        return np.sign(temp_pred.sum(axis = 0))\n",
    "    \n",
    "    \n",
    "    '''Utility function to plot decision boundary and scatter plot of data'''\n",
    "    x_min, x_max = X[:, 0].min() - .1, X[:, 0].max() + .1\n",
    "    y_min, y_max = X[:, 1].min() - .1, X[:, 1].max() + .1\n",
    "    xx, yy = np.meshgrid( np.linspace(x_min, x_max, N), np.linspace(y_min, y_max, N))\n",
    "\n",
    "\n",
    "    zz = np.array( [AdaBoost_scratch_classify(np.array([xi,yi]).reshape(1,-1), estimators,estimator_weights ) for  xi, yi in zip(np.ravel(xx), np.ravel(yy)) ] )\n",
    "            \n",
    "    # reshape result and plot\n",
    "    Z = zz.reshape(xx.shape)\n",
    "    cm_bright = ListedColormap(['#FF0000', '#0000FF'])\n",
    "    \n",
    "    if ax is None:\n",
    "        ax = plt.gca()\n",
    "    ax.contourf(xx, yy, Z, 2, cmap='RdBu', alpha=.5)\n",
    "    ax.contour(xx, yy, Z,  2, cmap='RdBu')\n",
    "    ax.scatter(X[:,0],X[:,1], c = y, cmap = cm_bright)\n",
    "    ax.set_xlabel('$X_1$')\n",
    "    ax.set_ylabel('$X_2$')\n"
   ]
  },
  {
   "cell_type": "markdown",
   "metadata": {},
   "source": [
    "# Example 1"
   ]
  },
  {
   "cell_type": "code",
   "execution_count": 2,
   "metadata": {},
   "outputs": [
    {
     "data": {
      "text/html": [
       "<div>\n",
       "<style scoped>\n",
       "    .dataframe tbody tr th:only-of-type {\n",
       "        vertical-align: middle;\n",
       "    }\n",
       "\n",
       "    .dataframe tbody tr th {\n",
       "        vertical-align: top;\n",
       "    }\n",
       "\n",
       "    .dataframe thead th {\n",
       "        text-align: right;\n",
       "    }\n",
       "</style>\n",
       "<table border=\"1\" class=\"dataframe\">\n",
       "  <thead>\n",
       "    <tr style=\"text-align: right;\">\n",
       "      <th></th>\n",
       "      <th>x1</th>\n",
       "      <th>x2</th>\n",
       "      <th>y</th>\n",
       "      <th>Stump 1</th>\n",
       "      <th>Weight 1</th>\n",
       "      <th>Weight 2</th>\n",
       "      <th>Stump 2</th>\n",
       "      <th>Weight 3</th>\n",
       "      <th>Stump 3</th>\n",
       "    </tr>\n",
       "  </thead>\n",
       "  <tbody>\n",
       "    <tr>\n",
       "      <th>0</th>\n",
       "      <td>1</td>\n",
       "      <td>1</td>\n",
       "      <td>1</td>\n",
       "      <td>-1</td>\n",
       "      <td>0.1</td>\n",
       "      <td>0.2500</td>\n",
       "      <td>1</td>\n",
       "      <td>0.153846</td>\n",
       "      <td>1</td>\n",
       "    </tr>\n",
       "    <tr>\n",
       "      <th>1</th>\n",
       "      <td>1</td>\n",
       "      <td>3</td>\n",
       "      <td>1</td>\n",
       "      <td>1</td>\n",
       "      <td>0.1</td>\n",
       "      <td>0.0625</td>\n",
       "      <td>1</td>\n",
       "      <td>0.038462</td>\n",
       "      <td>1</td>\n",
       "    </tr>\n",
       "    <tr>\n",
       "      <th>2</th>\n",
       "      <td>2</td>\n",
       "      <td>2</td>\n",
       "      <td>-1</td>\n",
       "      <td>-1</td>\n",
       "      <td>0.1</td>\n",
       "      <td>0.0625</td>\n",
       "      <td>-1</td>\n",
       "      <td>0.038462</td>\n",
       "      <td>1</td>\n",
       "    </tr>\n",
       "    <tr>\n",
       "      <th>3</th>\n",
       "      <td>2</td>\n",
       "      <td>4</td>\n",
       "      <td>1</td>\n",
       "      <td>1</td>\n",
       "      <td>0.1</td>\n",
       "      <td>0.0625</td>\n",
       "      <td>-1</td>\n",
       "      <td>0.166667</td>\n",
       "      <td>1</td>\n",
       "    </tr>\n",
       "    <tr>\n",
       "      <th>4</th>\n",
       "      <td>3</td>\n",
       "      <td>1</td>\n",
       "      <td>-1</td>\n",
       "      <td>-1</td>\n",
       "      <td>0.1</td>\n",
       "      <td>0.0625</td>\n",
       "      <td>-1</td>\n",
       "      <td>0.038462</td>\n",
       "      <td>1</td>\n",
       "    </tr>\n",
       "    <tr>\n",
       "      <th>5</th>\n",
       "      <td>3</td>\n",
       "      <td>2</td>\n",
       "      <td>-1</td>\n",
       "      <td>-1</td>\n",
       "      <td>0.1</td>\n",
       "      <td>0.0625</td>\n",
       "      <td>-1</td>\n",
       "      <td>0.038462</td>\n",
       "      <td>1</td>\n",
       "    </tr>\n",
       "    <tr>\n",
       "      <th>6</th>\n",
       "      <td>3</td>\n",
       "      <td>5</td>\n",
       "      <td>1</td>\n",
       "      <td>1</td>\n",
       "      <td>0.1</td>\n",
       "      <td>0.0625</td>\n",
       "      <td>-1</td>\n",
       "      <td>0.166667</td>\n",
       "      <td>1</td>\n",
       "    </tr>\n",
       "    <tr>\n",
       "      <th>7</th>\n",
       "      <td>4</td>\n",
       "      <td>4</td>\n",
       "      <td>1</td>\n",
       "      <td>1</td>\n",
       "      <td>0.1</td>\n",
       "      <td>0.0625</td>\n",
       "      <td>-1</td>\n",
       "      <td>0.166667</td>\n",
       "      <td>1</td>\n",
       "    </tr>\n",
       "    <tr>\n",
       "      <th>8</th>\n",
       "      <td>5</td>\n",
       "      <td>2</td>\n",
       "      <td>-1</td>\n",
       "      <td>-1</td>\n",
       "      <td>0.1</td>\n",
       "      <td>0.0625</td>\n",
       "      <td>-1</td>\n",
       "      <td>0.038462</td>\n",
       "      <td>-1</td>\n",
       "    </tr>\n",
       "    <tr>\n",
       "      <th>9</th>\n",
       "      <td>5</td>\n",
       "      <td>5</td>\n",
       "      <td>-1</td>\n",
       "      <td>1</td>\n",
       "      <td>0.1</td>\n",
       "      <td>0.2500</td>\n",
       "      <td>-1</td>\n",
       "      <td>0.153846</td>\n",
       "      <td>-1</td>\n",
       "    </tr>\n",
       "  </tbody>\n",
       "</table>\n",
       "</div>"
      ],
      "text/plain": [
       "   x1  x2  y  Stump 1  Weight 1  Weight 2  Stump 2  Weight 3  Stump 3\n",
       "0   1   1  1       -1       0.1    0.2500        1  0.153846        1\n",
       "1   1   3  1        1       0.1    0.0625        1  0.038462        1\n",
       "2   2   2 -1       -1       0.1    0.0625       -1  0.038462        1\n",
       "3   2   4  1        1       0.1    0.0625       -1  0.166667        1\n",
       "4   3   1 -1       -1       0.1    0.0625       -1  0.038462        1\n",
       "5   3   2 -1       -1       0.1    0.0625       -1  0.038462        1\n",
       "6   3   5  1        1       0.1    0.0625       -1  0.166667        1\n",
       "7   4   4  1        1       0.1    0.0625       -1  0.166667        1\n",
       "8   5   2 -1       -1       0.1    0.0625       -1  0.038462       -1\n",
       "9   5   5 -1        1       0.1    0.2500       -1  0.153846       -1"
      ]
     },
     "execution_count": 2,
     "metadata": {},
     "output_type": "execute_result"
    }
   ],
   "source": [
    "#Toy Dataset\n",
    "x1 = np.array([1, 1, 2, 2, 3, 3, 3, 4, 5, 5])\n",
    "x2 = np.array([1, 3, 2, 4, 1, 2, 5, 4,   2, 5])\n",
    "y = np.array([ 1, 1,-1, 1,-1, -1, 1, 1,  -1,-1])\n",
    "X = np.vstack((x1,x2)).T\n",
    "df = pd.DataFrame({'x1':x1, 'x2':x2, 'y':y})\n",
    "\n",
    "adaboost_steps(df, L=1)"
   ]
  },
  {
   "cell_type": "code",
   "execution_count": 3,
   "metadata": {},
   "outputs": [
    {
     "data": {
      "text/html": [
       "<div>\n",
       "<style scoped>\n",
       "    .dataframe tbody tr th:only-of-type {\n",
       "        vertical-align: middle;\n",
       "    }\n",
       "\n",
       "    .dataframe tbody tr th {\n",
       "        vertical-align: top;\n",
       "    }\n",
       "\n",
       "    .dataframe thead th {\n",
       "        text-align: right;\n",
       "    }\n",
       "</style>\n",
       "<table border=\"1\" class=\"dataframe\">\n",
       "  <thead>\n",
       "    <tr style=\"text-align: right;\">\n",
       "      <th></th>\n",
       "      <th>x1</th>\n",
       "      <th>x2</th>\n",
       "      <th>y</th>\n",
       "      <th>Stump 1</th>\n",
       "      <th>Weight 1</th>\n",
       "      <th>Weight 2</th>\n",
       "      <th>Stump 2</th>\n",
       "      <th>Weight 3</th>\n",
       "      <th>Stump 3</th>\n",
       "    </tr>\n",
       "  </thead>\n",
       "  <tbody>\n",
       "    <tr>\n",
       "      <th>0</th>\n",
       "      <td>1</td>\n",
       "      <td>1</td>\n",
       "      <td>1</td>\n",
       "      <td>-1</td>\n",
       "      <td>0.1</td>\n",
       "      <td>0.101114</td>\n",
       "      <td>1</td>\n",
       "      <td>0.100856</td>\n",
       "      <td>1</td>\n",
       "    </tr>\n",
       "    <tr>\n",
       "      <th>1</th>\n",
       "      <td>1</td>\n",
       "      <td>3</td>\n",
       "      <td>1</td>\n",
       "      <td>1</td>\n",
       "      <td>0.1</td>\n",
       "      <td>0.099722</td>\n",
       "      <td>1</td>\n",
       "      <td>0.099467</td>\n",
       "      <td>1</td>\n",
       "    </tr>\n",
       "    <tr>\n",
       "      <th>2</th>\n",
       "      <td>2</td>\n",
       "      <td>2</td>\n",
       "      <td>-1</td>\n",
       "      <td>-1</td>\n",
       "      <td>0.1</td>\n",
       "      <td>0.099722</td>\n",
       "      <td>-1</td>\n",
       "      <td>0.099467</td>\n",
       "      <td>1</td>\n",
       "    </tr>\n",
       "    <tr>\n",
       "      <th>3</th>\n",
       "      <td>2</td>\n",
       "      <td>4</td>\n",
       "      <td>1</td>\n",
       "      <td>1</td>\n",
       "      <td>0.1</td>\n",
       "      <td>0.099722</td>\n",
       "      <td>-1</td>\n",
       "      <td>0.100318</td>\n",
       "      <td>1</td>\n",
       "    </tr>\n",
       "    <tr>\n",
       "      <th>4</th>\n",
       "      <td>3</td>\n",
       "      <td>1</td>\n",
       "      <td>-1</td>\n",
       "      <td>-1</td>\n",
       "      <td>0.1</td>\n",
       "      <td>0.099722</td>\n",
       "      <td>-1</td>\n",
       "      <td>0.099467</td>\n",
       "      <td>1</td>\n",
       "    </tr>\n",
       "    <tr>\n",
       "      <th>5</th>\n",
       "      <td>3</td>\n",
       "      <td>2</td>\n",
       "      <td>-1</td>\n",
       "      <td>-1</td>\n",
       "      <td>0.1</td>\n",
       "      <td>0.099722</td>\n",
       "      <td>-1</td>\n",
       "      <td>0.099467</td>\n",
       "      <td>1</td>\n",
       "    </tr>\n",
       "    <tr>\n",
       "      <th>6</th>\n",
       "      <td>3</td>\n",
       "      <td>5</td>\n",
       "      <td>1</td>\n",
       "      <td>1</td>\n",
       "      <td>0.1</td>\n",
       "      <td>0.099722</td>\n",
       "      <td>-1</td>\n",
       "      <td>0.100318</td>\n",
       "      <td>1</td>\n",
       "    </tr>\n",
       "    <tr>\n",
       "      <th>7</th>\n",
       "      <td>4</td>\n",
       "      <td>4</td>\n",
       "      <td>1</td>\n",
       "      <td>1</td>\n",
       "      <td>0.1</td>\n",
       "      <td>0.099722</td>\n",
       "      <td>-1</td>\n",
       "      <td>0.100318</td>\n",
       "      <td>1</td>\n",
       "    </tr>\n",
       "    <tr>\n",
       "      <th>8</th>\n",
       "      <td>5</td>\n",
       "      <td>2</td>\n",
       "      <td>-1</td>\n",
       "      <td>-1</td>\n",
       "      <td>0.1</td>\n",
       "      <td>0.099722</td>\n",
       "      <td>-1</td>\n",
       "      <td>0.099467</td>\n",
       "      <td>-1</td>\n",
       "    </tr>\n",
       "    <tr>\n",
       "      <th>9</th>\n",
       "      <td>5</td>\n",
       "      <td>5</td>\n",
       "      <td>-1</td>\n",
       "      <td>1</td>\n",
       "      <td>0.1</td>\n",
       "      <td>0.101114</td>\n",
       "      <td>-1</td>\n",
       "      <td>0.100856</td>\n",
       "      <td>-1</td>\n",
       "    </tr>\n",
       "  </tbody>\n",
       "</table>\n",
       "</div>"
      ],
      "text/plain": [
       "   x1  x2  y  Stump 1  Weight 1  Weight 2  Stump 2  Weight 3  Stump 3\n",
       "0   1   1  1       -1       0.1  0.101114        1  0.100856        1\n",
       "1   1   3  1        1       0.1  0.099722        1  0.099467        1\n",
       "2   2   2 -1       -1       0.1  0.099722       -1  0.099467        1\n",
       "3   2   4  1        1       0.1  0.099722       -1  0.100318        1\n",
       "4   3   1 -1       -1       0.1  0.099722       -1  0.099467        1\n",
       "5   3   2 -1       -1       0.1  0.099722       -1  0.099467        1\n",
       "6   3   5  1        1       0.1  0.099722       -1  0.100318        1\n",
       "7   4   4  1        1       0.1  0.099722       -1  0.100318        1\n",
       "8   5   2 -1       -1       0.1  0.099722       -1  0.099467       -1\n",
       "9   5   5 -1        1       0.1  0.101114       -1  0.100856       -1"
      ]
     },
     "execution_count": 3,
     "metadata": {},
     "output_type": "execute_result"
    }
   ],
   "source": [
    "adaboost_steps(df, L=.01)"
   ]
  },
  {
   "cell_type": "code",
   "execution_count": 4,
   "metadata": {},
   "outputs": [],
   "source": [
    "L=1\n",
    "from tabulate import tabulate\n",
    "df['Stump 1']=np.sign(x2-2.5).astype(int)\n",
    "df['Weight 1'] = np.repeat(1/len(df), len(df))\n",
    "e1 = df[df['Stump 1']*df['y']==-1]['Weight 1'].sum()\n",
    "\n",
    "\n",
    "alpha1 = L*.5*np.log((1-e1)/e1)\n",
    "alpha1\n",
    "df['Weight 2'] = df['Weight 1']*np.exp(alpha1*(-df['y']*df['Stump 1']))\n",
    "df['Weight 2'] = df['Weight 2']/sum(df['Weight 2'])\n",
    "df\n",
    "\n",
    "df['Stump 2']=-np.sign(x1-1.5).astype(int)\n",
    "\n",
    "e2 = df[df['Stump 2']*df['y']==-1]['Weight 2'].sum()\n",
    "\n",
    "alpha2 = L*.5*np.log((1-e2)/e2)\n",
    "df['Weight 3'] = df['Weight 2']*np.exp(alpha2*(-df['y']*df['Stump 2']))\n",
    "df['Weight 3'] = df['Weight 3']/sum(df['Weight 3'])\n",
    "\n",
    "df['Stump 3']=-np.sign(x1-4.5).astype(int)\n",
    "e3 = df[df['Stump 3']*df['y']==-1]['Weight 3'].sum()\n",
    "\n",
    "alpha3 = L*.5*np.log((1-e3)/e3)"
   ]
  },
  {
   "cell_type": "code",
   "execution_count": 5,
   "metadata": {},
   "outputs": [
    {
     "data": {
      "text/plain": [
       "0.6931471805599453"
      ]
     },
     "execution_count": 5,
     "metadata": {},
     "output_type": "execute_result"
    }
   ],
   "source": [
    "alpha1"
   ]
  },
  {
   "cell_type": "code",
   "execution_count": 5,
   "metadata": {},
   "outputs": [
    {
     "name": "stdout",
     "output_type": "stream",
     "text": [
      "|    |   x1 |   x2 |   y |   Stump 1 |   Weight 1 |   Weight 2 |   Stump 2 |   Weight 3 |   Stump 3 |\n",
      "|----|------|------|-----|-----------|------------|------------|-----------|------------|-----------|\n",
      "|  0 |    1 |    1 |   1 |        -1 |        0.1 |     0.25   |         1 |  0.153846  |         1 |\n",
      "|  1 |    1 |    3 |   1 |         1 |        0.1 |     0.0625 |         1 |  0.0384615 |         1 |\n",
      "|  2 |    2 |    2 |  -1 |        -1 |        0.1 |     0.0625 |        -1 |  0.0384615 |         1 |\n",
      "|  3 |    2 |    4 |   1 |         1 |        0.1 |     0.0625 |        -1 |  0.166667  |         1 |\n",
      "|  4 |    3 |    1 |  -1 |        -1 |        0.1 |     0.0625 |        -1 |  0.0384615 |         1 |\n",
      "|  5 |    3 |    2 |  -1 |        -1 |        0.1 |     0.0625 |        -1 |  0.0384615 |         1 |\n",
      "|  6 |    3 |    5 |   1 |         1 |        0.1 |     0.0625 |        -1 |  0.166667  |         1 |\n",
      "|  7 |    4 |    4 |   1 |         1 |        0.1 |     0.0625 |        -1 |  0.166667  |         1 |\n",
      "|  8 |    5 |    2 |  -1 |        -1 |        0.1 |     0.0625 |        -1 |  0.0384615 |        -1 |\n",
      "|  9 |    5 |    5 |  -1 |         1 |        0.1 |     0.25   |        -1 |  0.153846  |        -1 |\n"
     ]
    }
   ],
   "source": [
    "df = adaboost_steps(df, L=1)\n",
    "print(tabulate(df, headers=\"keys\", tablefmt=\"github\"))"
   ]
  },
  {
   "cell_type": "code",
   "execution_count": 6,
   "metadata": {},
   "outputs": [
    {
     "data": {
      "text/plain": [
       "1.0184409636305198"
      ]
     },
     "execution_count": 6,
     "metadata": {},
     "output_type": "execute_result"
    }
   ],
   "source": [
    "alpha3"
   ]
  },
  {
   "cell_type": "markdown",
   "metadata": {},
   "source": [
    "## Plotting"
   ]
  },
  {
   "cell_type": "code",
   "execution_count": 7,
   "metadata": {},
   "outputs": [
    {
     "data": {
      "image/png": "[encoded data removed]",
      "text/plain": [
       "<Figure size 432x288 with 1 Axes>"
      ]
     },
     "metadata": {},
     "output_type": "display_data"
    },
    {
     "name": "stdout",
     "output_type": "stream",
     "text": [
      "Accuracy =  1.0\n"
     ]
    },
    {
     "data": {
      "image/png": "[encoded data removed]",
      "text/plain": [
       "<Figure size 432x288 with 1 Axes>"
      ]
     },
     "metadata": {},
     "output_type": "display_data"
    }
   ],
   "source": [
    "# Plot\n",
    "\n",
    "round = 3\n",
    "L = 1\n",
    "\n",
    "boost = AdaBoostClassifier( base_estimator = DecisionTreeClassifier(max_depth = 1, max_leaf_nodes=2), \n",
    "                            algorithm = 'SAMME',n_estimators=round, learning_rate=L)\n",
    "boost.fit(X,y)\n",
    "plot_decision_boundary(boost, X,y, N = 50)#, weights)\n",
    "plt.show()\n",
    "\n",
    "estimator_list, estimator_weight_list, sample_weight_list  = AdaBoost_scratch(X,y, M=round, learning_rate = L)\n",
    "plot_AdaBoost_scratch_boundary(estimator_list, estimator_weight_list, X, y, N = 50 )"
   ]
  },
  {
   "cell_type": "markdown",
   "metadata": {},
   "source": [
    "## ========================================"
   ]
  },
  {
   "cell_type": "code",
   "execution_count": 9,
   "metadata": {},
   "outputs": [
    {
     "data": {
      "image/png": "[encoded data removed]",
      "text/plain": [
       "<Figure size 432x288 with 1 Axes>"
      ]
     },
     "metadata": {
      "needs_background": "light"
     },
     "output_type": "display_data"
    },
    {
     "name": "stdout",
     "output_type": "stream",
     "text": [
      "Accuracy =  0.9\n"
     ]
    },
    {
     "data": {
      "image/png": "[encoded data removed]",
      "text/plain": [
       "<Figure size 432x288 with 1 Axes>"
      ]
     },
     "metadata": {
      "needs_background": "light"
     },
     "output_type": "display_data"
    }
   ],
   "source": [
    "x1 = np.array(np.arange(-5, 5))\n",
    "x2 = x1^2\n",
    "y = np.array([ 1, 1,-1, 1,-1, -1, 1, 1,  -1,-1])\n",
    "X = np.vstack((x1,x2)).T\n",
    "df = pd.DataFrame({'x1':x1, 'x2':x2, 'y':y})\n",
    "\n",
    "adaboost_steps(df, L=1)\n",
    "round = 4\n",
    "L = 1\n",
    "\n",
    "boost = AdaBoostClassifier( base_estimator = DecisionTreeClassifier(max_depth = 1, max_leaf_nodes=2), \n",
    "                            algorithm = 'SAMME',n_estimators=round, learning_rate=L)\n",
    "boost.fit(X,y)\n",
    "plot_decision_boundary(boost, X,y, N = 50)#, weights)\n",
    "plt.show()\n",
    "\n",
    "estimator_list, estimator_weight_list, sample_weight_list  = AdaBoost_scratch(X,y, M=round, learning_rate = L)\n",
    "plot_AdaBoost_scratch_boundary(estimator_list, estimator_weight_list, X, y, N = 50 )"
   ]
  },
  {
   "cell_type": "markdown",
   "metadata": {},
   "source": [
    "# Example 2"
   ]
  },
  {
   "cell_type": "code",
   "execution_count": 10,
   "metadata": {},
   "outputs": [
    {
     "name": "stdout",
     "output_type": "stream",
     "text": [
      "   x1  x2  y  Stump 1  Weight 1  Weight 2  Stump 2  Weight 3  Stump 3\n",
      "0   1   1  1       -1  0.166667     0.250        1  0.142857        1\n",
      "1   1   3  1        1  0.166667     0.125        1  0.071429        1\n",
      "2   2   2 -1       -1  0.166667     0.125       -1  0.071429        1\n",
      "3   2   4  1        1  0.166667     0.125       -1  0.500000        1\n",
      "4   4   4 -1        1  0.166667     0.250       -1  0.142857        1\n",
      "5   5   2 -1       -1  0.166667     0.125       -1  0.071429       -1\n",
      "--------------------------------------------------------------------------------\n",
      "errors: [0.3333333333333333, 0.125, 0.21428571428571436]\n"
     ]
    },
    {
     "data": {
      "image/png": "[encoded data removed]",
      "text/plain": [
       "<Figure size 432x288 with 1 Axes>"
      ]
     },
     "metadata": {
      "needs_background": "light"
     },
     "output_type": "display_data"
    },
    {
     "name": "stdout",
     "output_type": "stream",
     "text": [
      "Accuracy =  1.0\n"
     ]
    },
    {
     "data": {
      "image/png": "[encoded data removed]",
      "text/plain": [
       "<Figure size 432x288 with 1 Axes>"
      ]
     },
     "metadata": {
      "needs_background": "light"
     },
     "output_type": "display_data"
    }
   ],
   "source": [
    "import pandas as pd\n",
    "# pd.DataFrame({'x1':x1, 'x2':x2, 'y':y}).to_csv('1.csv')\n",
    "\n",
    "x1 = np.array([1, 1, 2, 2,    4, 5])\n",
    "x2 = np.array([1, 3, 2, 4,    4,   2])\n",
    "X = np.vstack((x1,x2)).T\n",
    "y = np.array([ 1, 1,-1, 1,   -1,  -1])\n",
    "\n",
    "round = 4\n",
    "L = 1\n",
    "\n",
    "df = pd.DataFrame({'x1':x1, 'x2':x2, 'y':y})\n",
    "df['Stump 1']=np.sign(x2-2.5).astype(int)\n",
    "df['Weight 1'] = np.repeat(1/len(df), len(df))\n",
    "e1 = df[df['Stump 1']*df['y']==-1]['Weight 1'].sum()\n",
    "\n",
    "df\n",
    "alpha1 = L*.5*np.log((1-e1)/e1)\n",
    "alpha1\n",
    "df['Weight 2'] = df['Weight 1']*np.exp(alpha1*(-df['y']*df['Stump 1']))\n",
    "df['Weight 2'] = df['Weight 2']/sum(df['Weight 2'])\n",
    "df\n",
    "\n",
    "df['Stump 2']=-np.sign(x1-1.5).astype(int)\n",
    "df\n",
    "e2 = df[df['Stump 2']*df['y']==-1]['Weight 2'].sum()\n",
    "\n",
    "alpha2 = L*.5*np.log((1-e2)/e2)\n",
    "alpha2\n",
    "df['Weight 3'] = df['Weight 2']*np.exp(alpha2*(-df['y']*df['Stump 2']))\n",
    "df['Weight 3'] = df['Weight 3']/sum(df['Weight 3'])\n",
    "df\n",
    "\n",
    "df['Stump 3']=-np.sign(x1-4.5).astype(int)\n",
    "df\n",
    "e3 = df[df['Stump 3']*df['y']==-1]['Weight 3'].sum()\n",
    "\n",
    "alpha3 = L*.5*np.log((1-e3)/e3)\n",
    "alpha3\n",
    "\n",
    "print(df)\n",
    "print('--------------------------------------------------------------------------------')\n",
    "print('errors:',[e1, e2, e3])\n",
    "\n",
    "\n",
    "# Plot\n",
    "\n",
    "boost = AdaBoostClassifier( base_estimator = DecisionTreeClassifier(max_depth = 1, max_leaf_nodes=2), \n",
    "                            algorithm = 'SAMME',n_estimators=round, learning_rate=L)\n",
    "boost.fit(X,y)\n",
    "plot_decision_boundary(boost, X,y, N = 50)#, weights)\n",
    "plt.show()\n",
    "\n",
    "estimator_list, estimator_weight_list, sample_weight_list  = AdaBoost_scratch(X,y, M=round, learning_rate = L)\n",
    "plot_AdaBoost_scratch_boundary(estimator_list, estimator_weight_list, X, y, N = 50 )"
   ]
  },
  {
   "cell_type": "code",
   "execution_count": 11,
   "metadata": {},
   "outputs": [
    {
     "name": "stdout",
     "output_type": "stream",
     "text": [
      "   x1  x2  y  Stump 1  Weight 1  Weight 2  Stump 2  Weight 3  Stump 3\n",
      "0   1   1  1        1  0.166667       0.1        1  0.055556       -1\n",
      "1   1   3  1        1  0.166667       0.1        1  0.055556        1\n",
      "2   2   2 -1        1  0.166667       0.5       -1  0.277778       -1\n",
      "3   2   4  1        1  0.166667       0.1       -1  0.500000        1\n",
      "4   4   4 -1       -1  0.166667       0.1       -1  0.055556        1\n",
      "5   5   2 -1       -1  0.166667       0.1       -1  0.055556       -1\n",
      "--------------------------------------------------------------------------------\n",
      "errors: [0.16666666666666666, 0.1, 0.11111111111111109]\n",
      "Accuracy =  1.0\n"
     ]
    },
    {
     "data": {
      "image/png": "[encoded data removed]",
      "text/plain": [
       "<Figure size 432x288 with 1 Axes>"
      ]
     },
     "metadata": {
      "needs_background": "light"
     },
     "output_type": "display_data"
    }
   ],
   "source": [
    "import pandas as pd\n",
    "# pd.DataFrame({'x1':x1, 'x2':x2, 'y':y}).to_csv('1.csv')\n",
    "\n",
    "x1 = np.array([1, 1, 2, 2,    4, 5])\n",
    "x2 = np.array([1, 3, 2, 4,    4,   2])\n",
    "X = np.vstack((x1,x2)).T\n",
    "y = np.array([ 1, 1,-1, 1,   -1,  -1])\n",
    "\n",
    "df = pd.DataFrame({'x1':x1, 'x2':x2, 'y':y})\n",
    "df['Stump 1']=-np.sign(x1-3).astype(int)\n",
    "\n",
    "df['Weight 1'] = np.repeat(1/len(df), len(df))\n",
    "e1 = df[df['Stump 1']*df['y']==-1]['Weight 1'].sum()\n",
    "\n",
    "alpha1 = .5*np.log((1-e1)/e1)\n",
    "alpha1\n",
    "df['Weight 2'] = df['Weight 1']*np.exp(alpha1*(-df['y']*df['Stump 1']))\n",
    "df['Weight 2'] = df['Weight 2']/sum(df['Weight 2'])\n",
    "df\n",
    "\n",
    "df['Stump 2']=-np.sign(x1-1.5).astype(int)\n",
    "df\n",
    "e2 = df[df['Stump 2']*df['y']==-1]['Weight 2'].sum()\n",
    "\n",
    "alpha2 = .5*np.log((1-e2)/e2)\n",
    "alpha2\n",
    "df['Weight 3'] = df['Weight 2']*np.exp(alpha2*(-df['y']*df['Stump 2']))\n",
    "df['Weight 3'] = df['Weight 3']/sum(df['Weight 3'])\n",
    "df\n",
    "\n",
    "df['Stump 3']=np.sign(x2-2.5).astype(int)\n",
    "df\n",
    "e3 = df[df['Stump 3']*df['y']==-1]['Weight 3'].sum()\n",
    "\n",
    "alpha3 = .5*np.log((1-e3)/e3)\n",
    "alpha3\n",
    "print(df)\n",
    "print('--------------------------------------------------------------------------------')\n",
    "print('errors:',[e1, e2, e3])\n",
    "\n",
    "round = 20\n",
    "L = .1\n",
    "\n",
    "estimator_list, estimator_weight_list, sample_weight_list  = AdaBoost_scratch(X,y, M=round, learning_rate = L)\n",
    "plot_AdaBoost_scratch_boundary(estimator_list, estimator_weight_list, X, y, N = 50 )"
   ]
  },
  {
   "cell_type": "code",
   "execution_count": 12,
   "metadata": {},
   "outputs": [],
   "source": [
    "def plot_AdaBoost_scratch_boundary(estimators,estimator_weights, X, y, N = 10,ax = None ):\n",
    "    \n",
    "    def AdaBoost_scratch_classify(x_temp, est,est_weights ):\n",
    "        '''Return classification prediction for a given point X and a previously fitted AdaBoost'''\n",
    "        temp_pred = np.asarray( [ (e.predict(x_temp)).T* w for e, w in zip(est,est_weights )]  ) / est_weights.sum()\n",
    "        return np.sign(temp_pred.sum(axis = 0))\n",
    "    \n",
    "    \n",
    "    '''Utility function to plot decision boundary and scatter plot of data'''\n",
    "    x_min, x_max = X[:, 0].min() - .1, X[:, 0].max() + .1\n",
    "    y_min, y_max = X[:, 1].min() - .1, X[:, 1].max() + .1\n",
    "    xx, yy = np.meshgrid( np.linspace(x_min, x_max, N), np.linspace(y_min, y_max, N))\n",
    "\n",
    "\n",
    "    zz = np.array( [AdaBoost_scratch_classify(np.array([xi,yi]).reshape(1,-1), estimators,estimator_weights ) for  xi, yi in zip(np.ravel(xx), np.ravel(yy)) ] )\n",
    "            \n",
    "    # reshape result and plot\n",
    "    Z = zz.reshape(xx.shape)\n",
    "    cm_bright = ListedColormap(['#FF0000', '#0000FF'])\n",
    "    \n",
    "    if ax is None:\n",
    "        ax = plt.gca()\n",
    "    ax.contourf(xx, yy, Z, 2, cmap='RdBu', alpha=.5)\n",
    "    ax.contour(xx, yy, Z,  2, cmap='RdBu')\n",
    "    ax.scatter(X[:,0],X[:,1], c = y, cmap = cm_bright)\n",
    "    ax.set_xlabel('$X_1$')\n",
    "    ax.set_ylabel('$X_2$')\n"
   ]
  },
  {
   "cell_type": "code",
   "execution_count": 13,
   "metadata": {},
   "outputs": [
    {
     "name": "stdout",
     "output_type": "stream",
     "text": [
      "Accuracy =  1.0\n"
     ]
    },
    {
     "data": {
      "image/png": "[encoded data removed]",
      "text/plain": [
       "<Figure size 1008x1008 with 9 Axes>"
      ]
     },
     "metadata": {
      "needs_background": "light"
     },
     "output_type": "display_data"
    }
   ],
   "source": [
    "estimator_list, estimator_weight_list, sample_weight_list  = AdaBoost_scratch(X,y, M=10, learning_rate = 1)\n",
    "\n",
    "fig = plt.figure(figsize = (14,14))\n",
    "for m in range(0,9):\n",
    "    fig.add_subplot(3,3,m+1)\n",
    "    s_weights = (sample_weight_list[m,:] / sample_weight_list[m,:].sum() ) * 40\n",
    "    plot_decision_boundary(estimator_list[m], X,y,N = 50, scatter_weights =s_weights )\n",
    "    plt.title('Estimator decision boundary, m = {}'.format(m))\n"
   ]
  },
  {
   "cell_type": "markdown",
   "metadata": {},
   "source": [
    "## Exam 2 Practice Problems"
   ]
  },
  {
   "cell_type": "code",
   "execution_count": 14,
   "metadata": {},
   "outputs": [
    {
     "name": "stdout",
     "output_type": "stream",
     "text": [
      "|    |   x1 |   x2 |   y |\n",
      "|----|------|------|-----|\n",
      "|  0 |    1 |    2 |   1 |\n",
      "|  1 |    2 |    5 |   1 |\n",
      "|  2 |    3 |    4 |  -1 |\n",
      "|  3 |    4 |    0 |  -1 |\n",
      "|  4 |    0 |    1 |  -1 |\n",
      "[0.693 0.973 1.282]\n",
      "Accuracy =  1.0\n",
      "|    |   x1 |   x2 |   y |   Stump 1 |   Weight 1 |   Weight 2 |   Stump 2 |   Weight 3 |   Stump 3 |   Final |\n",
      "|----|------|------|-----|-----------|------------|------------|-----------|------------|-----------|---------|\n",
      "|  0 |    1 |    2 |   1 |         1 |        0.2 |      0.125 |         1 |  0.0714286 |        -1 |       1 |\n",
      "|  1 |    2 |    5 |   1 |         1 |        0.2 |      0.125 |         1 |  0.0714286 |         1 |       1 |\n",
      "|  2 |    3 |    4 |  -1 |        -1 |        0.2 |      0.125 |         1 |  0.5       |        -1 |      -1 |\n",
      "|  3 |    4 |    0 |  -1 |        -1 |        0.2 |      0.125 |        -1 |  0.0714286 |        -1 |      -1 |\n",
      "|  4 |    0 |    1 |  -1 |         1 |        0.2 |      0.5   |        -1 |  0.285714  |        -1 |      -1 |\n"
     ]
    },
    {
     "data": {
      "image/png": "[encoded data removed]",
      "text/plain": [
       "<Figure size 432x288 with 1 Axes>"
      ]
     },
     "metadata": {
      "needs_background": "light"
     },
     "output_type": "display_data"
    }
   ],
   "source": [
    "#Toy Dataset\n",
    "x1 = np.array([1, 2, 3, 4, 0])\n",
    "x2 = np.array([2, 5, 4, 0, 1])\n",
    "y = np.array([ 1, 1,-1, -1,-1])\n",
    "X = np.vstack((x1,x2)).T\n",
    "df = pd.DataFrame({'x1':x1, 'x2':x2, 'y':y})\n",
    "print(tabulate(df, headers=\"keys\",tablefmt=\"github\"))\n",
    "def adaboost_steps(df, L=1):\n",
    "    df['Stump 1']=-np.sign(x1-2.5).astype(int)\n",
    "    df['Weight 1'] = np.repeat(1/len(df), len(df))\n",
    "    e1 = df[df['Stump 1']*df['y']==-1]['Weight 1'].sum()\n",
    "\n",
    "    alpha1 = L*.5*np.log((1-e1)/e1)\n",
    "    alpha1\n",
    "    df['Weight 2'] = df['Weight 1']*np.exp(alpha1*(-df['y']*df['Stump 1']))\n",
    "    df['Weight 2'] = df['Weight 2']/sum(df['Weight 2'])\n",
    "    df\n",
    "\n",
    "    df['Stump 2']=np.sign(x2-1.5).astype(int)\n",
    "    \n",
    "    e2 = df[df['Stump 2']*df['y']==-1]['Weight 2'].sum()\n",
    "\n",
    "    alpha2 = L*.5*np.log((1-e2)/e2)\n",
    "    df['Weight 3'] = df['Weight 2']*np.exp(alpha2*(-df['y']*df['Stump 2']))\n",
    "    df['Weight 3'] = df['Weight 3']/sum(df['Weight 3'])\n",
    "\n",
    "    df['Stump 3']=np.sign(x2-4.5).astype(int)\n",
    "    e3 = df[df['Stump 3']*df['y']==-1]['Weight 3'].sum()\n",
    "\n",
    "    alpha3 = L*.5*np.log((1-e3)/e3)\n",
    "    \n",
    "    df['Final'] = np.sign(alpha1*df['Stump 1'] + alpha2*df['Stump 2'] + alpha3*df['Stump 3'] )\n",
    "    print(np.round([alpha1, alpha2, alpha3], 3))\n",
    "\n",
    "    return df\n",
    "\n",
    "adaboost_steps(df, L=1)\n",
    "\n",
    "round = 3\n",
    "L = 1\n",
    "\n",
    "estimator_list, estimator_weight_list, sample_weight_list  = AdaBoost_scratch(X,y, M=round, learning_rate = L)\n",
    "plot_AdaBoost_scratch_boundary(estimator_list, estimator_weight_list, X, y, N = 50 )\n",
    "\n",
    "print(tabulate(df, headers=\"keys\",tablefmt=\"github\"))"
   ]
  },
  {
   "cell_type": "markdown",
   "metadata": {},
   "source": [
    "## Exam 2 Problem "
   ]
  },
  {
   "cell_type": "code",
   "execution_count": 22,
   "metadata": {},
   "outputs": [
    {
     "name": "stdout",
     "output_type": "stream",
     "text": [
      "|    |   x1 |   x2 |   y |\n",
      "|----|------|------|-----|\n",
      "|  0 |    1 |   -1 |   1 |\n",
      "|  1 |    2 |    3 |  -1 |\n",
      "|  2 |    3 |    4 |   1 |\n",
      "|  3 |    4 |   -2 |  -1 |\n",
      "|  4 |    0 |    1 |  -1 |\n",
      "[0.2   0.25  0.167]\n",
      "[0.693 0.549 0.805]\n"
     ]
    },
    {
     "data": {
      "image/png": "[encoded data removed]",
      "text/plain": [
       "<Figure size 432x288 with 1 Axes>"
      ]
     },
     "metadata": {
      "needs_background": "light"
     },
     "output_type": "display_data"
    },
    {
     "name": "stdout",
     "output_type": "stream",
     "text": [
      "Accuracy =  1.0\n",
      "|    |   x1 |   x2 |   y |   Stump 1 |   Weight 1 |   Weight 2 |   Stump 2 |   Weight 3 |   Stump 3 |   Final |\n",
      "|----|------|------|-----|-----------|------------|------------|-----------|------------|-----------|---------|\n",
      "|  0 |    1 |   -1 |   1 |        -1 |        0.2 |      0.5   |         1 |  0.333333  |         1 |       1 |\n",
      "|  1 |    2 |    3 |  -1 |        -1 |        0.2 |      0.125 |         1 |  0.25      |        -1 |      -1 |\n",
      "|  2 |    3 |    4 |   1 |         1 |        0.2 |      0.125 |         1 |  0.0833333 |        -1 |       1 |\n",
      "|  3 |    4 |   -2 |  -1 |        -1 |        0.2 |      0.125 |        -1 |  0.0833333 |         1 |      -1 |\n",
      "|  4 |    0 |    1 |  -1 |        -1 |        0.2 |      0.125 |         1 |  0.25      |        -1 |      -1 |\n"
     ]
    },
    {
     "data": {
      "image/png": "[encoded data removed]",
      "text/plain": [
       "<Figure size 432x288 with 1 Axes>"
      ]
     },
     "metadata": {
      "needs_background": "light"
     },
     "output_type": "display_data"
    }
   ],
   "source": [
    "#Toy Dataset\n",
    "x1 = np.array([1, 2, 3, 4, 0])\n",
    "x2 = np.array([-1, 3, 4, -2, 1])\n",
    "y = np.array([ 1, -1,1, -1,-1])\n",
    "X = np.vstack((x1,x2)).T\n",
    "df = pd.DataFrame({'x1':x1, 'x2':x2, 'y':y})\n",
    "print(tabulate(df, headers=\"keys\",tablefmt=\"github\"))\n",
    "\n",
    "# Stump 1:  x2>3.5\n",
    "# Stump 2:  x1<3.5\n",
    "# Stump 3:  x2<0\n",
    "\n",
    "def adaboost_steps(df, L=1):\n",
    "    \n",
    "    # Stump 1:  x2>3.5\n",
    "    df['Stump 1']=np.sign(x2-3.5).astype(int)\n",
    "    df['Weight 1'] = np.repeat(1/len(df), len(df))\n",
    "    e1 = df[df['Stump 1']*df['y']==-1]['Weight 1'].sum()\n",
    "\n",
    "    alpha1 = L*.5*np.log((1-e1)/e1)\n",
    "    alpha1\n",
    "    df['Weight 2'] = df['Weight 1']*np.exp(alpha1*(-df['y']*df['Stump 1']))\n",
    "    df['Weight 2'] = df['Weight 2']/sum(df['Weight 2'])\n",
    "    \n",
    "    # Stump 2:  x1<3.5\n",
    "    df['Stump 2']=-np.sign(x1-3.5).astype(int)\n",
    "    \n",
    "    e2 = df[df['Stump 2']*df['y']==-1]['Weight 2'].sum()\n",
    "\n",
    "    alpha2 = L*.5*np.log((1-e2)/e2)\n",
    "    df['Weight 3'] = df['Weight 2']*np.exp(alpha2*(-df['y']*df['Stump 2']))\n",
    "    df['Weight 3'] = df['Weight 3']/sum(df['Weight 3'])\n",
    "\n",
    "    # Stump 3:  x2<0\n",
    "    df['Stump 3']=-np.sign(x2).astype(int)\n",
    "    e3 = df[df['Stump 3']*df['y']==-1]['Weight 3'].sum()\n",
    "\n",
    "    alpha3 = L*.5*np.log((1-e3)/e3)\n",
    "    \n",
    "    df['Final'] = np.sign(alpha1*df['Stump 1'] + alpha2*df['Stump 2'] + alpha3*df['Stump 3'] )\n",
    "    print(np.round([e1, e2, e3], 3))\n",
    "    print(np.round([alpha1, alpha2, alpha3], 3))\n",
    "    return df\n",
    "\n",
    "adaboost_steps(df, L=1)\n",
    "\n",
    "round = 3\n",
    "L = 1\n",
    "\n",
    "boost = AdaBoostClassifier( base_estimator = DecisionTreeClassifier(max_depth = 1, max_leaf_nodes=2), \n",
    "                            algorithm = 'SAMME',n_estimators=round, learning_rate=L)\n",
    "boost.fit(X,y)\n",
    "plot_decision_boundary(boost, X,y, N = 50)#, weights)\n",
    "plt.show()\n",
    "\n",
    "\n",
    "estimator_list, estimator_weight_list, sample_weight_list  = AdaBoost_scratch(X,y, M=round, learning_rate = L)\n",
    "plot_AdaBoost_scratch_boundary(estimator_list, estimator_weight_list, X, y, N = 50 )\n",
    "\n",
    "print(tabulate(df, headers=\"keys\",tablefmt=\"github\"))"
   ]
  },
  {
   "cell_type": "code",
   "execution_count": 8,
   "metadata": {},
   "outputs": [],
   "source": [
    "x1 = np.array([1, 1, 2, 2, 3, 3, 3, 4, 5, 5])\n",
    "x2 = np.array([1, 3, 2, 4, 1, 2, 5, 4,   2, 5])\n",
    "y = np.array([ 1, 1,-1, 1,-1, -1, 1, 1,  -1,-1])\n",
    "X = np.vstack((x1,x2)).T\n",
    "df = pd.DataFrame({'x1':x1, 'x2':x2, 'y':y})"
   ]
  },
  {
   "cell_type": "code",
   "execution_count": 16,
   "metadata": {},
   "outputs": [
    {
     "data": {
      "image/png": "[encoded data removed]",
      "text/plain": [
       "<Figure size 432x288 with 1 Axes>"
      ]
     },
     "metadata": {},
     "output_type": "display_data"
    }
   ],
   "source": [
    "ax = plt.gca()\n",
    "cm_bright = ListedColormap(['#FF0000', '#0000FF'])\n",
    "scatter_weights = np.ones(len(y))\n",
    "ax.scatter(X[:,0],X[:,1], c = y, cmap = cm_bright, s = scatter_weights* 40)\n",
    "ax.set_xlabel('$X_1$')\n",
    "ax.set_ylabel('$X_2$')\n",
    "plt.savefig('ada_scatter.png')"
   ]
  },
  {
   "cell_type": "code",
   "execution_count": 15,
   "metadata": {},
   "outputs": [
    {
     "name": "stdout",
     "output_type": "stream",
     "text": [
      "Accuracy =  1.0\n"
     ]
    },
    {
     "data": {
      "image/png": "[encoded data removed]",
      "text/plain": [
       "<Figure size 432x288 with 1 Axes>"
      ]
     },
     "metadata": {},
     "output_type": "display_data"
    }
   ],
   "source": [
    "estimator_list, estimator_weight_list, sample_weight_list  = AdaBoost_scratch(X,y, M=round, learning_rate = L)\n",
    "plot_AdaBoost_scratch_boundary(estimator_list, estimator_weight_list, X, y, N = 50 )"
   ]
  },
  {
   "cell_type": "code",
   "execution_count": null,
   "metadata": {},
   "outputs": [],
   "source": []
  }
 ],
 "metadata": {
  "kernelspec": {
   "display_name": "Python 3",
   "language": "python",
   "name": "python3"
  },
  "language_info": {
   "codemirror_mode": {
    "name": "ipython",
    "version": 3
   },
   "file_extension": ".py",
   "mimetype": "text/x-python",
   "name": "python",
   "nbconvert_exporter": "python",
   "pygments_lexer": "ipython3",
   "version": "3.7.6"
  }
 },
 "nbformat": 4,
 "nbformat_minor": 4
}
