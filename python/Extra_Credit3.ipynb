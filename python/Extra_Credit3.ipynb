{
 "cells": [
  {
   "cell_type": "markdown",
   "id": "eadd0230-0564-44a4-b678-04ca65d73ad6",
   "metadata": {},
   "source": [
    "# Extra Credit 3\n",
    "\n",
    "- Do the practice sections at these two notebooks: [Classification](https://bryantstats.github.io/math460/python/gb_classification.html) and [Regression](https://bryantstats.github.io/math460/python/gb_regression.html)\n",
    "- Export the notebook to html (File -> Save and Export Notebook As -> HTML) then submit the Canvas"
   ]
  }
 ],
 "metadata": {
  "kernelspec": {
   "display_name": "Python 3",
   "language": "python",
   "name": "python3"
  },
  "language_info": {
   "codemirror_mode": {
    "name": "ipython",
    "version": 3
   },
   "file_extension": ".py",
   "mimetype": "text/x-python",
   "name": "python",
   "nbconvert_exporter": "python",
   "pygments_lexer": "ipython3",
   "version": "3.9.12"
  }
 },
 "nbformat": 4,
 "nbformat_minor": 5
}
