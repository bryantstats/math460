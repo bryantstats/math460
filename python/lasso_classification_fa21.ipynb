{
 "cells": [
  {
   "cell_type": "markdown",
   "metadata": {},
   "source": [
    "# LASSO vs. Losgistic Regression in Classification\n",
    "\n",
    "[Notebook](lasso_classification_fa21.ipynb)\n",
    "\n"
   ]
  },
  {
   "cell_type": "markdown",
   "metadata": {},
   "source": [
    "## 1. Titanic \n",
    "#### a. Logistic Regression"
   ]
  },
  {
   "cell_type": "code",
   "execution_count": 1,
   "metadata": {},
   "outputs": [],
   "source": [
    "import pandas as pd\n",
    "import numpy as np\n",
    "np.random.seed(12356)\n",
    "df = pd.read_csv('titanic.csv')\n",
    "\n",
    "# Remove all missing values\n",
    "df = df.dropna()\n",
    "\n",
    "# Assign input variables\n",
    "X = df.loc[:,['Pclass','Sex','Age','Fare','Embarked','SibSp','Parch']]\n",
    "\n",
    "# Assign target variable\n",
    "y = df['Survived']\n",
    "\n",
    "# Encode categorical variable\n",
    "X = pd.get_dummies(X)"
   ]
  },
  {
   "cell_type": "code",
   "execution_count": 2,
   "metadata": {},
   "outputs": [
    {
     "name": "stdout",
     "output_type": "stream",
     "text": [
      "Logistic Regression's Testing Accuracy:  0.7454545454545455\n"
     ]
    }
   ],
   "source": [
    "# Standardize Data\n",
    "from sklearn.preprocessing import StandardScaler\n",
    "scaler = StandardScaler()\n",
    "  \n",
    "# transform data\n",
    "col_names = X.columns\n",
    "X = scaler.fit_transform(X)\n",
    "X = pd.DataFrame(X)\n",
    "X.columns = col_names\n",
    "\n",
    "from sklearn.model_selection import train_test_split\n",
    "\n",
    "x_train,x_test,y_train,y_test=train_test_split(X,y,test_size=0.3)\n",
    "from sklearn.linear_model import LogisticRegression\n",
    "\n",
    "model1 = LogisticRegression()\n",
    "model1.fit(x_train, y_train)\n",
    "# Accuracry on test data\n",
    "print(\"Logistic Regression's Testing Accuracy: \", model1.score(x_test, y_test))\n",
    "\n",
    "coef1 = pd.DataFrame({'Variable':x_train.columns, \n",
    "                     'Coef':model1.coef_.reshape(x_train.columns.shape[0],),\n",
    "                      'Model': 'Logistic Regression',\n",
    "                      'Data': 'Original'\n",
    "                    })"
   ]
  },
  {
   "cell_type": "markdown",
   "metadata": {},
   "source": [
    "#### b. LASSO"
   ]
  },
  {
   "cell_type": "code",
   "execution_count": 3,
   "metadata": {},
   "outputs": [
    {
     "name": "stdout",
     "output_type": "stream",
     "text": [
      "LASSO's Testing Accuracy:  0.7454545454545455\n"
     ]
    }
   ],
   "source": [
    "alpha=.5\n",
    "\n",
    "import matplotlib.pyplot as plt\n",
    "import seaborn as sns\n",
    "from sklearn.linear_model import SGDClassifier\n",
    "sns.set(style=\"white\")\n",
    "model2 = SGDClassifier(loss='log', penalty='elasticnet', alpha=.01, l1_ratio=1)\n",
    "model2.fit(x_train, y_train)\n",
    "\n",
    "print(\"LASSO's Testing Accuracy: \", model2.score(x_test, y_test))\n",
    "\n",
    "coef2 = pd.DataFrame({'Variable':x_train.columns, \n",
    "                     'Coef':model2.coef_.reshape(x_train.columns.shape[0],),\n",
    "                      'Model': 'Logistic Regression',\n",
    "                      'Data': 'Original'\n",
    "                    })"
   ]
  },
  {
   "cell_type": "markdown",
   "metadata": {},
   "source": [
    "#### c. Coefficients"
   ]
  },
  {
   "cell_type": "code",
   "execution_count": 4,
   "metadata": {},
   "outputs": [
    {
     "data": {
      "text/html": [
       "<div>\n",
       "<style scoped>\n",
       "    .dataframe tbody tr th:only-of-type {\n",
       "        vertical-align: middle;\n",
       "    }\n",
       "\n",
       "    .dataframe tbody tr th {\n",
       "        vertical-align: top;\n",
       "    }\n",
       "\n",
       "    .dataframe thead th {\n",
       "        text-align: right;\n",
       "    }\n",
       "</style>\n",
       "<table border=\"1\" class=\"dataframe\">\n",
       "  <thead>\n",
       "    <tr style=\"text-align: right;\">\n",
       "      <th></th>\n",
       "      <th>Variable</th>\n",
       "      <th>Linear Model</th>\n",
       "      <th>LASSO</th>\n",
       "    </tr>\n",
       "  </thead>\n",
       "  <tbody>\n",
       "    <tr>\n",
       "      <th>0</th>\n",
       "      <td>Pclass</td>\n",
       "      <td>-0.479559</td>\n",
       "      <td>-0.474349</td>\n",
       "    </tr>\n",
       "    <tr>\n",
       "      <th>1</th>\n",
       "      <td>Age</td>\n",
       "      <td>-0.567665</td>\n",
       "      <td>-0.470222</td>\n",
       "    </tr>\n",
       "    <tr>\n",
       "      <th>2</th>\n",
       "      <td>Fare</td>\n",
       "      <td>-0.027017</td>\n",
       "      <td>0.000000</td>\n",
       "    </tr>\n",
       "    <tr>\n",
       "      <th>3</th>\n",
       "      <td>SibSp</td>\n",
       "      <td>0.134773</td>\n",
       "      <td>0.000000</td>\n",
       "    </tr>\n",
       "    <tr>\n",
       "      <th>4</th>\n",
       "      <td>Parch</td>\n",
       "      <td>-0.109295</td>\n",
       "      <td>0.000000</td>\n",
       "    </tr>\n",
       "    <tr>\n",
       "      <th>5</th>\n",
       "      <td>Sex_female</td>\n",
       "      <td>0.715005</td>\n",
       "      <td>0.662340</td>\n",
       "    </tr>\n",
       "    <tr>\n",
       "      <th>6</th>\n",
       "      <td>Sex_male</td>\n",
       "      <td>-0.715005</td>\n",
       "      <td>-0.662340</td>\n",
       "    </tr>\n",
       "    <tr>\n",
       "      <th>7</th>\n",
       "      <td>Embarked_C</td>\n",
       "      <td>0.146361</td>\n",
       "      <td>0.128287</td>\n",
       "    </tr>\n",
       "    <tr>\n",
       "      <th>8</th>\n",
       "      <td>Embarked_Q</td>\n",
       "      <td>0.122903</td>\n",
       "      <td>0.000000</td>\n",
       "    </tr>\n",
       "    <tr>\n",
       "      <th>9</th>\n",
       "      <td>Embarked_S</td>\n",
       "      <td>-0.171922</td>\n",
       "      <td>-0.235345</td>\n",
       "    </tr>\n",
       "  </tbody>\n",
       "</table>\n",
       "</div>"
      ],
      "text/plain": [
       "     Variable  Linear Model     LASSO\n",
       "0      Pclass     -0.479559 -0.474349\n",
       "1         Age     -0.567665 -0.470222\n",
       "2        Fare     -0.027017  0.000000\n",
       "3       SibSp      0.134773  0.000000\n",
       "4       Parch     -0.109295  0.000000\n",
       "5  Sex_female      0.715005  0.662340\n",
       "6    Sex_male     -0.715005 -0.662340\n",
       "7  Embarked_C      0.146361  0.128287\n",
       "8  Embarked_Q      0.122903  0.000000\n",
       "9  Embarked_S     -0.171922 -0.235345"
      ]
     },
     "execution_count": 4,
     "metadata": {},
     "output_type": "execute_result"
    }
   ],
   "source": [
    "coef = pd.concat([coef1, coef2], ignore_index=True, axis=1)\n",
    "coef = coef.drop([2, 3, 4, 6, 7], axis=1)\n",
    "coef.columns = ['Variable','Linear Model', 'LASSO']\n",
    "coef"
   ]
  },
  {
   "cell_type": "markdown",
   "metadata": {},
   "source": [
    "## 2. Practice\n",
    "\n",
    "Use the breast cancer dataset ([link](https://bryantstats.github.io/math460/python/breast_cancer.csv))\n",
    "\n",
    " - Split the data 80:20 for training and testing\n",
    " - Calculate the testing Accuracy of linear model and show the coefficients of the models\n",
    " - Calculate the testing Accuracy of LASSO model with alpha = 1. Show the coefficients of the LASSO. Do you observe any variables no longer has effect in the LASSO model?\n",
    " - Change the value of alpha in the LASSO and observe the Accuracy of LASSO. Give your comments.\n",
    " - Plot the coefficients of linear model and LASSO.\n",
    "\n"
   ]
  },
  {
   "cell_type": "code",
   "execution_count": null,
   "metadata": {},
   "outputs": [],
   "source": []
  }
 ],
 "metadata": {
  "kernelspec": {
   "display_name": "Python 3 (ipykernel)",
   "language": "python",
   "name": "python3"
  },
  "language_info": {
   "codemirror_mode": {
    "name": "ipython",
    "version": 3
   },
   "file_extension": ".py",
   "mimetype": "text/x-python",
   "name": "python",
   "nbconvert_exporter": "python",
   "pygments_lexer": "ipython3",
   "version": "3.11.5"
  }
 },
 "nbformat": 4,
 "nbformat_minor": 4
}
